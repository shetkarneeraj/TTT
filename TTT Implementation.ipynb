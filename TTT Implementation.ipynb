{
 "cells": [
  {
   "cell_type": "markdown",
   "id": "4ad2ba0b",
   "metadata": {},
   "source": [
    "# Introduction to the TTT Algorithm and Its Implementation for Inferring Input Grammars of Blackbox Programs in Python\n",
    "\n",
    "This tutorial will cover the introduction to the TTT algorithm and its implementation for inferring input grammars of blackbox programs in Python. The Python interpreter is embedded so that you can work through the implementation steps. In many previous posts, I have discussed how to parse with, fuzz with, and manipulate regular and context-free grammars. However, in many cases, such grammars may be unavailable. If you are given a blackbox program, where the program indicates in some way that the input was accepted or not, what can we do to learn the actual input specification of the blackbox? In such cases, the best option is to try and learn the input specification. This particular research field which investigates how to learn the input specification of blackbox programs is called blackbox grammar inference. In this tutorial we’ll discuss how the L* algorithm works, what are the inefficiencies in an algorithm and how TTT helps in overcoming them.\n",
    "The TTT algorithm, a novel approach introduced by Malte Isberner, Falk Howar, and Bernhard Steffen in 2014. TTT addresses limitations of Angluin’s L* algorithm by eliminating redundant information, achieving optimal space complexity, and excelling in scenarios with complex systems.\n",
    "## What is Active Automata Learning?\n",
    "Active automata learning involves constructing a DFA that represents a system’s behavior by querying it. The learner operates in the Minimally Adequate Teacher (MAT) framework. The teacher is \"minimally adequate\" because it provides just enough information for the learner to infer the correct DFA. The goal is to minimize the number of queries while constructing an accurate model. Algorithms like L* and TTT operate within this framework, differing in how they process queries and counterexamples to build the DFA.\n",
    "The goal is to build a DFA that accepts the same language as the system with minimal queries. L* The seminal algorithm in this field uses an observation table to store query results, but its quadratic space complexity and redundant processing of counterexamples can be problematic. TTT overcomes these issues with a tree-based approach and clever counterexample analysis.\n",
    "## Comparison with L*\n",
    "L*, the seminal algorithm in this field, uses an observation table to store query results, but its quadratic space complexity and redundant processing of counterexamples can be problematic. TTT overcomes these issues with a tree-based approach and clever counterexample analysis.\n",
    "| Feature | L* Algorithm | TTT Algorithm |\n",
    "|---------|-------------|---------------|\n",
    "| Data Structure | Observation Table | Discrimination Tree |\n",
    "| Space Complexity | O(n²) | O(n) |\n",
    "| Counterexample Processing | Table reconstruction | Direct tree updates |\n",
    "| Redundancy | High | Minimal |\n",
    "## Symbols\n",
    "-  **Q** → Set of all finite states\n",
    "-  **Σ (Sigma)** → Input alphabet (set of allowed symbols).\n",
    "-  **δ (Delta)** → Transition function, which determines movement between states.\n",
    "-  **q₀** → Start state (initial state).\n",
    "-  **F** → Set of final (accepting) states. Multiple final states are possible.\n",
    "-  **F ⊆ Q** → Final states are a subset of total states.\n",
    "## Key Definitions\n",
    "To understand the TTT algorithm and its advantages, here are definitions of key terms used in this article:\n",
    "-  **Membership Query (MQ)**: A query in the MAT framework where the learner asks the teacher whether a specific word w ∈ Σ* is accepted by the target DFA, receiving a boolean response (true if w is accepted, false otherwise).\n",
    "-  **Equivalence Query (EQ)**: A query in the MAT framework where the learner proposes a hypothesis DFA and asks the teacher if it is equivalent to the target DFA. If not, the teacher provides a counterexample `a` word w where the hypothesis and target DFA produce different outputs.\n",
    "-  **Counterexample**: A word w ∈ Σ* provided by the teacher in response to an equivalence query, where the hypothesis DFA H and the target DFA A disagree, i.e., λ<sub>H</sub>(w) ≠ λ<sub>A</sub>(w), where λ denotes the acceptance function.\n",
    "-  **Discrimination Tree (DT)**: A binary tree used by TTT to organize state-distinguishing information. Inner nodes are labeled with discriminators (words that distinguish states by producing different outputs), and leaves represent states in the hypothesis DFA.\n",
    "-  **RS Decomposition**: A technique used by TTT to process counterexamples by decomposing them into a prefix u, a single action a, and a suffix v such that u and u . a lead to different states in the target DFA but the same state in the hypothesis, with v revealing the discrepancy.\n",
    "-  **Discriminator Finalization**: A process in TTT where temporary discriminators (added during counterexample processing) are replaced with shorter, final discriminators to eliminate redundancy and reduce the length of future queries.\n",
    "-  **Canonical DFA**: A DFA A is canonical (i.e., minimal) if:\n",
    "\t-  **Reachability**: For all states q<sub>A</sub>, there exists a word u ∈ Σ* such that A[u] = q i.e., all states are reachable from the initial state.\n",
    "\t-  **Separability**: For all distinct states q ≠ q' ∈ q<sub>A</sub>, there exists a word v ∈ Σ* such that λ<sub>A</sub>(q, v) ≠ λ<sub>A</sub>(q', v) (i.e., all states are pairwisely separable, and v is called a separator). It is well-known that canonical DFAs are unique up to isomorphism.\n",
    "## Setup"
   ]
  },
  {
   "cell_type": "code",
   "execution_count": null,
   "id": "50ec1b7d",
   "metadata": {},
   "outputs": [],
   "source": [
    "from __future__ import annotations\n",
    "\n",
    "import math\n",
    "import random\n",
    "import re\n",
    "import sys\n",
    "from collections import defaultdict, deque\n",
    "from copy import deepcopy\n",
    "from functools import lru_cache\n",
    "from inspect import currentframe, getframeinfo, signature\n",
    "from itertools import chain, combinations, product\n",
    "from pathlib import Path\n",
    "from pprint import pprint\n",
    "from typing import (Callable, Generator, Generic, Literal, Optional, Pattern,\n",
    "                    Protocol, Self, TypeVar, Union, TYPE_CHECKING)\n",
    "\n",
    "from graphviz import Digraph\n",
    "import networkx as nx\n",
    "import matplotlib.pyplot as plt\n",
    "from IPython.display import Markdown, display, Image\n",
    "\n",
    "# --- print.py ---\n",
    "# This section is for debugging and has been re-enabled to provide verbose output.\n",
    "print = __builtins__.print\n",
    "\n",
    "\n",
    "# --- dfa.py ---\n",
    "EMPTYSET = \"\\u2205\"\n",
    "EPSILON = \"\\u03b5\"\n",
    "ALPHABET = \"ab\"\n",
    "EXTENDED_ALPHABET = f\"ab{EPSILON}\"\n",
    "T = TypeVar(\"T\")\n",
    "S = TypeVar(\"S\")"
   ]
  },
  {
   "cell_type": "markdown",
   "id": "6c812ee5",
   "metadata": {},
   "source": [
    "## Automaton Protocol Description\n",
    "\n",
    "The `Automaton` class is a generic protocol that defines the interface for finite automata, such as Nondeterministic Finite Automata (NFA) or Deterministic Finite Automata (DFA). It uses Python's `typing.Protocol` and `typing.Generic` to specify a flexible structure where the type of states (`T`) and the type of transition tables (`S`) can vary depending on the automaton implementation (e.g., `set[int]` for NFA transitions, `int` for DFA transitions). This protocol ensures that any implementing class provides the necessary attributes and methods to represent and operate on a finite automaton.\n",
    "\n",
    "### Attributes\n",
    "\n",
    "- **start: T**\n",
    "  - The starting state of the automaton, of type `T` (e.g., an integer for state IDs).\n",
    "  - Represents the initial state from which evaluation of input strings begins.\n",
    "\n",
    "- **states: set[T]**\n",
    "  - A set of all states in the automaton, each of type `T`.\n",
    "  - Contains all valid state identifiers, including the start state and final states.\n",
    "\n",
    "- **final: set[T]**\n",
    "  - A set of final (accepting) states, each of type `T`.\n",
    "  - Determines which states indicate that an input string is accepted by the automaton.\n",
    "\n",
    "- **transitions: dict[T, S]**\n",
    "  - A dictionary mapping each state (of type `T`) to its transition table (of type `S`).\n",
    "  - The transition table defines the possible transitions from a state on given input symbols. For an NFA, `S` is typically `dict[str, set[int]]` (mapping symbols to sets of target states). For a DFA, `S` is typically `dict[str, int]` (mapping symbols to a single target state)."
   ]
  },
  {
   "cell_type": "code",
   "execution_count": 840,
   "id": "4b61976d",
   "metadata": {},
   "outputs": [],
   "source": [
    "# Base definition\n",
    "class _AutomatonBase(Protocol, Generic[T, S]):\n",
    "    \"\"\"\n",
    "    T: type of a state\n",
    "    S: type of a state's transition table\n",
    "    \"\"\"\n",
    "    start: T\n",
    "    states: set[T]\n",
    "    final: set[T]\n",
    "    transitions: dict[T, S]"
   ]
  },
  {
   "cell_type": "markdown",
   "id": "9a89b9bb",
   "metadata": {},
   "source": [
    "### Methods\n",
    "\n",
    "#### `add_state(self, transitions: S) -> None`\n",
    "Adds a new state to the automaton with the specified transition table.\n",
    "\n",
    "- **Parameters**:\n",
    "  - `transitions`: The transition table for the new state, of type `S` (e.g., a dictionary mapping input symbols to target states).\n",
    "- **Returns**: None\n",
    "- **Behavior**: Creates a new state, adds it to the `states` set, and associates the provided transitions with it in the `transitions` dictionary. The specific implementation depends on the automaton type (e.g., assigning a new state ID for NFA or DFA)."
   ]
  },
  {
   "cell_type": "code",
   "execution_count": 841,
   "id": "a0b30077",
   "metadata": {},
   "outputs": [],
   "source": [
    "# Add state\n",
    "class _AutomatonAddState(_AutomatonBase, Protocol):\n",
    "    def add_state(self, transitions: S) -> None:\n",
    "        ..."
   ]
  },
  {
   "cell_type": "markdown",
   "id": "c85b0289",
   "metadata": {},
   "source": [
    "\n",
    "#### `make_final(self, state: T) -> None`\n",
    "Marks a specified state as a final (accepting) state.\n",
    "\n",
    "- **Parameters**:\n",
    "  - `state`: The state to mark as final, of type `T`.\n",
    "- **Returns**: None\n",
    "- **Behavior**: Verifies that the state exists in the `states` set and adds it to the `final` set. This indicates that if the automaton reaches this state after processing an input string, the string is accepted."
   ]
  },
  {
   "cell_type": "code",
   "execution_count": 842,
   "id": "a8797e46",
   "metadata": {},
   "outputs": [],
   "source": [
    "# Make final\n",
    "class _AutomatonMakeFinal(_AutomatonBase, Protocol):\n",
    "    def make_final(self, state: T) -> None:\n",
    "        assert state in self.states\n",
    "        self.final.add(state)"
   ]
  },
  {
   "cell_type": "markdown",
   "id": "60c05d23",
   "metadata": {},
   "source": [
    "#### `update(self, state: T, transitions: S) -> None`\n",
    "Updates the transition table for a specified state.\n",
    "\n",
    "- **Parameters**:\n",
    "  - `state`: The state whose transitions are to be updated, of type `T`.\n",
    "  - `transitions`: The new transition table for the state, of type `S`.\n",
    "- **Returns**: None\n",
    "- **Behavior**: Replaces the existing transitions for the specified state with the provided transition table in the `transitions` dictionary. This allows modifying the behavior of a state without creating a new one."
   ]
  },
  {
   "cell_type": "code",
   "execution_count": 843,
   "id": "17a32138",
   "metadata": {},
   "outputs": [],
   "source": [
    "# Update\n",
    "class _AutomatonUpdate(_AutomatonBase, Protocol):\n",
    "    def update(self, state: T, transitions: S) -> None:\n",
    "        self.transitions[state] = transitions"
   ]
  },
  {
   "cell_type": "markdown",
   "id": "2e348086",
   "metadata": {},
   "source": [
    "#### `evaluate(self, s: str) -> bool`\n",
    "Evaluates whether the automaton accepts the input string.\n",
    "\n",
    "- **Parameters**:\n",
    "  - `s`: The input string to evaluate.\n",
    "- **Returns**: `bool` indicating whether the string is accepted (True if the automaton reaches a final state, False otherwise).\n",
    "- **Behavior**: Processes the input string by following transitions from the start state according to the input symbols. For an NFA, this involves tracking multiple current states due to nondeterminism. For a DFA, it follows a single path. The method returns True if the final state(s) reached are in the `final` set."
   ]
  },
  {
   "cell_type": "code",
   "execution_count": 844,
   "id": "c980980b",
   "metadata": {},
   "outputs": [],
   "source": [
    "# Evaluate\n",
    "class _AutomatonEvaluate(_AutomatonBase, Protocol):\n",
    "    def evaluate(self, s: str) -> bool:\n",
    "        ..."
   ]
  },
  {
   "cell_type": "code",
   "execution_count": 845,
   "id": "899eebf0",
   "metadata": {},
   "outputs": [],
   "source": [
    "# Final public class\n",
    "class Automaton(\n",
    "    _AutomatonAddState,\n",
    "    _AutomatonMakeFinal,\n",
    "    _AutomatonUpdate,\n",
    "    _AutomatonEvaluate,\n",
    "    Protocol,\n",
    "    Generic[T, S]\n",
    "):\n",
    "    pass\n"
   ]
  },
  {
   "cell_type": "markdown",
   "id": "6684f786",
   "metadata": {},
   "source": [
    "### NFA Class Description\n",
    "The `NFA` class is a concrete implementation of the `Automaton` protocol, specialized for Nondeterministic Finite Automata. It handles integer states (`T=int`) and transition tables that map input symbols to a set of possible next states (`S=dict[str, set[int]]`). The class provides methods for constructing, manipulating, and evaluating NFAs, including converting them to a DFA."
   ]
  },
  {
   "cell_type": "markdown",
   "id": "813c365f",
   "metadata": {},
   "source": [
    "### Methods\n",
    "\n",
    "##### `__init__(self) -> None`\n",
    "Initializes a new `NFA` object.\n",
    "\n",
    "- **Parameters**: None\n",
    "- **Returns**: None\n",
    "- **Behavior**: Sets up a new NFA with a single starting state (ID `0`), an empty set of final states, and an empty transition dictionary. The `next_state` counter is initialized to `1` to prepare for adding new states."
   ]
  },
  {
   "cell_type": "code",
   "execution_count": 846,
   "id": "cf66d6f0",
   "metadata": {},
   "outputs": [],
   "source": [
    "class NFA(Automaton[int, dict[str, set[int]]]):\n",
    "    next_state: int\n",
    "\n",
    "    def __init__(self) -> None:\n",
    "        self.transitions = {}\n",
    "        self.start = 0\n",
    "        self.states = {self.start}\n",
    "        self.final = set()\n",
    "        self.next_state = 1"
   ]
  },
  {
   "cell_type": "markdown",
   "id": "159d63e9",
   "metadata": {},
   "source": [
    "#### `add_state(self, transitions: dict[str, set[int]]) -> None`\n",
    "Adds a new state to the NFA with the given transitions.\n",
    "- **Parameters**:\n",
    "  - `transitions`: A dictionary mapping input symbols to sets of target states.\n",
    "- **Returns**: None\n",
    "- **Behavior**: Assigns a new state ID (`self.next_state`), adds this ID to the `states` set, and registers the provided transitions. It then increments the `next_state` counter."
   ]
  },
  {
   "cell_type": "code",
   "execution_count": 847,
   "id": "447e2acb",
   "metadata": {},
   "outputs": [],
   "source": [
    "class NFA(NFA):\n",
    "    def add_state(self, transitions: dict[str, set[int]]) -> None:\n",
    "        display(Markdown(f\"# Adding State\\n## State: {self.next_state}\\n## Transitions: {transitions}\"))\n",
    "        self.states.add(self.next_state)\n",
    "        self.transitions[self.next_state] = transitions\n",
    "        self.next_state += 1"
   ]
  },
  {
   "cell_type": "markdown",
   "id": "3c83b4b9",
   "metadata": {},
   "source": [
    "#### `evaluate(self, s: str) -> bool`\n",
    "Evaluates a string to determine if it's accepted by the NFA.\n",
    "\n",
    "- **Parameters**:\n",
    "  - `s`: The input string to be evaluated.\n",
    "- **Returns**: `bool` indicating if the string is accepted.\n",
    "- **Behavior**: Simulates the NFA's behavior on the input string. It maintains a set of all possible \"current\" states due to the nondeterministic nature of the automaton. For each character in the input, it computes the union of all possible next states from the current set of states. The string is accepted if any of the final states are in the set of current states after processing the entire string."
   ]
  },
  {
   "cell_type": "code",
   "execution_count": 848,
   "id": "7c977191",
   "metadata": {},
   "outputs": [],
   "source": [
    "class NFA(NFA):\n",
    "    def evaluate(self, s: str) -> bool:\n",
    "        display(Markdown(f\"## Evaluating NFA on input: `{s}`\"))\n",
    "        curr = {self.start}\n",
    "        for c in s:\n",
    "            curr = set().union(*(self.transitions[state].get(c, set()) for state in curr))\n",
    "        return len(curr & self.final) > 0"
   ]
  },
  {
   "cell_type": "markdown",
   "id": "6d351c6d",
   "metadata": {},
   "source": [
    "### `insert(self, state: int, nfa: NFA) -> None`\n",
    "\n",
    "The `insert` method is a key component for building complex NFAs from simpler ones, a core part of Thompson's construction. This method takes a smaller NFA (`nfa`) and integrates it into the larger, existing NFA (`self`) at a specific state (`state`). The goal is to effectively replace a single state in the main NFA with the entire sub-NFA, while properly handling state IDs and transitions.\n",
    "\n",
    "The process can be broken down into these key steps:\n",
    "\n",
    "**1. State ID Management**\n",
    "\n",
    "- **Offsetting States**: The method first re-maps the state IDs of the incoming NFA to avoid conflicts with the main NFA's existing states. It determines a new range of IDs for the sub-NFA by using an **offset**, which is the current `next_state` counter of the main NFA. For example, if the main NFA has states `0, 1, 2` and the incoming NFA has states `0, 1`, they are mapped to `3, 4` in the main NFA, respectively. This is crucial for maintaining unique state identifiers.\n",
    "\n",
    "**2. Handling Final States**\n",
    "\n",
    "- **Adjusting Final States**: The method checks if the insertion point (`state`) in the main NFA is a final state.\n",
    "    - If the inserted NFA accepts the empty string (i.e., its start state `0` is a final state), then the original insertion state (`state`) remains a final state.\n",
    "    - If the inserted NFA doesn't accept the empty string, the original insertion state is no longer final because a path must now pass through the inserted NFA to be accepted.\n",
    "    - All final states from the inserted NFA are also re-mapped with the same offset and added to the main NFA's `final` set.\n",
    "\n",
    "**3. Merging Transitions**\n",
    "\n",
    "- **Relocating Transitions**: The transitions of the inserted NFA are updated to reflect their new state IDs. For example, a transition `0 -> 1` in the sub-NFA becomes `3 -> 4` in the main NFA.\n",
    "- **Handling Insertion Point Transitions**: This is the most complex part of the function. The transitions from the insertion point (`state`) in the main NFA must be merged with the transitions of the inserted NFA.\n",
    "    - If the inserted NFA accepts the empty string (state `0` is final), then the main NFA's transitions from `state` must be merged with the transitions from the inserted NFA's state `0`.\n",
    "    - If the inserted NFA does **not** accept the empty string, the transitions from the inserted NFA's state `0` replace the transitions of the original `state`.\n",
    "- **Merging Final State Transitions**: If the inserted NFA has final states (other than the start state), their transitions are merged with the transitions of the original insertion point (`state`). This creates a loop-like behavior, connecting the end of the inserted NFA back to the beginning of the path represented by `state`.\n",
    "\n",
    "**4. Finalizing the NFA**\n",
    "\n",
    "- **Combining Transitions**: The new and old transitions are combined into a single transition dictionary.\n",
    "- **Updating Counters**: Finally, the `next_state` counter is updated to reflect the total number of states after the insertion. This prepares the NFA for future insertions."
   ]
  },
  {
   "cell_type": "code",
   "execution_count": 849,
   "id": "2b3b7fa8",
   "metadata": {},
   "outputs": [],
   "source": [
    "class NFA(NFA):\n",
    "    def insert(self, state: int, nfa: NFA) -> None:\n",
    "        display(Markdown(f\"# Inserting NFA\\n## Into State: {state}\\n## NFA States: {nfa.states}\\n## NFA Transitions: {nfa.transitions}\"))\n",
    "        self.states |= set(range(self.next_state, self.next_state + nfa.next_state - 1))\n",
    "\n",
    "        if state in self.final:\n",
    "            display(Markdown(f\"[DEBUG NFA.insert] State {state} is final, adjusting final states\"))\n",
    "            if 0 not in nfa.final:\n",
    "                self.final.remove(state)\n",
    "            self.final |= {s + self.next_state - 1 for s in nfa.final - {0}}\n",
    "\n",
    "        nfa.transitions = {\n",
    "            s: {\n",
    "                char: set(map(lambda t: t + self.next_state - 1, targets))\n",
    "                for char, targets in transitions.items()\n",
    "            }\n",
    "            for s, transitions in nfa.transitions.items()\n",
    "        }\n",
    "\n",
    "        new_transitions = {}\n",
    "        for s in range(1, nfa.next_state):\n",
    "            actual_state = s + self.next_state - 1\n",
    "            if s in nfa.final:\n",
    "                display(Markdown(f\"[DEBUG NFA.insert] Merging transitions for final state {s} -> {actual_state}\"))\n",
    "                new_transitions[actual_state] = self.join_transitions(\n",
    "                    nfa.transitions[s], self.transitions.get(state, {})\n",
    "                )\n",
    "            else:\n",
    "                new_transitions[actual_state] = nfa.transitions[s]\n",
    "\n",
    "        if 0 in nfa.final:\n",
    "            display(Markdown(f\"[DEBUG NFA.insert] Merging transitions for state 0 (final) into state {state}\"))\n",
    "            new_transitions[state] = self.join_transitions(\n",
    "                nfa.transitions[0], self.transitions.get(state, {})\n",
    "            )\n",
    "        else:\n",
    "            new_transitions[state] = nfa.transitions[0]\n",
    "\n",
    "        print(f\"[DEBUG NFA.insert] New transitions: {new_transitions}\")\n",
    "        self.transitions = {**self.transitions, **new_transitions}\n",
    "        self.next_state += nfa.next_state - 1\n",
    "        print(f\"[DEBUG NFA.insert] Updated next_state: {self.next_state}\")\n"
   ]
  },
  {
   "cell_type": "markdown",
   "id": "63641ef5",
   "metadata": {},
   "source": [
    "#### `join_transitions(self, a: dict[str, set[int]], b: dict[str, set[int]]) -> dict[str, set[int]]`\n",
    "Merges two transition dictionaries.\n",
    "\n",
    "- **Parameters**:\n",
    "  - `a`: The first transition dictionary.\n",
    "  - `b`: The second transition dictionary.\n",
    "- **Returns**: A new dictionary representing the merged transitions.\n",
    "- **Behavior**: Combines the transitions from dictionaries `a` and `b`. For each input symbol, the target states from both dictionaries are combined into a single set."
   ]
  },
  {
   "cell_type": "code",
   "execution_count": 850,
   "id": "6431d45e",
   "metadata": {},
   "outputs": [],
   "source": [
    "class NFA(NFA):\n",
    "    def join_transitions(\n",
    "        self, a: dict[str, set[int]], b: dict[str, set[int]]\n",
    "    ) -> dict[str, set[int]]:\n",
    "        result = {char: a.get(char, set()) | b.get(char, set()) for char in a.keys() | b.keys()}\n",
    "        display(Markdown(f\"[DEBUG NFA.join_transitions] Result: {result}\"))\n",
    "        return result"
   ]
  },
  {
   "cell_type": "markdown",
   "id": "199472d7",
   "metadata": {},
   "source": [
    "#### `remove_epsilon(self) -> NFA`\n",
    "Converts the NFA into an equivalent NFA without epsilon transitions.\n",
    "- **Parameters**: None\n",
    "- **Returns**: A new `NFA` object without epsilon transitions.\n",
    "- **Behavior**: For each state, it computes the **epsilon closure**—the set of all states reachable by zero or more epsilon transitions. It then builds a new NFA where transitions are determined by following a symbol and then taking all subsequent epsilon transitions. A state in the new NFA is final if any state in its epsilon closure was final in the original NFA."
   ]
  },
  {
   "cell_type": "code",
   "execution_count": 851,
   "id": "b2df7c9c",
   "metadata": {},
   "outputs": [],
   "source": [
    "class NFA(NFA):\n",
    "    def remove_epsilon(self) -> NFA:\n",
    "        display(Markdown(\"### Removing Epsilon Transitions\"))\n",
    "        nfa = NFA()\n",
    "        nfa.transitions = {state: dict() for state in self.states}\n",
    "        nfa.start = self.start\n",
    "        nfa.states = self.states\n",
    "        nfa.final = self.final\n",
    "        nfa.next_state = self.next_state\n",
    "        display(Markdown(f\"[DEBUG NFA.remove_epsilon] Initialized new NFA: states={nfa.states}, final={nfa.final}\"))\n",
    "\n",
    "        for state in self.states:\n",
    "            seen: set[int] = set()\n",
    "            final = [False]\n",
    "\n",
    "            def helper(curr: int) -> None:\n",
    "                if curr not in seen:\n",
    "                    seen.add(curr)\n",
    "                    print(f\"[DEBUG NFA.remove_epsilon] Visiting state {curr}, seen={seen}\")\n",
    "                    if curr in self.final:\n",
    "                        final[0] = True\n",
    "                    for a, targets in self.transitions.get(curr, {}).items():\n",
    "                        if a == EPSILON:\n",
    "                            for target in targets:\n",
    "                                helper(target)\n",
    "                        else:\n",
    "                            nfa.transitions[state][a] = nfa.transitions[state].get(a, set()) | targets\n",
    "\n",
    "            helper(state)\n",
    "            if final[0]:\n",
    "                print(f\"[DEBUG NFA.remove_epsilon] Marking state {state} as final\")\n",
    "                nfa.final.add(state)\n",
    "\n",
    "        print(f\"[DEBUG NFA.remove_epsilon] Before trimming: states={nfa.states}, transitions={nfa.transitions}\")\n",
    "        nfa.trim_unreachable()\n",
    "        print(f\"[DEBUG NFA.remove_epsilon] After trimming: states={nfa.states}, transitions={nfa.transitions}\")\n",
    "        return nfa"
   ]
  },
  {
   "cell_type": "markdown",
   "id": "99b768d8",
   "metadata": {},
   "source": [
    "### `trim_unreachable`\n",
    "This method removes all states from the NFA that are not reachable from the starting state. This is a crucial step for optimizing an automaton, as it simplifies its structure without changing the language it accepts. The process involves a two-phase cleanup to ensure all types of unreachable states are eliminated.\n",
    "#### Parameters\n",
    "- **`self`**: The NFA instance on which the method is called.\n",
    "#### Returns\n",
    "- None: This method modifies the NFA in place.\n",
    "#### Behavior\n",
    "The method functions in two distinct phases:\n",
    "1.  **Removing States Unreachable from the Start**:\n",
    "    - A **Breadth-First Search (BFS)** is performed starting from the NFA's `start` state. A queue is used to manage states to visit, and a `seen` set keeps track of all states that are found to be reachable.\n",
    "    - The BFS explores all states connected by any transition.\n",
    "    - After the search is complete, any state in the NFA's `states` set that is **not** in the `seen` set is considered unreachable.\n",
    "    - These states and their associated transitions are then removed from the NFA.\n",
    "2.  **Removing Dangling States**:\n",
    "    - This phase addresses states that are theoretically reachable but have no incoming transitions from other reachable states. This can happen in more complex automaton constructions.\n",
    "    - The code enters a `while` loop that continues until no more states are removed in a full pass.\n",
    "    - Inside the loop, it iterates through all states (excluding the `start` state) and checks if each state has at least one incoming transition from another existing state.\n",
    "    - If a state is found to have **no incoming transitions**, it's considered \"dangling\" and is removed.\n",
    "    - The loop repeats to catch any new dangling states that may have been created by the previous removal, ensuring a complete cleanup."
   ]
  },
  {
   "cell_type": "code",
   "execution_count": null,
   "id": "38c29960",
   "metadata": {},
   "outputs": [],
   "source": [
    "def trim_unreachable(self) -> None:\n",
    "    seen = set()\n",
    "    queue: deque[int] = deque([self.start])\n",
    "    print(f\"[DEBUG NFA.trim_unreachable] Starting BFS from state {self.start}\")\n",
    "\n",
    "    # The BFS loop continues as long as there are states to visit.\n",
    "    while len(queue) > 0:\n",
    "        # Get the next state from the front of the queue.\n",
    "        curr = queue.popleft()\n",
    "        # If the state has already been visited, skip it.\n",
    "        if curr in seen:\n",
    "            continue\n",
    "        # Mark the current state as visited.\n",
    "        seen.add(curr)\n",
    "        print(f\"[DEBUG NFA.trim_unreachable] Visited state {curr}\")\n",
    "        # Iterate through all transitions from the current state.\n",
    "        for targets in self.transitions.get(curr, {}).values():\n",
    "            # For each target state in the transition,\n",
    "            for target in targets:\n",
    "                # if the target has not been seen yet, add it to the queue to be visited.\n",
    "                if target not in seen:\n",
    "                    queue.append(target)\n",
    "\n",
    "    # After the BFS, `seen` contains all states reachable from the start state.\n",
    "    # The first loop identifies states that are completely unreachable from the start.\n",
    "    # It finds all states that are in the NFA but not in the `seen` set.\n",
    "    for state in list(self.states - seen):\n",
    "        print(f\"[DEBUG NFA.trim_unreachable] Removing unreachable state {state}\")\n",
    "        # Remove these states from the NFA's `states` set.\n",
    "        self.states.remove(state)\n",
    "        # Also remove their transitions from the `transitions` dictionary.\n",
    "        if state in self.transitions:\n",
    "            del self.transitions[state]\n",
    "\n",
    "    # The second part of the function removes states that might be reachable but have no incoming transitions from other reachable states\n",
    "    # This loop continues until no more states are removed, ensuring all unreachable states are gone.\n",
    "    unchanged = False\n",
    "    while not unchanged:\n",
    "        unchanged = True\n",
    "        # Iterate through all states except the start state.\n",
    "        for target_state in list(self.states - {self.start}):\n",
    "            reached = False\n",
    "            # Check if this target state is reachable from any other state in the DFA.\n",
    "            for state in self.states:\n",
    "                if reached:\n",
    "                    break\n",
    "                if state != target_state:\n",
    "                    for target_set in self.transitions.get(state, {}).values():\n",
    "                        if target_state in target_set:\n",
    "                            reached = True\n",
    "                            break\n",
    "            # If after checking all other states, `target_state` was not reached, it's a dangling state.\n",
    "            if not reached:\n",
    "                print(f\"[DEBUG NFA.trim_unreachable] Removing unreachable state {target_state} (no incoming transitions)\")\n",
    "                # Remove the dangling state and its transitions.\n",
    "                self.states.remove(target_state)\n",
    "                if target_state in self.transitions:\n",
    "                    del self.transitions[target_state]\n",
    "                # A change was made, so set `unchanged` to False to continue the loop.\n",
    "                unchanged = False"
   ]
  },
  {
   "cell_type": "markdown",
   "id": "0853946b",
   "metadata": {},
   "source": [
    "#### `determinise(self) -> DFA`\n",
    "Converts the NFA into an equivalent DFA using the subset construction algorithm.\n",
    "\n",
    "- **Parameters**: None\n",
    "- **Returns**: A `DFA` object.\n",
    "- **Behavior**: First, it creates an epsilon-free version of the NFA. It then generates all possible subsets of the NFA's states. Each of these subsets becomes a single state in the new DFA. Transitions are then defined by applying each alphabet symbol to a subset and finding the corresponding subset of target states. The process concludes by trimming any unreachable states from the new DFA. "
   ]
  },
  {
   "cell_type": "code",
   "execution_count": 853,
   "id": "dc86085e",
   "metadata": {},
   "outputs": [],
   "source": [
    "class NFA(NFA):\n",
    "    def determinise(self) -> DFA:\n",
    "        self_without_epsilon = self.remove_epsilon()\n",
    "        print(f\"[DEBUG NFA.determinise] Epsilon-free NFA: states={self_without_epsilon.states}, final={self_without_epsilon.final}\")\n",
    "        dfa = DFA()\n",
    "        subsets = list(\n",
    "            chain.from_iterable(\n",
    "                combinations(self_without_epsilon.states, r)\n",
    "                for r in range(len(self_without_epsilon.states) + 1)\n",
    "            )\n",
    "        )\n",
    "        print(f\"[DEBUG NFA.determinise] Subsets for DFA states: {subsets}\")\n",
    "        dfa.start = subsets.index((self_without_epsilon.start,))\n",
    "        print(f\"[DEBUG NFA.determinise] DFA start state: {dfa.start}\")\n",
    "        dfa.states = set(range(len(subsets)))\n",
    "        dfa.final = {\n",
    "            i for i, s in enumerate(subsets) if set(s) & self_without_epsilon.final\n",
    "        }\n",
    "        display(Markdown(f\"[DEBUG NFA.determinise] DFA final states: {dfa.final}\"))\n",
    "        dfa.transitions = {state: dict() for state in dfa.states}\n",
    "        dfa.next_state = len(subsets)\n",
    "\n",
    "        for state, subset in enumerate(subsets):\n",
    "            for a in ALPHABET:\n",
    "                result = set().union(\n",
    "                    *(self_without_epsilon.transitions.get(s, {}).get(a, set()) for s in subset)\n",
    "                )\n",
    "                dfa.transitions[state][a] = subsets.index(tuple(sorted(result)))\n",
    "\n",
    "        dfa.trim_unreachable()\n",
    "        print(f\"[DEBUG NFA.determinise] Final DFA: states={dfa.states}, transitions={dfa.transitions}\")\n",
    "        return dfa"
   ]
  },
  {
   "cell_type": "markdown",
   "id": "8442398d",
   "metadata": {},
   "source": [
    "#### `visualize(self, filename=\"nfa\", format=\"png\")`\n",
    "Generates a visual representation of the NFA using Graphviz.\n",
    "\n",
    "- **Parameters**:\n",
    "  - `filename`: The name of the output file (without extension).\n",
    "  - `format`: The format of the output file (e.g., \"png\", \"svg\", \"pdf\").\n",
    "- **Returns**: None\n",
    "- **Behavior**: It creates a directed graph using the `graphviz` library. States are represented as nodes (final states are double-circled), and transitions are represented as labeled edges. A `start` node is added to point to the initial state. The graph is then rendered to a file."
   ]
  },
  {
   "cell_type": "code",
   "execution_count": 854,
   "id": "b5f83d8f",
   "metadata": {},
   "outputs": [],
   "source": [
    "class NFA(NFA):\n",
    "    def visualize(self, filename=\"nfa\", format=\"png\"):\n",
    "        print(f\"[DEBUG NFA.visualize] Generating visualization for NFA as '{filename}.{format}'\")\n",
    "        dot = Digraph(name=\"NFA\", format=format)\n",
    "        dot.attr(rankdir=\"LR\")\n",
    "        dot.attr(\"node\", shape=\"circle\")\n",
    "\n",
    "        for state in self.states:\n",
    "            shape = \"doublecircle\" if state in self.final else \"circle\"\n",
    "            dot.node(str(state), shape=shape, label=str(state))\n",
    "\n",
    "        for state, transitions in self.transitions.items():\n",
    "            for symbol, targets in transitions.items():\n",
    "                for target in targets:\n",
    "                    dot.edge(str(state), str(target), label=symbol)\n",
    "\n",
    "        dot.node(\"start\", shape=\"plaintext\", label=\"\")\n",
    "        dot.edge(\"start\", str(self.start))\n",
    "        dot.render(filename, cleanup=True)"
   ]
  },
  {
   "cell_type": "markdown",
   "id": "36ab81d8",
   "metadata": {},
   "source": [
    "### DFA Class Description\n",
    "The `DFA` class is a concrete implementation of the `Automaton` protocol for Deterministic Finite Automata. It handles integer states (`T=int`) and transition tables that map each input symbol to exactly one next state (`S=dict[str, int]`). This class includes methods for basic DFA operations as well as more advanced functions for formal language theory, such as equivalence checking, set operations (union, intersection, complement), and visualization.\n",
    "#### Attributes\n",
    "- **`next_state`**: An integer counter used to generate unique IDs for new states as they are added to the DFA.\n",
    "\n",
    "#### Methods\n",
    "##### `__init__(self) -> None`\n",
    "Initializes a new, minimal DFA.\n",
    "- **Parameters**: None\n",
    "- **Returns**: None\n",
    "- **Behavior**: Sets up the DFA with a single starting state (`0`), an empty set of final states, and an empty transition dictionary. The `next_state` counter is initialized to `1`, ready for a new state to be added."
   ]
  },
  {
   "cell_type": "code",
   "execution_count": 855,
   "id": "1a245b2d",
   "metadata": {},
   "outputs": [],
   "source": [
    "class DFA(Automaton[int, dict[str, int]]):\n",
    "    next_state: int\n",
    "\n",
    "    def __init__(self) -> None:\n",
    "        self.transitions = {}\n",
    "        self.start = 0\n",
    "        self.states = {self.start}\n",
    "        self.final = set()\n",
    "        self.next_state = 1"
   ]
  },
  {
   "cell_type": "markdown",
   "id": "5ac48935",
   "metadata": {},
   "source": [
    "#### `add_state(self, transitions: dict[str, int]) -> None`\n",
    "Adds a new state with a specified transition table.\n",
    "\n",
    "- **Parameters**:\n",
    "  - `transitions`: A dictionary mapping each input symbol to a single target state.\n",
    "- **Returns**: None\n",
    "- **Behavior**: A new state is assigned the ID from `self.next_state`, added to the `states` set, and its transitions are registered. The `next_state` counter is then incremented."
   ]
  },
  {
   "cell_type": "code",
   "execution_count": 856,
   "id": "252bc810",
   "metadata": {},
   "outputs": [],
   "source": [
    "class DFA(DFA):\n",
    "    def add_state(self, transitions: dict[str, int]) -> None:\n",
    "        display(Markdown(f\"# Adding State\\n## State: {self.next_state}\\n## Transitions: {transitions}\"))\n",
    "        self.states.add(self.next_state)\n",
    "        self.transitions[self.next_state] = transitions\n",
    "        self.next_state += 1"
   ]
  },
  {
   "cell_type": "markdown",
   "id": "326386b6",
   "metadata": {},
   "source": [
    "#### `close_with_sink(self, alphabet: list[str]) -> None`\n",
    "Ensures the DFA is \"complete\" by adding a **sink state** and ensuring every state has a defined transition for every symbol in the alphabet.\n",
    "\n",
    "- **Parameters**:\n",
    "  - `alphabet`: A list of all valid input symbols.\n",
    "- **Returns**: None\n",
    "- **Behavior**: A new state, the sink state, is created. For every state in the DFA, if a transition for a character in the `alphabet` is missing, a transition is added that leads to this sink state. The sink state itself has transitions for every symbol that loop back to itself. This guarantees that the DFA has a valid path for any possible input string, even if it's not accepted. "
   ]
  },
  {
   "cell_type": "code",
   "execution_count": 857,
   "id": "e9a82acc",
   "metadata": {},
   "outputs": [],
   "source": [
    "class DFA(DFA):\n",
    "    def close_with_sink(self, alphabet: list[str]) -> None:\n",
    "        print(f\"[DEBUG DFA.close_with_sink] Adding sink state {self.next_state} for alphabet {alphabet}\")\n",
    "        sink = self.next_state\n",
    "        self.add_state({a: sink for a in alphabet})\n",
    "        for state in self.states:\n",
    "            if state not in self.transitions:\n",
    "                self.transitions[state] = {}\n",
    "            missing_transitions = set(alphabet) - set(self.transitions[state].keys())\n",
    "            for a in missing_transitions:\n",
    "                print(f\"[DEBUG DFA.close_with_sink] Adding transition {state} --{a}--> {sink}\")\n",
    "                self.transitions[state][a] = sink\n",
    "        print(f\"[DEBUG DFA.close_with_sink] Transitions after adding sink: {self.transitions}\")"
   ]
  },
  {
   "cell_type": "markdown",
   "id": "e7a9ac6f",
   "metadata": {},
   "source": [
    "#### `evaluate(self, s: str) -> bool`\n",
    "Checks if the DFA accepts a given input string.\n",
    "\n",
    "- **Parameters**:\n",
    "  - `s`: The string to be evaluated.\n",
    "- **Returns**: `bool`, `True` if the string is accepted, `False` otherwise.\n",
    "- **Behavior**: The DFA starts at its `start` state. For each character in the string, it deterministically follows the single transition defined for the current state and character. After processing the entire string, it checks if the final state reached is a member of the `final` set."
   ]
  },
  {
   "cell_type": "code",
   "execution_count": 858,
   "id": "37edbac2",
   "metadata": {},
   "outputs": [],
   "source": [
    "class DFA(DFA):\n",
    "    def evaluate(self, s: str) -> bool:\n",
    "        print(f\"[DEBUG DFA.evaluate] Evaluating input string '{s}'\")\n",
    "        curr = self.start\n",
    "        for i, c in enumerate(s):\n",
    "            print(f\"[DEBUG DFA.evaluate] Processing character '{c}' at position {i}, current state: {curr}\")\n",
    "            if curr not in self.transitions or c not in self.transitions[curr]:\n",
    "                print(f\"[DEBUG DFA.evaluate] No transition for state {curr} on '{c}', returning False\")\n",
    "                return False\n",
    "            curr = self.transitions[curr][c]\n",
    "            print(f\"[DEBUG DFA.evaluate] Moved to state {curr}\")\n",
    "        result = curr in self.final\n",
    "        print(f\"[DEBUG DFA.evaluate] Evaluation result: {result}, final state: {curr}\")\n",
    "        return result"
   ]
  },
  {
   "cell_type": "markdown",
   "id": "7a6e04a1",
   "metadata": {},
   "source": [
    "\n",
    "#### `is_equivalent(self, dfa: DFA) -> Union[tuple[Literal[True], None], tuple[Literal[False], str]]`\n",
    "Compares two DFAs to see if they are equivalent. Two DFAs are equivalent if they accept the same language.\n",
    "\n",
    "- **Parameters**:\n",
    "  - `dfa`: The other DFA to compare against.\n",
    "- **Returns**: A tuple. If equivalent, `(True, None)`. If not, `(False, path)` where `path` is the shortest string that differentiates them.\n",
    "- **Behavior**: It uses the principle that two languages are equivalent if and only if their symmetric difference is empty. The method constructs a DFA for the symmetric difference of the two languages, `(L1 ∩ ¬L2) ∪ (¬L1 ∩ L2)`, and then checks if this resulting DFA accepts any strings. If the symmetric difference DFA is empty, the original DFAs are equivalent."
   ]
  },
  {
   "cell_type": "code",
   "execution_count": 859,
   "id": "9d90183b",
   "metadata": {},
   "outputs": [],
   "source": [
    "class DFA(DFA):\n",
    "    def is_equivalent(self, dfa: DFA) -> Union[tuple[Literal[True], None], tuple[Literal[False], str]]:\n",
    "        print(\"[DEBUG DFA.is_equivalent] Checking equivalence with another DFA\")\n",
    "        self_not_d = self.intersection(dfa.complement())\n",
    "        print(f\"[DEBUG DFA.is_equivalent] Self ∩ ¬Other DFA: states={self_not_d.states}, final={self_not_d.final}\")\n",
    "        not_self_d = self.complement().intersection(dfa)\n",
    "        print(f\"[DEBUG DFA.is_equivalent] ¬Self ∩ Other DFA: states={not_self_d.states}, final={not_self_d.final}\")\n",
    "        sym_diff = self_not_d.union(not_self_d)\n",
    "        print(f\"[DEBUG DFA.is_equivalent] Symmetric difference: states={sym_diff.states}, final={sym_diff.final}\")\n",
    "        sym_diff.trim_unreachable()\n",
    "        print(f\"[DEBUG DFA.is_equivalent] After trimming: states={sym_diff.states}\")\n",
    "        result = sym_diff.is_empty()\n",
    "        return result"
   ]
  },
  {
   "cell_type": "markdown",
   "id": "906698cf",
   "metadata": {},
   "source": [
    "#### `complement(self) -> DFA`\n",
    "Creates a new DFA that accepts the complement of the language accepted by the current DFA.\n",
    "\n",
    "- **Parameters**: None\n",
    "- **Returns**: A new `DFA` object.\n",
    "- **Behavior**: The new DFA is a deep copy of the original. The set of `final` states is then inverted: all states that were not final become final, and all final states become non-final."
   ]
  },
  {
   "cell_type": "code",
   "execution_count": 860,
   "id": "0eecc72d",
   "metadata": {},
   "outputs": [],
   "source": [
    "class DFA(DFA):\n",
    "    def complement(self) -> DFA:\n",
    "        print(\"[DEBUG DFA.complement] Creating complement DFA\")\n",
    "        dfa = deepcopy(self)\n",
    "        dfa.final = self.states - self.final\n",
    "        print(f\"[DEBUG DFA.complement] Complement final states: {dfa.final}\")\n",
    "        return dfa"
   ]
  },
  {
   "cell_type": "markdown",
   "id": "a543c7c8",
   "metadata": {},
   "source": [
    "#### `union(self, dfa: DFA) -> DFA`\n",
    "Constructs a new DFA that accepts the union of the languages accepted by the current DFA and another DFA.\n",
    "\n",
    "- **Parameters**:\n",
    "  - `dfa`: The other DFA to perform the union with.\n",
    "- **Returns**: A new `DFA` object.\n",
    "- **Behavior**: This method uses the **product construction** algorithm. It creates new states for the resulting DFA, with each new state being a pair `(s1, s2)` from the states of the two original DFAs. A new state `(s1, s2)` is considered final if either `s1` or `s2` (or both) were final in their original DFAs."
   ]
  },
  {
   "cell_type": "code",
   "execution_count": 861,
   "id": "fba77848",
   "metadata": {},
   "outputs": [],
   "source": [
    "class DFA(DFA):\n",
    "    def union(self, dfa: DFA) -> DFA:\n",
    "        res = DFA()\n",
    "        states = list(product(self.states, dfa.states))\n",
    "        print(f\"[DEBUG DFA.union] Product states: {states}\")\n",
    "        res.start = states.index((self.start, dfa.start))\n",
    "        print(f\"[DEBUG DFA.union] Union start state: {res.start}\")\n",
    "        res.states = set(range(len(states)))\n",
    "        res.final = {\n",
    "            i\n",
    "            for i, s in enumerate(states)\n",
    "            if s[0] in self.final or s[1] in dfa.final\n",
    "        }\n",
    "        print(f\"[DEBUG DFA.union] Union final states: {res.final}\")\n",
    "        res.transitions = {state: dict() for state in res.states}\n",
    "        res.next_state = len(states)\n",
    "\n",
    "        for i, (s1, s2) in enumerate(states):\n",
    "            for a in ALPHABET:\n",
    "                res.transitions[i][a] = states.index(\n",
    "                    (self.transitions[s1][a], dfa.transitions[s2][a])\n",
    "                )\n",
    "                print(f\"[DEBUG DFA.union] Transition {i} --{a}--> {res.transitions[i][a]} (from {s1},{s2})\")\n",
    "        res.trim_unreachable()\n",
    "        print(f\"[DEBUG DFA.union] Final union DFA: states={res.states}, transitions={res.transitions}\")\n",
    "        return res"
   ]
  },
  {
   "cell_type": "markdown",
   "id": "342a0266",
   "metadata": {},
   "source": [
    "#### `intersection(self, dfa: DFA) -> DFA`\n",
    "Constructs a new DFA that accepts the intersection of the languages of the current DFA and another DFA.\n",
    "\n",
    "- **Parameters**:\n",
    "  - `dfa`: The other DFA to perform the intersection with.\n",
    "- **Returns**: A new `DFA` object.\n",
    "- **Behavior**: Similar to the `union` method, this uses the **product construction**. A new state `(s1, s2)` in the resulting DFA is considered final only if both `s1` and `s2` were final in their original DFAs."
   ]
  },
  {
   "cell_type": "code",
   "execution_count": 862,
   "id": "82483184",
   "metadata": {},
   "outputs": [],
   "source": [
    "class DFA(DFA):\n",
    "    def intersection(self, dfa: DFA) -> DFA:\n",
    "        res = DFA()\n",
    "        states = list(product(self.states, dfa.states))\n",
    "        print(f\"[DEBUG DFA.intersection] Product states: {states}\")\n",
    "        res.start = states.index((self.start, dfa.start))\n",
    "        print(f\"[DEBUG DFA.intersection] Intersection start state: {res.start}\")\n",
    "        res.states = set(range(len(states)))\n",
    "        res.final = {\n",
    "            i\n",
    "            for i, s in enumerate(states)\n",
    "            if s[0] in self.final and s[1] in dfa.final\n",
    "        }\n",
    "        print(f\"[DEBUG DFA.intersection] Intersection final states: {res.final}\")\n",
    "        res.transitions = {state: dict() for state in res.states}\n",
    "        res.next_state = len(states)\n",
    "\n",
    "        for i, (s1, s2) in enumerate(states):\n",
    "            for a in ALPHABET:\n",
    "                res.transitions[i][a] = states.index(\n",
    "                    (self.transitions[s1][a], dfa.transitions[s2][a])\n",
    "                )\n",
    "                print(f\"[DEBUG DFA.intersection] Transition {i} --{a}--> {res.transitions[i][a]} (from {s1},{s2})\")\n",
    "\n",
    "        res.trim_unreachable()\n",
    "        print(f\"[DEBUG DFA.intersection] Final intersection DFA: states={res.states}, transitions={res.transitions}\")\n",
    "        return res"
   ]
  },
  {
   "cell_type": "markdown",
   "id": "3017a4f4",
   "metadata": {},
   "source": [
    "#### `is_empty(self) -> Union[tuple[Literal[True], None], tuple[Literal[False], str]]`\n",
    "Checks if the DFA's language is empty.\n",
    "\n",
    "- **Parameters**: None\n",
    "- **Returns**: A tuple. If the language is empty, `(True, None)`. If not, `(False, path)` where `path` is the shortest string that is accepted.\n",
    "- **Behavior**: It performs a Breadth-First Search (BFS) starting from the `start` state. The search explores all reachable states while keeping track of the path taken to reach them. If a final state is reached, the language is not empty, and the path to that state is returned. If the search completes without finding any final states, the language is empty."
   ]
  },
  {
   "cell_type": "code",
   "execution_count": 863,
   "id": "1bbaa895",
   "metadata": {},
   "outputs": [],
   "source": [
    "class DFA(DFA):\n",
    "    def is_empty(self) -> Union[tuple[Literal[True], None], tuple[Literal[False], str]]:\n",
    "        seen = set()\n",
    "        queue: deque[tuple[int, str]] = deque([(self.start, \"\")])\n",
    "\n",
    "        while len(queue) > 0:\n",
    "            curr, path = queue.popleft()\n",
    "            if curr in self.final:\n",
    "                return False, path\n",
    "            if curr in seen:\n",
    "                continue\n",
    "            seen.add(curr)\n",
    "\n",
    "            for a in ALPHABET:\n",
    "                if curr in self.transitions and a in self.transitions[curr]:\n",
    "                    state = self.transitions[curr][a]\n",
    "                    print(f\"[DEBUG DFA.is_empty] Queuing transition {curr} --{a}--> {state}\")\n",
    "                    queue.append((state, path + a))\n",
    "        print(\"[DEBUG DFA.is_empty] No final states reached, DFA is empty\")\n",
    "        return True, None"
   ]
  },
  {
   "cell_type": "markdown",
   "id": "96e36471",
   "metadata": {},
   "source": [
    "#### `trim_unreachable(self) -> Self`\n",
    "Removes any states from the DFA that cannot be reached from the start state.\n",
    "- **Parameters**: None\n",
    "- **Returns**: The modified `DFA` object itself.\n",
    "- **Behavior**: It performs a graph traversal (like BFS or DFS) from the `start` state to identify all reachable states. Any state not included in the set of reachable states is considered unreachable and is removed from the `states` set and the `transitions` dictionary."
   ]
  },
  {
   "cell_type": "code",
   "execution_count": 864,
   "id": "6d607fdb",
   "metadata": {},
   "outputs": [],
   "source": [
    "class DFA(DFA):\n",
    "    def trim_unreachable(self) -> Self:\n",
    "        display(Markdown(f\"### Trimming Unreachable States from DFA\"))\n",
    "        seen = set()\n",
    "        queue: deque[int] = deque([self.start])\n",
    "        print(f\"[DEBUG DFA.trim_unreachable] Starting BFS from state {self.start}\")\n",
    "\n",
    "        while len(queue) > 0:\n",
    "            curr = queue.popleft()\n",
    "            if curr in seen:\n",
    "                continue\n",
    "            seen.add(curr)\n",
    "            print(f\"[DEBUG DFA.trim_unreachable] Visited state {curr}\")\n",
    "            for target in self.transitions.get(curr, {}).values():\n",
    "                if target not in seen:\n",
    "                    queue.append(target)\n",
    "                    print(f\"[DEBUG DFA.trim_unreachable] Queued state {target}\")\n",
    "\n",
    "        for state in list(self.states - seen):\n",
    "            print(f\"[DEBUG DFA.trim_unreachable] Removing unreachable state {state}\")\n",
    "            self.states.remove(state)\n",
    "            if state in self.transitions:\n",
    "                del self.transitions[state]\n",
    "        print(f\"[DEBUG DFA.trim_unreachable] Final states: {self.states}\")\n",
    "        return self"
   ]
  },
  {
   "cell_type": "markdown",
   "id": "12f33c58",
   "metadata": {},
   "source": [
    "#### `visualize(self, filename: str = \"dfa\", format: str = \"png\") -> Self`\n",
    "Generates a visual representation of the DFA using the `graphviz` library.\n",
    "\n",
    "- **Parameters**:\n",
    "  - `filename`: The name of the output file (e.g., `dfa.png`).\n",
    "  - `format`: The file format for the visualization (e.g., \"png\", \"svg\", \"pdf\").\n",
    "- **Returns**: The `DFA` object itself.\n",
    "- **Behavior**: The method creates a directed graph where states are nodes and transitions are edges. Final states are represented as double circles. An invisible \"start\" node points to the initial state. The graph is then rendered to a file, providing a clear visual overview of the DFA's structure."
   ]
  },
  {
   "cell_type": "code",
   "execution_count": 865,
   "id": "4133d53f",
   "metadata": {},
   "outputs": [],
   "source": [
    "class DFA(DFA):\n",
    "    def visualize(self, filename: str = \"dfa\", format: str = \"png\") -> Self:\n",
    "        dot = Digraph(name=\"DFA\", format=format)\n",
    "        dot.attr(rankdir=\"LR\")\n",
    "        dot.attr(\"node\", shape=\"circle\")\n",
    "\n",
    "        for state in self.states:\n",
    "            shape = \"doublecircle\" if state in self.final else \"circle\"\n",
    "            dot.node(str(state), shape=shape, label=str(state))\n",
    "\n",
    "        for state, transitions in self.transitions.items():\n",
    "            for symbol, target in transitions.items():\n",
    "                dot.edge(str(state), str(target), label=symbol)\n",
    "\n",
    "        dot.node(\"start\", shape=\"plaintext\", label=\"\")\n",
    "        dot.edge(\"start\", str(self.start))\n",
    "        dot.render(filename, cleanup=True)\n",
    "        return self\n"
   ]
  },
  {
   "cell_type": "markdown",
   "id": "cce7f57d",
   "metadata": {},
   "source": [
    "### `Regex` Class\n",
    "\n",
    "The `Regex` class is an abstract base class for representing regular expressions. It defines the structure for various regex constructs (e.g., single characters, concatenation, alternation, Kleene star, and epsilon) and provides methods to parse strings into regex objects and convert them to NFAs."
   ]
  },
  {
   "cell_type": "code",
   "execution_count": 866,
   "id": "9adc567e",
   "metadata": {},
   "outputs": [],
   "source": [
    "class Regex:\n",
    "    name: str\n",
    "    regex: list"
   ]
  },
  {
   "cell_type": "markdown",
   "id": "7ecaae9a",
   "metadata": {},
   "source": [
    "#### `to_nfa`\n",
    "**Description**: Converts a regular expression to an equivalent Non-deterministic Finite Automaton (NFA). This is an abstract method that must be implemented by subclasses to define how specific regex constructs (e.g., `Epsilon`, `Char`, `Or`, `And`, `Star`) are transformed into an NFA that accepts the same language.\n",
    "\n",
    "**Parameters**:\n",
    "- None\n",
    "\n",
    "**Return Value**:\n",
    "- `NFA`: A non-deterministic finite automaton that recognizes the language described by the regular expression.\n",
    "\n",
    "**Notes**:\n",
    "- This method is abstract and raises `NotImplementedError` in the base class, requiring each subclass to provide its own implementation.\n",
    "- The resulting NFA includes states, transitions (including epsilon transitions), a start state, and final states."
   ]
  },
  {
   "cell_type": "code",
   "execution_count": 867,
   "id": "1ca8fdd3",
   "metadata": {},
   "outputs": [],
   "source": [
    "class Regex(Regex):\n",
    "    def to_nfa(self) -> NFA:\n",
    "        \"\"\"Function description: Converts the regular expression to an equivalent NFA.\n",
    "        Parameters:\n",
    "            None\n",
    "        Return value:\n",
    "            NFA: The nondeterministic finite automaton representing the regex.\n",
    "        \"\"\"\n",
    "        raise NotImplementedError"
   ]
  },
  {
   "cell_type": "markdown",
   "id": "2608d2a1",
   "metadata": {},
   "source": [
    "#### `parse` (classmethod)\n",
    "**Description**: Parses a string representing a regular expression into a `Regex` object, handling operators such as `|` (alternation), `*` (Kleene star), and implicit concatenation. The method recursively processes the input string, building a tree of `Regex` objects (e.g., `Epsilon`, `Char`, `Or`, `And`, `Star`) that represent the parsed expression.\n",
    "\n",
    "**Parameters**:\n",
    "- `s` (`str`): The regular expression string to parse (e.g., `\"a(a|b)*b\"`).\n",
    "\n",
    "**Return Value**:\n",
    "- `Regex`: A `Regex` object (an instance of `Epsilon`, `Char`, `Or`, `And`, or `Star`) representing the parsed regular expression.\n",
    "\n",
    "**Notes**:\n",
    "- Handles base cases:\n",
    "  - Empty string returns `Epsilon`.\n",
    "  - Single character returns `Char` if in the alphabet, or `Epsilon` if the character is the epsilon symbol (`ε`).\n",
    "- For complex expressions:\n",
    "  - Detects parentheses to group sub-expressions using `matching_idx`.\n",
    "  - Processes operators:\n",
    "    - `|`: Creates an `Or` object for alternation.\n",
    "    - `*`: Creates a `Star` object for zero or more repetitions.\n",
    "    - No operator: Implies concatenation, creating an `And` object.\n",
    "- Throws `ValueError` if a character is not in the defined alphabet."
   ]
  },
  {
   "cell_type": "code",
   "execution_count": 868,
   "id": "b6de0762",
   "metadata": {},
   "outputs": [],
   "source": [
    "class Regex(Regex):\n",
    "    @classmethod\n",
    "    def parse(cls, s: str) -> Regex:\n",
    "        \"\"\"Function description: Parses a string into a Regex object, handling operators like |, *, and concatenation.\n",
    "        Parameters:\n",
    "            s (str): The regular expression string to parse.\n",
    "        Return value:\n",
    "            Regex: A Regex object (Epsilon, Char, Or, And, or Star) representing the parsed expression.\n",
    "        \"\"\"\n",
    "        if len(s) == 0:\n",
    "            return Epsilon()\n",
    "        if len(s) == 1:\n",
    "            if s == EPSILON:\n",
    "                return Epsilon()\n",
    "            if s not in ALPHABET:\n",
    "                raise ValueError(f\"Character '{s}' is not in the alphabet\")\n",
    "            return Char(s)\n",
    "\n",
    "        if s[0] == \"(\":\n",
    "            end_idx = cls.matching_idx(s, 0)\n",
    "        else:\n",
    "            end_idx = 0\n",
    "\n",
    "        if end_idx > 0:\n",
    "            symbol = cls.parse(s[1:end_idx])\n",
    "        else:\n",
    "            symbol = cls.parse(s[0])\n",
    "\n",
    "        if len(s) == end_idx + 1:\n",
    "            return symbol\n",
    "\n",
    "        next_char = s[end_idx + 1]\n",
    "\n",
    "        if next_char == \"|\":\n",
    "            return Or(symbol, cls.parse(s[end_idx + 2 :]))\n",
    "        elif next_char == \"*\":\n",
    "            if len(s) == end_idx + 2:\n",
    "                return Star(symbol)\n",
    "            else:\n",
    "                return And(Star(symbol), cls.parse(s[end_idx + 2 :]))\n",
    "        else:\n",
    "            return And(symbol, cls.parse(s[end_idx + 1 :]))"
   ]
  },
  {
   "cell_type": "markdown",
   "id": "3ef58206",
   "metadata": {},
   "source": [
    "#### `matching_idx` (classmethod)\n",
    "**Description**: Finds the index of the matching closing parenthesis `)` for a given opening parenthesis `(` in a regular expression string. This utility method is used during parsing to correctly handle parenthesized sub-expressions.\n",
    "\n",
    "**Parameters**:\n",
    "- `s` (`str`): The string containing the regular expression.\n",
    "- `i` (`int`): The index of the opening parenthesis in the string.\n",
    "\n",
    "**Return Value**:\n",
    "- `int`: The index of the matching closing parenthesis.\n",
    "\n",
    "**Notes**:\n",
    "- Uses a depth counter to track nested parentheses, incrementing for each `(` and decrementing for each `)`.\n",
    "- Raises `ValueError` if the initial character at index `i` is not `(` or if no matching closing parenthesis is found.\n",
    "- Essential for correctly parsing nested expressions like `(a(b|c))`."
   ]
  },
  {
   "cell_type": "code",
   "execution_count": 869,
   "id": "3d2fb428",
   "metadata": {},
   "outputs": [],
   "source": [
    "class Regex(Regex):\n",
    "    @classmethod\n",
    "    def matching_idx(cls, s: str, i: int) -> int:\n",
    "        \"\"\"Function description: Finds the index of the matching closing parenthesis for an opening parenthesis.\n",
    "        Parameters:\n",
    "            s (str): The string containing the regular expression.\n",
    "            i (int): The index of the opening parenthesis.\n",
    "        Return value:\n",
    "            int: The index of the matching closing parenthesis.\n",
    "        \"\"\"\n",
    "        if s[i] != \"(\":\n",
    "            raise ValueError(\"Initial character is not '('\")\n",
    "        depth = 1\n",
    "        for j, c in enumerate(s[i + 1 :], start=i + 1):\n",
    "            if c == \"(\":\n",
    "                depth += 1\n",
    "            if c == \")\":\n",
    "                depth -= 1\n",
    "            if depth == 0:\n",
    "                return j\n",
    "        raise ValueError(\"No match found\")"
   ]
  },
  {
   "cell_type": "markdown",
   "id": "f8520a59",
   "metadata": {},
   "source": [
    "### `Epsilon` Class\n",
    "\n",
    "The `Epsilon` class represents the regular expression that accepts the empty string (denoted as ε).\n",
    "\n",
    "#### `to_nfa`\n",
    "**Description**: Converts an `Epsilon` regex to an NFA that accepts only the empty string. The resulting NFA has a single state that is both the start and final state, with no transitions.\n",
    "\n",
    "**Parameters**:\n",
    "- None\n",
    "\n",
    "**Return Value**:\n",
    "- `NFA`: An NFA with one state, marked as both the start and final state, accepting the empty string.\n",
    "\n",
    "**Notes**:\n",
    "- The NFA has no transitions, as it only accepts `ε` (the empty string).\n",
    "- The state is numbered `0` and added to the NFA’s final states."
   ]
  },
  {
   "cell_type": "code",
   "execution_count": 870,
   "id": "086b5cfe",
   "metadata": {},
   "outputs": [],
   "source": [
    "class Epsilon(Regex):\n",
    "    def to_nfa(self) -> NFA:\n",
    "        \"\"\"Function description: Converts an Epsilon regex to an NFA that accepts the empty string.\n",
    "        Parameters:\n",
    "            None\n",
    "        Return value:\n",
    "            NFA: An NFA with a single state that is both the start and final state.\n",
    "        \"\"\"\n",
    "        nfa = NFA()\n",
    "        nfa.make_final(0)\n",
    "        return nfa"
   ]
  },
  {
   "cell_type": "markdown",
   "id": "f7adc4d2",
   "metadata": {},
   "source": [
    "### `Char` Class\n",
    "\n",
    "The `Char` class represents a regular expression for a single character from the alphabet.\n",
    "\n",
    "#### `__init__`\n",
    "**Description**: Initializes a `Char` regex object representing a single character from the input alphabet.\n",
    "\n",
    "**Parameters**:\n",
    "- `char` (`str`): The single character to represent (e.g., `'a'` or `'b'`).\n",
    "\n",
    "**Return Value**:\n",
    "- None\n",
    "\n",
    "**Notes**:\n",
    "- Stores the character in the `char` attribute for use in NFA construction.\n",
    "- Assumes the character is valid (checked during parsing by `Regex.parse`)."
   ]
  },
  {
   "cell_type": "code",
   "execution_count": 871,
   "id": "e5fab819",
   "metadata": {},
   "outputs": [],
   "source": [
    "class Char(Regex):\n",
    "    \"\"\"Function description: Initializes a Char regex representing a single character.\n",
    "        Parameters:\n",
    "            char (str): The single character to represent.\n",
    "        Return value:\n",
    "            None\n",
    "    \"\"\"\n",
    "    def __init__(self, char: str) -> None:\n",
    "        self.char = char"
   ]
  },
  {
   "cell_type": "markdown",
   "id": "484fe357",
   "metadata": {},
   "source": [
    "#### `to_nfa`\n",
    "**Description**: Converts a `Char` regex to an NFA that accepts a single character. The NFA has two states: a start state and a final state, with a single transition from the start to the final state on the specified character.\n",
    "\n",
    "**Parameters**:\n",
    "- None\n",
    "\n",
    "**Return Value**:\n",
    "- `NFA`: An NFA with two states (e.g., `0` and `1`), where state `0` transitions to state `1` on the character, and state `1` is final.\n",
    "\n",
    "**Notes**:\n",
    "- Creates a minimal NFA with one transition labeled with the character.\n",
    "- State `0` is the start state, and state `1` is the final state."
   ]
  },
  {
   "cell_type": "code",
   "execution_count": 872,
   "id": "99fbf33f",
   "metadata": {},
   "outputs": [],
   "source": [
    "class Char(Char):\n",
    "    def to_nfa(self) -> NFA:\n",
    "        \"\"\"Function description: Converts a Char regex to an NFA that accepts a single character.\n",
    "        Parameters:\n",
    "            None\n",
    "        Return value:\n",
    "            NFA: An NFA with two states, where the start state transitions to the final state on the specified character.\n",
    "        \"\"\"\n",
    "        nfa = NFA()\n",
    "        nfa.add_state({})\n",
    "        nfa.transitions[0] = {self.char: {1}}\n",
    "        nfa.make_final(1)\n",
    "        return nfa"
   ]
  },
  {
   "cell_type": "markdown",
   "id": "56f18a23",
   "metadata": {},
   "source": [
    "### `Or` Class\n",
    "\n",
    "The `Or` class represents the alternation (union) of two regular expressions (e.g., `r1|r2`).\n",
    "\n",
    "#### `__init__`\n",
    "**Description**: Initializes an `Or` regex object representing the union of two regular expressions, accepting strings that match either `r1` or `r2`.\n",
    "\n",
    "**Parameters**:\n",
    "- `r1` (`Regex`): The first regular expression.\n",
    "- `r2` (`Regex`): The second regular expression.\n",
    "\n",
    "**Return Value**:\n",
    "- None\n",
    "\n",
    "**Notes**:\n",
    "- Stores `r1` and `r2` for use in NFA construction.\n",
    "- Represents the regex operator `|` (e.g., `a|b`)."
   ]
  },
  {
   "cell_type": "code",
   "execution_count": 873,
   "id": "7cd1421f",
   "metadata": {},
   "outputs": [],
   "source": [
    "class Or(Regex):\n",
    "    def __init__(self, r1: Regex, r2: Regex) -> None:\n",
    "        \"\"\"Function description: Initializes an Or regex representing the union of two regexes.\n",
    "        Parameters:\n",
    "            r1 (Regex): The first regular expression.\n",
    "            r2 (Regex): The second regular expression.\n",
    "        Return value:\n",
    "            None\n",
    "        \"\"\"\n",
    "        self.r1 = r1\n",
    "        self.r2 = r2"
   ]
  },
  {
   "cell_type": "markdown",
   "id": "0b82508b",
   "metadata": {},
   "source": [
    "#### `to_nfa`\n",
    "**Description**: Converts an `Or` regex to an NFA that accepts strings matching either `r1` or `r2`. It combines the NFAs of `r1` and `r2` by creating a new start state with epsilon transitions to the start states of both NFAs.\n",
    "\n",
    "**Parameters**:\n",
    "- None\n",
    "\n",
    "**Return Value**:\n",
    "- `NFA`: An NFA combining the NFAs of `r1` and `r2`, with a new start state and epsilon transitions to both sub-NFAs’ start states.\n",
    "\n",
    "**Notes**:\n",
    "- Creates a new start state (e.g., `1`) with epsilon transitions to the start states of `nfa1` (for `r1`) and `nfa2` (for `r2`).\n",
    "- States from `nfa1` and `nfa2` are renumbered to avoid conflicts (offset by `1` for `nfa1` and `1 + len(nfa1.states)` for `nfa2`).\n",
    "- Final states from both NFAs are preserved in the combined NFA."
   ]
  },
  {
   "cell_type": "code",
   "execution_count": 874,
   "id": "180ba4c8",
   "metadata": {},
   "outputs": [],
   "source": [
    "class Or(Or):\n",
    "    def to_nfa(self) -> NFA:\n",
    "        \"\"\"Function description: Converts an Or regex to an NFA that accepts strings matching either r1 or r2.\n",
    "        Parameters:\n",
    "            None\n",
    "        Return value:\n",
    "            NFA: An NFA combining the NFAs of r1 and r2 with epsilon transitions from a new start state.\n",
    "        \"\"\"\n",
    "        nfa1 = self.r1.to_nfa()\n",
    "        nfa2 = self.r2.to_nfa()\n",
    "        nfa = NFA()\n",
    "        nfa.add_state({})  # new start\n",
    "        nfa.start = 1\n",
    "        nfa.transitions[nfa.start] = {EPSILON: {nfa1.start + 1, nfa2.start + 1 + len(nfa1.states)}}\n",
    "        \n",
    "        offset1 = 1\n",
    "        for s in nfa1.states:\n",
    "            nfa.states.add(s + offset1)\n",
    "            if s in nfa1.final:\n",
    "                nfa.final.add(s + offset1)\n",
    "            nfa.transitions[s + offset1] = {\n",
    "                a: {t + offset1 for t in targets}\n",
    "                for a, targets in nfa1.transitions.get(s, {}).items()\n",
    "            }\n",
    "\n",
    "        offset2 = 1 + len(nfa1.states)\n",
    "        for s in nfa2.states:\n",
    "            nfa.states.add(s + offset2)\n",
    "            if s in nfa2.final:\n",
    "                nfa.final.add(s + offset2)\n",
    "            nfa.transitions[s + offset2] = {\n",
    "                a: {t + offset2 for t in targets}\n",
    "                for a, targets in nfa2.transitions.get(s, {}).items()\n",
    "            }\n",
    "        nfa.next_state = len(nfa.states)\n",
    "        return nfa"
   ]
  },
  {
   "cell_type": "markdown",
   "id": "48183d56",
   "metadata": {},
   "source": [
    "### `And` Class\n",
    "\n",
    "The `And` class represents the concatenation of two regular expressions (e.g., `r1r2`).\n",
    "\n",
    "#### `__init__`\n",
    "**Description**: Initializes an `And` regex object representing the concatenation of two regular expressions, accepting strings where a string matching `r1` is followed by a string matching `r2`.\n",
    "\n",
    "**Parameters**:\n",
    "- `r1` (`Regex`): The first regular expression.\n",
    "- `r2` (`Regex`): The second regular expression.\n",
    "\n",
    "**Return Value**:\n",
    "- None\n",
    "\n",
    "**Notes**:\n",
    "- Stores `r1` and `r2` for use in NFA construction.\n",
    "- Includes debug print statements to log initialization."
   ]
  },
  {
   "cell_type": "code",
   "execution_count": 875,
   "id": "4a2bc41c",
   "metadata": {},
   "outputs": [],
   "source": [
    "class And(Regex):\n",
    "    def __init__(self, r1: Regex, r2: Regex) -> None:\n",
    "        \"\"\"Function description: Initializes an And regex representing the concatenation of two regexes.\n",
    "        Parameters:\n",
    "            r1 (Regex): The first regular expression.\n",
    "            r2 (Regex): The second regular expression.\n",
    "        Return value:\n",
    "            None\n",
    "        \"\"\"\n",
    "        print(f\"[DEBUG And.__init__] Initializing And with r1={r1.__class__.__name__}, r2={r2.__class__.__name__}\")\n",
    "        self.r1 = r1\n",
    "        self.r2 = r2"
   ]
  },
  {
   "cell_type": "markdown",
   "id": "348ebe47",
   "metadata": {},
   "source": [
    "#### `to_nfa`\n",
    "**Description**: Converts an `And` regex to an NFA that accepts strings matching `r1` followed by `r2`. It concatenates the NFAs of `r1` and `r2` by adding epsilon transitions from `r1`’s final states to `r2`’s start state.\n",
    "\n",
    "**Parameters**:\n",
    "- None\n",
    "\n",
    "**Return Value**:\n",
    "- `NFA`: An NFA where the final states of `r1`’s NFA connect to the start state of `r2`’s NFA via epsilon transitions.\n",
    "\n",
    "**Notes**:\n",
    "- Uses `deepcopy` to clone `nfa1` (for `r1`) to avoid modifying the original.\n",
    "- States from `nfa2` are offset by the number of states in `nfa1`.\n",
    "- Adds epsilon transitions from `nfa1`’s final states to `nfa2`’s start state.\n",
    "- Adjusts final states:\n",
    "  - If `nfa1`’s start state is final, includes `nfa2`’s final states.\n",
    "  - If `nfa2`’s start state is not final, removes `nfa1`’s final states.\n",
    "- Includes debug print statements to log the resulting NFA’s structure.\n"
   ]
  },
  {
   "cell_type": "code",
   "execution_count": 876,
   "id": "9eafad3d",
   "metadata": {},
   "outputs": [],
   "source": [
    "class And(And):\n",
    "    def to_nfa(self) -> NFA:\n",
    "        \"\"\"Function description: Converts an And regex to an NFA that accepts strings matching r1 followed by r2.\n",
    "        Parameters:\n",
    "            None\n",
    "        Return value:\n",
    "            NFA: An NFA concatenating the NFAs of r1 and r2 with epsilon transitions from r1's final states to r2's start state.\n",
    "        \"\"\"\n",
    "        nfa1 = self.r1.to_nfa()\n",
    "        nfa2 = self.r2.to_nfa()\n",
    "        nfa = deepcopy(nfa1)\n",
    "        offset = len(nfa1.states)\n",
    "        \n",
    "        for s in nfa2.states:\n",
    "            nfa.states.add(s + offset)\n",
    "            if s in nfa2.final:\n",
    "                nfa.final.add(s + offset)\n",
    "            nfa.transitions[s + offset] = {\n",
    "                a: {t + offset for t in targets}\n",
    "                for a, targets in nfa2.transitions.get(s, {}).items()\n",
    "            }\n",
    "            \n",
    "        for final_state in nfa1.final:\n",
    "            if final_state not in nfa.transitions:\n",
    "                 nfa.transitions[final_state] = {}\n",
    "            nfa.transitions[final_state][EPSILON] = nfa.transitions[final_state].get(EPSILON, set()) | {nfa2.start + offset}\n",
    "        \n",
    "        if nfa1.start in nfa1.final:\n",
    "             nfa.final |= {s + offset for s in nfa2.final}\n",
    "\n",
    "        if nfa2.start not in nfa2.final:\n",
    "            nfa.final -= nfa1.final\n",
    "\n",
    "        nfa.next_state = len(nfa.states)\n",
    "        print(f\"[DEBUG And.to_nfa] NFA created: states={nfa.states}, final={nfa.final}, next_state={nfa.next_state}\")\n",
    "        return nfa"
   ]
  },
  {
   "cell_type": "markdown",
   "id": "516d0bfa",
   "metadata": {},
   "source": [
    "### `Star` Class\n",
    "\n",
    "The `Star` class represents the Kleene star operation on a regular expression (e.g., `r*`).\n",
    "\n",
    "#### `__init__`\n",
    "**Description**: Initializes a `Star` regex object representing zero or more repetitions of a regular expression.\n",
    "\n",
    "**Parameters**:\n",
    "- `r` (`Regex`): The regular expression to repeat.\n",
    "\n",
    "**Return Value**:\n",
    "- None\n",
    "\n",
    "**Notes**:\n",
    "- Stores `r` for use in NFA construction.\n",
    "- Represents the regex operator `*` (e.g., `a*`).\n",
    "\n",
    "#### `to_nfa`\n",
    "**Description**: Converts a `Star` regex to an NFA that accepts zero or more repetitions of the underlying regex. The NFA has a new start state (also final) with epsilon transitions to the inner regex’s NFA and back from its final states.\n",
    "\n",
    "**Parameters**:\n",
    "- None\n",
    "\n",
    "**Return Value**:\n",
    "- `NFA`: An NFA with a start state that is final, epsilon transitions to the inner NFA’s start state, and epsilon transitions from the inner NFA’s final states back to the start state.\n",
    "\n",
    "**Notes**:\n",
    "- Creates a new start state (e.g., `0`), which is final to accept the empty string.\n",
    "- Offsets states from the inner NFA (`nfa1`) by `1`.\n",
    "- Adds epsilon transitions:\n",
    "  - From the start state to `nfa1`’s start state.\n",
    "  - From `nfa1`’s final states back to the start state (allowing repetition).\n",
    "- Includes debug print statements to log the resulting NFA’s structure.\n",
    "\n",
    "### Notes on Usage\n",
    "- **Alphabet**: The code assumes a global `ALPHABET` set (e.g., `{'a', 'b'}`) and an `EPSILON` constant (e.g., `'ε'`), which must be defined elsewhere.\n",
    "- **NFA Class**: The code references an `NFA` class with attributes like `states`, `transitions`, `start`, `final`, `add_state`, `make_final`, and `next_state`. This class is not shown but is assumed to support NFA operations (e.g., adding states, transitions, and final states).\n",
    "- **Deepcopy**: The `And.to_nfa` method uses `deepcopy` (from the `copy` module) to clone `nfa1`, ensuring the original NFA is not modified.\n",
    "- **Debugging**: The `And` and `Star` classes include debug print statements to help trace NFA construction, which can be removed in production code."
   ]
  },
  {
   "cell_type": "code",
   "execution_count": 877,
   "id": "cb3300e7",
   "metadata": {},
   "outputs": [],
   "source": [
    "class Star(Regex):\n",
    "    def __init__(self, r: Regex) -> None:\n",
    "        \"\"\"Function description: Initializes a Star regex representing zero or more repetitions of a regex.\n",
    "        Parameters:\n",
    "            r (Regex): The regular expression to repeat.\n",
    "        Return value:\n",
    "            None\n",
    "        \"\"\"\n",
    "        self.r = r\n",
    "\n",
    "    def to_nfa(self) -> NFA:\n",
    "        \"\"\"Function description: Converts a Star regex to an NFA that accepts zero or more repetitions of r.\n",
    "        Parameters:\n",
    "            None\n",
    "        Return value:\n",
    "            NFA: An NFA with a start state that is final and has epsilon transitions to and from the inner regex NFA.\n",
    "        \"\"\"\n",
    "        nfa1 = self.r.to_nfa()\n",
    "        nfa = NFA()\n",
    "        nfa.start = 0\n",
    "        nfa.make_final(0)\n",
    "        offset = 1\n",
    "        \n",
    "        for s in nfa1.states:\n",
    "            nfa.states.add(s + offset)\n",
    "            nfa.transitions[s + offset] = {\n",
    "                a: {t + offset for t in targets}\n",
    "                for a, targets in nfa1.transitions.get(s, {}).items()\n",
    "            }\n",
    "        \n",
    "        nfa.transitions[0] = {EPSILON: {nfa1.start + offset}}\n",
    "        \n",
    "        for final_state in nfa1.final:\n",
    "            if final_state + offset not in nfa.transitions:\n",
    "                nfa.transitions[final_state + offset] = {}\n",
    "            nfa.transitions[final_state + offset][EPSILON] = nfa.transitions[final_state + offset].get(EPSILON, set()) | {0}\n",
    "\n",
    "        nfa.next_state = len(nfa.states)\n",
    "        print(f\"[DEBUG Star.to_nfa] NFA created: states={nfa.states}, final={nfa.final}, next_state={nfa.next_state}\")\n",
    "        return nfa\n"
   ]
  },
  {
   "cell_type": "markdown",
   "id": "01794825",
   "metadata": {},
   "source": [
    "#### Helper classes and Functions"
   ]
  },
  {
   "cell_type": "code",
   "execution_count": 878,
   "id": "76f29797",
   "metadata": {},
   "outputs": [],
   "source": [
    "class Node: ...\n",
    "class State: ...\n",
    "class Hypothesis: ...\n",
    "class Transition: ...\n",
    "class Teacher: ..."
   ]
  },
  {
   "cell_type": "code",
   "execution_count": 879,
   "id": "b8786da2",
   "metadata": {},
   "outputs": [],
   "source": [
    "class Node:\n",
    "    is_leaf: bool\n",
    "    _is_temporary: bool\n",
    "    _children: tuple[Optional[Node], Optional[Node]]\n",
    "    _parent: Optional[Node]\n",
    "    _state: Optional[State]\n",
    "    _discriminator: Optional[str]\n",
    "    _block: Optional[Node]\n",
    "    _incoming_non_tree: set[Transition]\n",
    "    depth: int\n",
    "\n",
    "    def __init__(\n",
    "        self,\n",
    "        is_leaf: bool,\n",
    "        children: tuple[Optional[Node], Optional[Node]],\n",
    "        parent: Optional[Node] = None,\n",
    "        state: Optional[State] = None,\n",
    "        discriminator: Optional[str] = None,\n",
    "    ) -> None:\n",
    "        \"\"\"Function description: Initializes a Node in the discrimination tree.\n",
    "        Parameters:\n",
    "            is_leaf (bool): Whether the node is a leaf node.\n",
    "            children (tuple[Optional[Node], Optional[Node]]): The left and right child nodes.\n",
    "            parent (Optional[Node]): The parent node, defaults to None.\n",
    "            state (Optional[State]): The state associated with the node, defaults to None.\n",
    "            discriminator (Optional[str]): The string used to discriminate states, defaults to None.\n",
    "        Return value:\n",
    "            None\n",
    "        \"\"\"\n",
    "        self.is_leaf = is_leaf\n",
    "        self._is_temporary = discriminator != \"\" and not self.is_leaf\n",
    "        self._children = children\n",
    "        self._parent = parent\n",
    "        self._state = state\n",
    "        self._discriminator = discriminator\n",
    "        self._block = None\n",
    "        self._incoming_non_tree = set()\n",
    "        self.depth = 0\n",
    "        print(f\"[DEBUG Node.__init__] Node created: temporary={self._is_temporary}, depth={self.depth}\")\n",
    "\n",
    "    def __repr__(self) -> str:\n",
    "        \"\"\"Function description: Returns a string representation of the node.\n",
    "        Parameters:\n",
    "            None\n",
    "        Return value:\n",
    "            str: A string indicating whether the node is a leaf, temporary, or inner node with its discriminator or state.\n",
    "        \"\"\"\n",
    "        if self.is_leaf:\n",
    "            return f\"Node<{self.state}>\"\n",
    "        elif self.is_temporary:\n",
    "            return f\"Node<~{self.discriminator}>\"\n",
    "        else:\n",
    "            return f\"Node<{self.discriminator}>\"\n",
    "        \n",
    "    def __iter__(self) -> Generator[Node, None, None]:\n",
    "        \"\"\"Function description: Iterates over the node and its descendants in a pre-order traversal.\n",
    "        Parameters:\n",
    "            None\n",
    "        Return value:\n",
    "            Generator[Node, None, None]: Yields the current node and its descendants.\n",
    "        \"\"\"\n",
    "        if self._children[0]:\n",
    "            yield from self._children[0]\n",
    "        yield self\n",
    "        if self._children[1]:\n",
    "            yield from self._children[1]"
   ]
  },
  {
   "cell_type": "code",
   "execution_count": 880,
   "id": "753d6d0b",
   "metadata": {},
   "outputs": [],
   "source": [
    "class Node(Node):\n",
    "    def replace_with_final(self, node: Node) -> None:\n",
    "        \"\"\"Function description: Replaces the current node's attributes with those of another node.\n",
    "        Parameters:\n",
    "            node (Node): The node whose attributes will replace the current node's.\n",
    "        Return value:\n",
    "            None\n",
    "        \"\"\"\n",
    "        self.is_leaf = node.is_leaf\n",
    "        self._is_temporary = False\n",
    "        self.block = None\n",
    "        self._children = node._children\n",
    "        self._state = node._state\n",
    "        self._discriminator = node._discriminator\n",
    "        self._incoming_non_tree = node._incoming_non_tree\n",
    "        print(f\"[DEBUG Node.replace_with_final] Updated node: is_leaf={self.is_leaf}, discriminator='{self._discriminator}', state={self._state}\")"
   ]
  },
  {
   "cell_type": "code",
   "execution_count": 881,
   "id": "93dcb74f",
   "metadata": {},
   "outputs": [],
   "source": [
    "class Node(Node):\n",
    "    @classmethod\n",
    "    def make_leaf(cls) -> Node:\n",
    "        \"\"\"Function description: Creates a new leaf node.\n",
    "        Parameters:\n",
    "            None\n",
    "        Return value:\n",
    "            Node: A new leaf node with no children or discriminator.\n",
    "        \"\"\"\n",
    "        print(\"[DEBUG Node.make_leaf] Creating new leaf node\")\n",
    "        return Node(True, (None, None))"
   ]
  },
  {
   "cell_type": "code",
   "execution_count": 882,
   "id": "2b6e7a51",
   "metadata": {},
   "outputs": [],
   "source": [
    "class Node(Node):\n",
    "    @classmethod\n",
    "    def make_inner(\n",
    "        cls,\n",
    "        discriminator: str,\n",
    "        children: tuple[Optional[Node], Optional[Node]] = (None, None),\n",
    "    ) -> Node:\n",
    "        \"\"\"Function description: Creates a new inner node with a discriminator and optional children.\n",
    "        Parameters:\n",
    "            discriminator (str): The string used to discriminate states.\n",
    "            children (tuple[Optional[Node], Optional[Node]]): The left and right child nodes, defaults to (None, None).\n",
    "        Return value:\n",
    "            Node: A new inner node with the specified discriminator and children.\n",
    "        \"\"\"\n",
    "        new_node = Node(False, children, discriminator=discriminator)\n",
    "        for child in children:\n",
    "            if child:\n",
    "                child.parent = new_node\n",
    "        print(f\"[DEBUG Node.make_inner] Inner node created: {new_node}\")\n",
    "        return new_node"
   ]
  },
  {
   "cell_type": "code",
   "execution_count": 883,
   "id": "72a4ef00",
   "metadata": {},
   "outputs": [],
   "source": [
    "class Node(Node):\n",
    "    @classmethod\n",
    "    def lca(cls, nodes: list[Node]) -> Node:\n",
    "        \"\"\"Function description: Computes the least common ancestor (LCA) of a list of nodes.\n",
    "        Parameters:\n",
    "            nodes (list[Node]): The list of nodes to find the LCA for.\n",
    "        Return value:\n",
    "            Node: The least common ancestor node.\n",
    "        \"\"\"\n",
    "        if not nodes:\n",
    "            raise ValueError(\"Cannot compute LCA of an empty list of nodes\")\n",
    "        min_depth = min(node.depth for node in nodes)\n",
    "        print(f\"[DEBUG Node.lca] Minimum depth: {min_depth}\")\n",
    "        nodes_in_layer = set()\n",
    "\n",
    "        for node in nodes:\n",
    "            while node.depth > min_depth:\n",
    "                node = node.parent\n",
    "                if node is None:\n",
    "                    raise ValueError(\"Null parent of non-root node\")\n",
    "            nodes_in_layer.add(node)\n",
    "\n",
    "        while len(nodes_in_layer) > 1:\n",
    "            nodes_in_layer = {\n",
    "                node.parent for node in nodes_in_layer if node.parent is not None\n",
    "            }\n",
    "\n",
    "        if not nodes_in_layer:\n",
    "            raise ValueError(f\"LCA of {nodes} couldn't be computed\")\n",
    "        result = nodes_in_layer.pop()\n",
    "        print(f\"[DEBUG Node.lca] LCA found: {result}\")\n",
    "        return result"
   ]
  },
  {
   "cell_type": "code",
   "execution_count": 884,
   "id": "aa882298",
   "metadata": {},
   "outputs": [],
   "source": [
    "class Node(Node):\n",
    "    def states(self) -> Generator[State, None, None]:\n",
    "        \"\"\"Function description: Yields all states associated with leaf nodes in the subtree.\n",
    "        Parameters:\n",
    "            None\n",
    "        Return value:\n",
    "            Generator[State, None, None]: Yields states linked to leaf nodes.\n",
    "        \"\"\"\n",
    "        print(f\"[DEBUG Node.states] Collecting states for node {self}\")\n",
    "        for node in self:\n",
    "            if node.is_leaf and node.state is not None:\n",
    "                print(f\"[DEBUG Node.states] Yielding state {node.state}\")\n",
    "                yield node.state"
   ]
  },
  {
   "cell_type": "code",
   "execution_count": 885,
   "id": "f76d37d2",
   "metadata": {},
   "outputs": [],
   "source": [
    "class Node(Node):\n",
    "    @property\n",
    "    def is_temporary(self) -> bool:\n",
    "        \"\"\"Function description: Checks if the node is temporary (non-leaf with non-empty discriminator).\n",
    "        Parameters:\n",
    "            None\n",
    "        Return value:\n",
    "            bool: True if the node is temporary, False otherwise.\n",
    "        \"\"\"\n",
    "        return self._is_temporary"
   ]
  },
  {
   "cell_type": "code",
   "execution_count": 886,
   "id": "2ca8f341",
   "metadata": {},
   "outputs": [],
   "source": [
    "class Node(Node):\n",
    "    @property\n",
    "    def parent(self) -> Optional[Node]:\n",
    "        \"\"\"Function description: Gets the parent node.\n",
    "        Parameters:\n",
    "            None\n",
    "        Return value:\n",
    "            Optional[Node]: The parent node, or None if the node is the root.\n",
    "        \"\"\"\n",
    "        print(f\"[DEBUG Node.parent.setter] Updated depth={self.depth}, block={self.block}\")\n",
    "        return self._parent\n",
    "\n",
    "    @parent.setter\n",
    "    def parent(self, node: Node) -> None:\n",
    "        \"\"\"Function description: Sets the parent node and updates depth and block.\n",
    "        Parameters:\n",
    "            node (Node): The new parent node.\n",
    "        Return value:\n",
    "            None\n",
    "        \"\"\"\n",
    "        self._parent = node\n",
    "        self.block = node.block\n",
    "        self.depth = node.depth + 1"
   ]
  },
  {
   "cell_type": "code",
   "execution_count": 887,
   "id": "cfb58a2d",
   "metadata": {},
   "outputs": [],
   "source": [
    "class Node(Node):\n",
    "    @property\n",
    "    def children(self) -> tuple[Optional[Node], Optional[Node]]:\n",
    "        \"\"\"Function description: Gets the child nodes.\n",
    "        Parameters:\n",
    "            None\n",
    "        Return value:\n",
    "            tuple[Optional[Node], Optional[Node]]: The left and right child nodes.\n",
    "        \"\"\"\n",
    "        return self._children"
   ]
  },
  {
   "cell_type": "code",
   "execution_count": 888,
   "id": "7a0138bc",
   "metadata": {},
   "outputs": [],
   "source": [
    "class Node(Node):\n",
    "    @property\n",
    "    def state(self) -> Optional[State]:\n",
    "        \"\"\"Function description: Gets the state associated with the node.\n",
    "        Parameters:\n",
    "            None\n",
    "        Return value:\n",
    "            Optional[State]: The state linked to the node, or None if not linked.\n",
    "        \"\"\"\n",
    "        return self._state\n",
    "\n",
    "    @state.setter\n",
    "    def state(self, state: State) -> None:\n",
    "        \"\"\"Function description: Sets the state associated with the node and updates the block.\n",
    "        Parameters:\n",
    "            state (State): The state to link to the node.\n",
    "        Return value:\n",
    "            None\n",
    "        \"\"\"\n",
    "        print(f\"[DEBUG Node.state.setter] Linking state {state} to node {self}\")\n",
    "        self._state = state\n",
    "        if self.block is None:\n",
    "            self.block = self\n",
    "        print(f\"[DEBUG Node.state.setter] Updated block={self.block}\")"
   ]
  },
  {
   "cell_type": "code",
   "execution_count": 889,
   "id": "3a98af6c",
   "metadata": {},
   "outputs": [],
   "source": [
    "class Node(Node):\n",
    "    def sift(self, s: str, teacher: Teacher) -> Node:\n",
    "        \"\"\"Function description: Sifts a string through the discrimination tree to find the appropriate leaf node.\n",
    "        Parameters:\n",
    "            s (str): The string to sift.\n",
    "            teacher (Teacher): The teacher object to query membership.\n",
    "        Return value:\n",
    "            Node: The leaf node reached after sifting.\n",
    "        \"\"\"\n",
    "        if self.is_leaf: return self\n",
    "        subtree = int(teacher.is_member(s + self.discriminator))\n",
    "        child = self.children[subtree]\n",
    "        print(f\"[DEBUG Node.sift] Query '{s + self.discriminator}' -> {subtree}, moving to child {child}\")\n",
    "        return child.sift(s, teacher)\n",
    "\n",
    "    def soft_sift(self, s: str, teacher: Teacher) -> Node:\n",
    "        \"\"\"Function description: Sifts a string through non-temporary nodes to find a leaf or temporary node.\n",
    "        Parameters:\n",
    "            s (str): The string to sift.\n",
    "            teacher (Teacher): The teacher object to query membership.\n",
    "        Return value:\n",
    "            Node: The leaf or temporary node reached after sifting.\n",
    "        \"\"\"\n",
    "        if self.is_leaf or self.is_temporary: return self\n",
    "        subtree = int(teacher.is_member(s + self.discriminator))\n",
    "        child = self.children[subtree]\n",
    "        print(f\"[DEBUG Node.soft_sift] Query '{s + self.discriminator}' -> {subtree}, moving to child {child}\")\n",
    "        return child.soft_sift(s, teacher)"
   ]
  },
  {
   "cell_type": "code",
   "execution_count": 890,
   "id": "0b87f554",
   "metadata": {},
   "outputs": [],
   "source": [
    "class Node(Node):\n",
    "    @property\n",
    "    def discriminator(self):\n",
    "        \"\"\"Function description: Gets the discriminator string of the node.\n",
    "        Parameters:\n",
    "            None\n",
    "        Return value:\n",
    "            Optional[str]: The discriminator string, or None for leaf nodes.\n",
    "        \"\"\"\n",
    "        return self._discriminator\n",
    "\n",
    "    @property\n",
    "    def parent_value(self) -> bool:\n",
    "        \"\"\"Function description: Determines the boolean value (False for left child, True for right) of the node relative to its parent.\n",
    "        Parameters:\n",
    "            None\n",
    "        Return value:\n",
    "            bool: False if the node is the left child, True if the right child.\n",
    "        \"\"\"\n",
    "        print(f\"[DEBUG Node.parent_value] Checking parent value for node {self}\")\n",
    "        if self.parent is None:\n",
    "            print(\"[DEBUG Node.parent_value] No parent, raising ValueError\")\n",
    "            raise ValueError(f\"{self} has no parent\")\n",
    "        if self == self.parent.children[0]:\n",
    "            print(\"[DEBUG Node.parent_value] Node is left child, returning False\")\n",
    "            return False\n",
    "        if self == self.parent.children[1]:\n",
    "            print(\"[DEBUG Node.parent_value] Node is right child, returning True\")\n",
    "            return True\n",
    "        print(\"[DEBUG Node.parent_value] Node not a child of its parent, raising ValueError\")\n",
    "        raise ValueError(f\"{self} is not the child of its parent\")\n",
    "\n",
    "    @property\n",
    "    def signature(self) -> list[tuple[str, bool]]:\n",
    "        \"\"\"Function description: Computes the signature of the node based on its discriminators and parent values.\n",
    "        Parameters:\n",
    "            None\n",
    "        Return value:\n",
    "            list[tuple[str, bool]]: A list of (discriminator, parent_value) pairs from the node to the root.\n",
    "        \"\"\"\n",
    "        if self.parent is None: return []\n",
    "        return [(self.parent.discriminator, self.parent_value), *self.parent.signature]\n",
    "\n",
    "    @property\n",
    "    def block(self) -> Optional[Node]:\n",
    "        \"\"\"Function description: Gets the block node associated with this node.\n",
    "        Parameters:\n",
    "            None\n",
    "        Return value:\n",
    "            Optional[Node]: The block node, or None if not set.\n",
    "        \"\"\"\n",
    "        return self._block\n",
    "\n",
    "    @block.setter\n",
    "    def block(self, block: Optional[Node]) -> None:\n",
    "        \"\"\"Function description: Sets the block node for this node.\n",
    "        Parameters:\n",
    "            block (Optional[Node]): The block node to set.\n",
    "        Return value:\n",
    "            None\n",
    "        \"\"\"\n",
    "        print(f\"[DEBUG Node.block.setter] Setting block of {self} to {block}\")\n",
    "        self._block = block\n",
    "\n",
    "    @property\n",
    "    def incoming_non_tree(self) -> set[Transition]:\n",
    "        \"\"\"Function description: Gets the set of non-tree transitions pointing to this node.\n",
    "        Parameters:\n",
    "            None\n",
    "        Return value:\n",
    "            set[Transition]: The set of non-tree transitions.\n",
    "        \"\"\"\n",
    "        return self._incoming_non_tree\n",
    "\n",
    "    def link(self, state: State) -> None:\n",
    "        \"\"\"Function description: Links a state to this node, ensuring mutual references.\n",
    "        Parameters:\n",
    "            state (State): The state to link to the node.\n",
    "        Return value:\n",
    "            None\n",
    "        \"\"\"\n",
    "        self.state = state\n",
    "        state.node = self\n",
    "        print(f\"[DEBUG Node.link] Linked: node.state={self.state}, state.node={state.node}\")\n",
    "\n",
    "    def split_leaf(self, discriminator: str) -> tuple[Node, Node]:\n",
    "        \"\"\"Function description: Splits a leaf node into an inner node with two leaf children.\n",
    "        Parameters:\n",
    "            discriminator (str): The discriminator string for the new inner node.\n",
    "        Return value:\n",
    "            tuple[Node, Node]: The two new leaf nodes created as children.\n",
    "        \"\"\"\n",
    "        self.is_leaf = False\n",
    "        self._is_temporary = True\n",
    "        self._state = None\n",
    "        self._discriminator = discriminator\n",
    "        children = (Node.make_leaf(), Node.make_leaf())\n",
    "        for child in children:\n",
    "            child.parent = self\n",
    "        self._children = children\n",
    "        print(f\"[DEBUG Node.split_leaf] Created children: {children}\")\n",
    "        return children"
   ]
  },
  {
   "cell_type": "code",
   "execution_count": 891,
   "id": "22e60b79",
   "metadata": {},
   "outputs": [],
   "source": [
    "class Transition:\n",
    "    hypothesis: Hypothesis\n",
    "    aseq: str\n",
    "    _target_node: Node\n",
    "    _target_state: Optional[State]\n",
    "\n",
    "    def __init__(self, hypothesis: Hypothesis, aseq: str, target: Node) -> None:\n",
    "        \"\"\"Function description: Initializes a transition with a hypothesis, access sequence, and target node.\n",
    "        Parameters:\n",
    "            hypothesis (Hypothesis): The hypothesis this transition belongs to.\n",
    "            aseq (str): The access sequence leading to the target.\n",
    "            target (Node): The target node of the transition.\n",
    "        Return value:\n",
    "            None\n",
    "        \"\"\"\n",
    "        self.hypothesis = hypothesis\n",
    "        self.aseq = aseq\n",
    "        self._target_node = target\n",
    "        target.incoming_non_tree.add(self)\n",
    "        self._target_state = None\n",
    "        print(f\"[DEBUG Transition.__init__] Transition created: incoming_non_tree={target.incoming_non_tree}\")\n",
    "\n",
    "    def is_tree(self) -> bool:\n",
    "        \"\"\"Function description: Checks if the transition points to a state (tree transition).\n",
    "        Parameters:\n",
    "            None\n",
    "        Return value:\n",
    "            bool: True if the transition has a target state, False otherwise.\n",
    "        \"\"\"\n",
    "        result = self._target_state is not None\n",
    "        print(f\"[DEBUG Transition.is_tree] Transition {self.aseq} is_tree: {result}\")\n",
    "        return result\n",
    "\n",
    "    @property\n",
    "    def target_node(self) -> Node:\n",
    "        return self._target_state.node if self._target_state else self._target_node\n",
    "\n",
    "    @target_node.setter\n",
    "    def target_node(self, tgt: Node):\n",
    "        \"\"\"Function description: Sets the target node for a non-tree transition, updating incoming non-tree sets.\n",
    "        Parameters:\n",
    "            tgt (Node): The new target node.\n",
    "        Return value:\n",
    "            None\n",
    "        \"\"\"\n",
    "        if not self.is_tree():\n",
    "            if self in self.target_node.incoming_non_tree:\n",
    "                 self.target_node.incoming_non_tree.remove(self)\n",
    "            tgt.incoming_non_tree.add(self)\n",
    "            self._target_node = tgt\n",
    "            print(f\"[DEBUG Transition.target_node.setter] Updated target_node={self._target_node}, incoming_non_tree={tgt.incoming_non_tree}\")\n",
    "\n",
    "    @property\n",
    "    def target_state(self) -> Optional[State]:\n",
    "        \"\"\"Function description: Gets the target state, if set, or the state associated with the target node.\n",
    "        Parameters:\n",
    "            None\n",
    "        Return value:\n",
    "            Optional[State]: The target state, or None if not set.\n",
    "        \"\"\"\n",
    "        state = self._target_state or (self._target_node.state if self._target_node else None)\n",
    "        print(f\"[DEBUG Transition.target_state] Getting target state for aseq='{self.aseq}': {state}\")\n",
    "        return state\n",
    "\n",
    "\n",
    "    @target_state.setter\n",
    "    def target_state(self, state: State) -> None:\n",
    "        \"\"\"Function description: Sets the target state for the transition.\n",
    "        Parameters:\n",
    "            state (State): The new target state.\n",
    "        Return value:\n",
    "            None\n",
    "        \"\"\"\n",
    "        print(f\"[DEBUG Transition.target_state.setter] Setting target state for aseq='{self.aseq}' to {state}\")\n",
    "        self._target_state = state\n",
    "\n",
    "    def make_tree(self, node: Node) -> State:\n",
    "        \"\"\"Function description: Converts a non-tree transition to a tree transition by assigning a state.\n",
    "        Parameters:\n",
    "            node (Node): The node to link the state to.\n",
    "        Return value:\n",
    "            State: The state associated with the transition.\n",
    "        \"\"\"\n",
    "        if self.is_tree():\n",
    "            state = self._target_state\n",
    "            if state.node != node:\n",
    "                state.node = node\n",
    "                node.link(state)\n",
    "            return state\n",
    "        else:\n",
    "            state = self.hypothesis.add_state(self.aseq)\n",
    "            if self in self.target_node.incoming_non_tree:\n",
    "                self.target_node.incoming_non_tree.remove(self)\n",
    "            self.target_state = state\n",
    "            if (\"\", True) in node.signature:\n",
    "                self.hypothesis.make_final(state)\n",
    "            node.link(state)\n",
    "            return state"
   ]
  },
  {
   "cell_type": "code",
   "execution_count": 892,
   "id": "fcbb7b06",
   "metadata": {},
   "outputs": [],
   "source": [
    "class Hypothesis:\n",
    "    alphabet: str\n",
    "    root_node: Node\n",
    "    open_transitions: list[Transition]\n",
    "    start: State\n",
    "    states: set[State]\n",
    "    final_states: set[State]\n",
    "\n",
    "    def __init__(self, root_node: Node, alphabet: str) -> None:\n",
    "        \"\"\"Function description: Initializes a Hypothesis with a root node and alphabet.\n",
    "        Parameters:\n",
    "            root_node (Node): The root of the discrimination tree.\n",
    "            alphabet (str): The input alphabet for the automaton.\n",
    "        Return value:\n",
    "            None\n",
    "        \"\"\"\n",
    "        self.alphabet = alphabet\n",
    "        self.root_node = root_node\n",
    "        self.open_transitions = []\n",
    "        self.states = set()\n",
    "        self.start = self.add_state(\"\")\n",
    "        self.final_states = set()\n",
    "\n",
    "    def print_hypothesis(self) -> None:\n",
    "        \"\"\"Function description: Prints the hypothesis's states, transitions, and final states.\n",
    "        Parameters:\n",
    "            None\n",
    "        Return value:\n",
    "            None\n",
    "        \"\"\"\n",
    "        __builtins__.print(f\"Initial state: {self.start}\")\n",
    "        final_states_str = \", \".join(map(str, sorted(list(self.final_states), key=lambda s: s.id)))\n",
    "        __builtins__.print(f\"Final states: {{ {final_states_str} }}\")\n",
    "        for state in sorted(list(self.states), key=lambda s: s.id):\n",
    "            __builtins__.print(f\"State: {state} (aseq = '{state.aseq}')\")\n",
    "            for a, transition in sorted(state.transitions.items()):\n",
    "                arrow = \"=>\" if transition.is_tree() else \"->\"\n",
    "                __builtins__.print(f\"\\t{arrow}{a}{arrow} {transition.target_state}\")\n",
    "\n",
    "    def add_state(self, aseq: str) -> State:\n",
    "        \"\"\"Function description: Adds a new state to the hypothesis with the given access sequence.\n",
    "        Parameters:\n",
    "            aseq (str): The access sequence leading to the state.\n",
    "        Return value:\n",
    "            State: The newly created state.\n",
    "        \"\"\"\n",
    "        state = State(self, aseq)\n",
    "        self.states.add(state)\n",
    "        state.transitions = {\n",
    "            a: Transition(self, aseq + a, self.root_node) for a in self.alphabet\n",
    "        }\n",
    "        self.open_transitions.extend(state.transitions.values())\n",
    "        print(f\"[DEBUG Hypothesis.add_state] State added: {state}, transitions={state.transitions}\")\n",
    "        return state\n",
    "\n",
    "    def make_final(self, state: State) -> None:\n",
    "        \"\"\"Function description: Marks a state as final.\n",
    "        Parameters:\n",
    "            state (State): The state to mark as final.\n",
    "        Return value:\n",
    "            None\n",
    "        \"\"\"\n",
    "        print(f\"[DEBUG Hypothesis.make_final] Marking state {state} as final\")\n",
    "        self.final_states.add(state)\n",
    "\n",
    "    def run(self, s: str, start: Optional[State] = None) -> State:\n",
    "        \"\"\"Function description: Runs the hypothesis on an input string to reach a state.\n",
    "        Parameters:\n",
    "            s (str): The input string to process.\n",
    "            start (Optional[State]): The starting state, defaults to the hypothesis's start state.\n",
    "        Return value:\n",
    "            State: The state reached after processing the string.\n",
    "        \"\"\"\n",
    "        curr = start or self.start\n",
    "        for char in s:\n",
    "            if curr.transitions[char].target_state is None:\n",
    "                # This indicates an issue, the hypothesis should be closed\n",
    "                raise ValueError(f\"Hypothesis not closed. Transition on '{char}' from state {curr} is unresolved.\")\n",
    "            curr = curr.transitions[char].target_state\n",
    "        print(f\"[DEBUG Hypothesis.run] Final state: {curr}\")\n",
    "        return curr\n",
    "\n",
    "    def evaluate(self, s: str, start: Optional[State] = None) -> bool:\n",
    "        \"\"\"Function description: Evaluates if the input string is accepted by the hypothesis.\n",
    "        Parameters:\n",
    "            s (str): The input string to evaluate.\n",
    "            start (Optional[State]): The starting state, defaults to the hypothesis's start state.\n",
    "        Return value:\n",
    "            bool: True if the final state is in final_states, False otherwise.\n",
    "        \"\"\"\n",
    "        result = self.run(s, start) in self.final_states\n",
    "        print(f\"[DEBUG Hypothesis.evaluate] Result: {result}\")\n",
    "        return result\n",
    "\n",
    "    def run_non_deterministic(self, s: str, teacher: Teacher, start: Optional[State] = None) -> State:\n",
    "        \"\"\"Function description: Runs the hypothesis non-deterministically, sifting unresolved transitions.\n",
    "        Parameters:\n",
    "            s (str): The input string to process.\n",
    "            teacher (Teacher): The teacher object to query membership for sifting.\n",
    "            start (Optional[State]): The starting state, defaults to the hypothesis's start state.\n",
    "        Return value:\n",
    "            State: The state reached after processing the string.\n",
    "        \"\"\"\n",
    "        curr = start or self.start\n",
    "        for char in s:\n",
    "            t = curr.transitions[char]\n",
    "            if not t.target_node.is_leaf:\n",
    "                t.target_node = t.target_node.sift(t.aseq, teacher)\n",
    "            curr = t.target_state\n",
    "        print(f\"[DEBUG Hypothesis.run_non_deterministic] Final state: {curr}\")\n",
    "        return curr\n",
    "\n",
    "    def evaluate_non_deterministic(self, s: str, teacher: Teacher, start: Optional[State] = None) -> bool:\n",
    "        \"\"\"Function description: Evaluates if the input string is accepted non-deterministically.\n",
    "        Parameters:\n",
    "            s (str): The input string to evaluate.\n",
    "            teacher (Teacher): The teacher object to query membership for sifting.\n",
    "            start (Optional[State]): The starting state, defaults to the hypothesis's start state.\n",
    "        Return value:\n",
    "            bool: True if the final state is in final_states, False otherwise.\n",
    "        \"\"\"\n",
    "        result = self.run_non_deterministic(s, teacher, start) in self.final_states\n",
    "        print(f\"[DEBUG Hypothesis.evaluate_non_deterministic] Result: {result}\")\n",
    "        return result\n",
    "\n",
    "    def to_dfa(self) -> DFA:\n",
    "        \"\"\"Function description: Converts the hypothesis to an equivalent DFA.\n",
    "        Parameters:\n",
    "            None\n",
    "        Return value:\n",
    "            DFA: The deterministic finite automaton equivalent to the hypothesis.\n",
    "        \"\"\"\n",
    "        display(Markdown(f\"Converting Hypothesis to DFA with alphabet: {self.alphabet}\"))\n",
    "        dfa = DFA()\n",
    "        dfa.start = self.start.id\n",
    "        dfa.states = {s.id for s in self.states}\n",
    "        dfa.final = {s.id for s in self.final_states}\n",
    "        dfa.next_state = len(dfa.states) + 1\n",
    "        for h_state in self.states:\n",
    "            d_state = h_state.id\n",
    "            dfa.transitions[d_state] = {}\n",
    "            for a, t in h_state.transitions.items():\n",
    "                if t.target_state is None:\n",
    "                    print(f\"[DEBUG Hypothesis.to_dfa] No target state for transition {h_state} on '{a}', raising RuntimeError\")\n",
    "                    raise RuntimeError(f\"Error converting to DFA: Hypothesis is not closed. Transition from state {h_state} on '{a}' has no target state.\")\n",
    "                dfa.transitions[d_state][a] = t.target_state.id\n",
    "                display(Markdown(f\"Transition: {h_state} --{a}--> {t.target_state}\"))\n",
    "        dfa.close_with_sink(list(self.alphabet))\n",
    "        print(f\"[DEBUG Hypothesis.to_dfa] DFA after sink: transitions={dfa.transitions}\")\n",
    "        return dfa\n"
   ]
  },
  {
   "cell_type": "code",
   "execution_count": 893,
   "id": "dc53bdb5",
   "metadata": {},
   "outputs": [],
   "source": [
    "class State:\n",
    "    next_id: int = 0\n",
    "    id: int\n",
    "    hypothesis: Hypothesis\n",
    "    node: Node\n",
    "    transitions: dict[str, Transition]\n",
    "    aseq: str\n",
    "\n",
    "    def __init__(self, hypothesis: Hypothesis, aseq: str) -> None:\n",
    "        \"\"\"Function description: Initializes a state with a hypothesis and access sequence.\n",
    "        Parameters:\n",
    "            hypothesis (Hypothesis): The hypothesis this state belongs to.\n",
    "            aseq (str): The access sequence leading to this state.\n",
    "        Return value:\n",
    "            None\n",
    "        \"\"\"\n",
    "        self.id = State.next_id\n",
    "        State.next_id += 1\n",
    "        self.hypothesis = hypothesis\n",
    "        self.transitions = {}\n",
    "        self.aseq = aseq\n",
    "        self.node = None\n",
    "        print(f\"[DEBUG State.__init__] State created: id={self.id}, aseq='{self.aseq}'\")\n",
    "\n",
    "    def __repr__(self) -> str:\n",
    "        \"\"\"Function description: Returns a string representation of the state.\n",
    "        Parameters:\n",
    "            None\n",
    "        Return value:\n",
    "            str: The state identifier in the format 'q{self.id}'.\n",
    "        \"\"\"\n",
    "        return f\"q{self.id}\""
   ]
  },
  {
   "cell_type": "code",
   "execution_count": null,
   "id": "1d797cf5",
   "metadata": {},
   "outputs": [],
   "source": [
    "def visualize_dfa(hypothesis: Hypothesis, filename=\"dfa\", format=\"png\"):\n",
    "    dot = Digraph(name=\"DFA\", format=format)\n",
    "    dot.attr(rankdir=\"LR\")\n",
    "    dot.attr(\"node\", shape=\"circle\")\n",
    "\n",
    "    for state in hypothesis.states:\n",
    "        shape = \"doublecircle\" if state in hypothesis.final_states else \"circle\"\n",
    "        dot.node(str(state.id), shape=shape, label=str(state))\n",
    "\n",
    "    for state in hypothesis.states:\n",
    "        for symbol, transition in state.transitions.items():\n",
    "            dot.edge(str(state.id), str(transition.target_state.id), label=symbol)\n",
    "\n",
    "    dot.node(\"start\", shape=\"plaintext\", label=\"\")\n",
    "    dot.edge(\"start\", str(hypothesis.start.id))\n",
    "    dot.attr(label=filename, labelloc=\"t\", fontsize=\"20\")\n",
    "    output_path = dot.render(filename, cleanup=True)\n",
    "    print(f\"[DEBUG] DFA visualized and saved as '{output_path}'\")\n",
    "\n",
    "    # Display the image in the notebook\n",
    "    display(Image(filename=output_path))"
   ]
  },
  {
   "cell_type": "markdown",
   "id": "5828eacb",
   "metadata": {},
   "source": [
    "## Teacher Protocol and PerfectTeacher Class Description\n",
    "\n",
    "The `Teacher` protocol and `PerfectTeacher` class are integral components of the TTT algorithm, which learns a Deterministic Finite Automaton (DFA) through membership and equivalence queries. The `Teacher` protocol defines the interface for querying a target language, while the `PerfectTeacher` class implements this interface using a DFA constructed from a regular expression.\n",
    "\n",
    "### Teacher Protocol\n",
    "\n",
    "The `Teacher` protocol specifies the interface for a teacher that answers queries about a target language, used in the TTT algorithm to guide the learning process."
   ]
  },
  {
   "cell_type": "code",
   "execution_count": 895,
   "id": "a4e273e4",
   "metadata": {},
   "outputs": [],
   "source": [
    "class Teacher(Protocol):\n",
    "    def is_member(self, s: str) -> bool: ...\n",
    "    def is_equivalent(self, hypothesis: Hypothesis) -> tuple[bool, Optional[str]]: ..."
   ]
  },
  {
   "cell_type": "markdown",
   "id": "7c67ef29",
   "metadata": {},
   "source": [
    "### PerfectTeacher Class\n",
    "\n",
    "The `PerfectTeacher` class implements the `Teacher` protocol by constructing a DFA from a regular expression pattern and using it to answer membership and equivalence queries.\n",
    "\n",
    "#### Attributes\n",
    "\n",
    "- **dfa: DFA**\n",
    "  - The Deterministic Finite Automaton constructed from the input regular expression pattern.\n",
    "  - Used to evaluate membership and equivalence queries.\n",
    "\n",
    "#### Methods\n",
    "\n",
    "##### `__init__(self, alphabet: str, pattern: str) -> None`\n",
    "**Function description**: Initializes a PerfectTeacher with an alphabet and a regular expression pattern.  \n",
    "**Parameters**:  \n",
    "- `alphabet` (str): The input alphabet for the DFA.  \n",
    "- `pattern` (str): The regular expression pattern defining the target language.  \n",
    "**Return value**: None  \n",
    "**Behavior**: Sets the global `ALPHABET` variable to the provided alphabet. Parses the regular expression pattern using `Regex.parse`, converts it to an NFA with `to_nfa`, and determinizes it to a DFA using `determinise`. Stores the resulting DFA in the `dfa` attribute."
   ]
  },
  {
   "cell_type": "code",
   "execution_count": 896,
   "id": "2072e929",
   "metadata": {},
   "outputs": [],
   "source": [
    "class PerfectTeacher(Teacher):\n",
    "    def __init__(self, alphabet: str, pattern: str) -> None:\n",
    "        global ALPHABET\n",
    "        ALPHABET = alphabet\n",
    "        self.dfa = Regex.parse(pattern).to_nfa().determinise()"
   ]
  },
  {
   "cell_type": "markdown",
   "id": "e8e2bef0",
   "metadata": {},
   "source": [
    "##### `is_member(self, s: str) -> bool`\n",
    "**Function description**: Checks if a string is accepted by the target DFA.  \n",
    "**Parameters**:  \n",
    "- `s` (str): The input string to query.  \n",
    "**Return value**: `bool`: True if the string is accepted by the DFA, False otherwise.  \n",
    "**Behavior**: Delegates to the `evaluate` method of the stored DFA to determine if the input string is in the target language."
   ]
  },
  {
   "cell_type": "code",
   "execution_count": 897,
   "id": "e35b9ab7",
   "metadata": {},
   "outputs": [],
   "source": [
    "class PerfectTeacher(PerfectTeacher):\n",
    "    def is_member(self, s: str) -> bool:\n",
    "        return self.dfa.evaluate(s)"
   ]
  },
  {
   "cell_type": "markdown",
   "id": "c8456962",
   "metadata": {},
   "source": [
    "##### `is_equivalent(self, hypothesis: Hypothesis) -> tuple[bool, Optional[str]]`\n",
    "**Function description**: Checks if a hypothesis DFA is equivalent to the target DFA.  \n",
    "**Parameters**:  \n",
    "- `hypothesis` (Hypothesis): The hypothesis DFA to compare.  \n",
    "**Return value**: `tuple[bool, Optional[str]]`: A tuple where the first element is True if the hypothesis DFA is equivalent to the target DFA, False otherwise; the second element is a counterexample string if not equivalent, or None if equivalent.  \n",
    "**Behavior**: Converts the hypothesis to a DFA using `to_dfa` and compares it with the target DFA using the `is_equivalent` method. Returns the result and any counterexample provided by the DFA comparison."
   ]
  },
  {
   "cell_type": "code",
   "execution_count": 898,
   "id": "7550c49d",
   "metadata": {},
   "outputs": [],
   "source": [
    "class PerfectTeacher(PerfectTeacher):\n",
    "    def is_equivalent(self, hypothesis: Hypothesis) -> tuple[bool, Optional[str]]:\n",
    "        return self.dfa.is_equivalent(hypothesis.to_dfa())"
   ]
  },
  {
   "cell_type": "markdown",
   "id": "1aca428d",
   "metadata": {},
   "source": [
    "## Refiner Class\n",
    "\n",
    "The `Refiner` class and `visualize_dtree` function are critical components of the TTT (Tree-based Transition Table) algorithm, which learns a Deterministic Finite Automaton (DFA) through membership and equivalence queries. The `Refiner` class processes counterexamples provided by the teacher to refine the hypothesis DFA, while `visualize_dtree` aids in debugging by visualizing the discrimination tree.\n",
    "\n",
    "### Refiner Class\n",
    "\n",
    "The `Refiner` class is responsible for analyzing counterexamples to identify where the hypothesis DFA deviates from the target language, enabling the TTT algorithm to refine the hypothesis by adding new states or transitions.\n",
    "\n",
    "#### Attributes\n",
    "\n",
    "- **teacher: Teacher**\n",
    "  - The teacher object used to query membership and equivalence, guiding the refinement process.\n",
    "- **hypothesis: Hypothesis**\n",
    "  - The current hypothesis DFA being refined, containing the discrimination tree and state transitions.\n",
    "\n",
    "#### Methods\n",
    "\n",
    "##### `__init__(self, teacher: Teacher, hypothesis: Hypothesis) -> None`\n",
    "**Function description**: Initializes a Refiner with a teacher and hypothesis for refining the hypothesis.  \n",
    "**Parameters**:  \n",
    "- `teacher` (Teacher): The teacher object to query membership and equivalence.  \n",
    "- `hypothesis` (Hypothesis): The hypothesis DFA to refine.  \n",
    "**Return value**: None  \n",
    "**Behavior**: Stores the teacher and hypothesis for use in decomposition and refinement. Prints debug messages for initialization.  \n",
    "**Role in TTT**: Sets up the refiner to process counterexamples, enabling the algorithm to correct the hypothesis when equivalence queries fail."
   ]
  },
  {
   "cell_type": "code",
   "execution_count": 899,
   "id": "8be1c1a5",
   "metadata": {},
   "outputs": [],
   "source": [
    "class Refiner:\n",
    "    def __init__(self, teacher: Teacher, hypothesis: Hypothesis) -> None:\n",
    "        \"\"\"Function description: Initializes a Refiner with a teacher and hypothesis for refining the hypothesis.\n",
    "        Parameters:\n",
    "            teacher (Teacher): The teacher object to query membership and equivalence.\n",
    "            hypothesis (Hypothesis): The hypothesis DFA to refine.\n",
    "        Return value:\n",
    "            None\n",
    "        \"\"\"\n",
    "        print(\"[DEBUG Refiner.__init__] Initializing Refiner\")\n",
    "        self.teacher = teacher\n",
    "        self.hypothesis = hypothesis\n",
    "        print(f\"[DEBUG Refiner.__init__] Refiner initialized with teacher={teacher}, hypothesis={hypothesis}\")"
   ]
  },
  {
   "cell_type": "markdown",
   "id": "fdef11b5",
   "metadata": {},
   "source": [
    "##### `decompose(self, w: str) -> Tuple[str, str, str]`\n",
    "**Function description**: Decomposes a counterexample string into prefix, character, and suffix to identify where the hypothesis fails.  \n",
    "**Parameters**:  \n",
    "- `w` (str): The counterexample string provided by the teacher.  \n",
    "**Return value**: `Tuple[str, str, str]`: A tuple (u, a, v) where u is the prefix, a is the character, and v is the suffix.  \n",
    "**Behavior**: Uses binary search to find the first index `i` where the hypothesis’s behavior diverges from the target language. The inner `prefix_mapping` function computes the access sequence of the state reached by the prefix plus the remaining string. The `alpha` function checks if the teacher’s classification of the mapped string matches the original string’s classification. Returns the decomposed parts (u, a, v). Prints debug messages for decomposition steps.  \n",
    "**Role in TTT**: Identifies the point of divergence in the counterexample, allowing the TTT algorithm to add a new state or transition to the hypothesis, typically by updating the discrimination tree."
   ]
  },
  {
   "cell_type": "markdown",
   "id": "52811891",
   "metadata": {},
   "source": [
    "##### `prefix_mapping(self, s: str, i: int) -> str` (Inner function in `decompose`)\n",
    "**Function description**: Maps a prefix of the input string to the access sequence of the reached state plus the remaining string.  \n",
    "**Parameters**:  \n",
    "- `s` (str): The input string.  \n",
    "- `i` (int): The index to split the string.  \n",
    "**Return value**: `str`: The access sequence of the state reached by s[:i] concatenated with s[i:].  \n",
    "**Behavior**: Runs the hypothesis on the prefix s[:i] to get the reached state’s access sequence, then appends the remaining string s[i:]. Prints debug messages for the mapping process.  \n",
    "**Role in TTT**: Supports counterexample decomposition by mapping prefixes to equivalent strings in the hypothesis’s state space, helping identify inconsistencies."
   ]
  },
  {
   "cell_type": "markdown",
   "id": "347f9cdc",
   "metadata": {},
   "source": [
    "##### `alpha(self, i: int) -> bool` (Inner function in `decompose`)\n",
    "**Function description**: Checks if the teacher’s classification of the mapped prefix matches the classification of the original string.  \n",
    "**Parameters**:  \n",
    "- `i` (int): The index to split the string.  \n",
    "**Return value**: `bool`: True if classifications match, False otherwise.  \n",
    "**Behavior**: Queries the teacher for membership of the mapped string (from `prefix_mapping`) and compares it to the membership of the original string. Prints debug messages for the query and result.  \n",
    "**Role in TTT**: Determines whether the hypothesis’s behavior at a given prefix length is consistent with the target language, guiding the binary search in decomposition."
   ]
  },
  {
   "cell_type": "code",
   "execution_count": 900,
   "id": "4771afcd",
   "metadata": {},
   "outputs": [],
   "source": [
    "class Refiner(Refiner):\n",
    "    def decompose(self, w: str) -> Tuple[str, str, str]:\n",
    "        \"\"\"Function description: Decomposes a counterexample string into prefix, character, and suffix to identify where the hypothesis fails.\n",
    "        Parameters:\n",
    "            w (str): The counterexample string provided by the teacher.\n",
    "        Return value:\n",
    "            Tuple[str, str, str]: A tuple (u, a, v) where u is the prefix, a is the character, and v is the suffix.\n",
    "        \"\"\"\n",
    "        print(f\"[DEBUG Refiner.decompose] Decomposing counterexample string: '{w}'\")\n",
    "        \n",
    "        def prefix_mapping(s: str, i: int) -> str:\n",
    "            \"\"\"Function description: Maps a prefix of the input string to the access sequence of the reached state plus the remaining string.\n",
    "            Parameters:\n",
    "                s (str): The input string.\n",
    "                i (int): The index to split the string.\n",
    "            Return value:\n",
    "                str: The access sequence of the state reached by s[:i] concatenated with s[i:].\n",
    "            \"\"\"\n",
    "            print(f\"[DEBUG Refiner.decompose.prefix_mapping] Mapping prefix for s='{s}', i={i}\")\n",
    "            prefix_state = self.hypothesis.run(s[:i])\n",
    "            result = prefix_state.aseq + s[i:]\n",
    "            print(f\"[DEBUG Refiner.decompose.prefix_mapping] Prefix state={prefix_state}, result='{result}'\")\n",
    "            return result\n",
    "\n",
    "        def alpha(i: int) -> bool:\n",
    "            \"\"\"Function description: Checks if the teacher's classification of the mapped prefix matches the classification of the original string.\n",
    "            Parameters:\n",
    "                i (int): The index to split the string.\n",
    "            Return value:\n",
    "                bool: True if classifications match, False otherwise.\n",
    "            \"\"\"\n",
    "            print(f\"[DEBUG Refiner.decompose.alpha] Checking alpha for i={i}\")\n",
    "            mapped_string = prefix_mapping(w, i)\n",
    "            result = self.teacher.is_member(mapped_string) == self.teacher.is_member(w)\n",
    "            print(f\"[DEBUG Refiner.decompose.alpha] Mapped string='{mapped_string}', result={result}\")\n",
    "            return result\n",
    "\n",
    "        i = self.binary_search(alpha, len(w))\n",
    "        print(f\"[DEBUG Refiner.decompose] Binary search returned index i={i}\")\n",
    "        u, a, v = w[:i], w[i], w[i + 1 :] if i + 1 < len(w) else \"\"\n",
    "        print(f\"[DEBUG Refiner.decompose] Decomposed: u='{u}', a='{a}', v='{v}'\")\n",
    "        return u, a, v"
   ]
  },
  {
   "cell_type": "markdown",
   "id": "07ef4c25",
   "metadata": {},
   "source": [
    "##### `binary_search(self, alpha: Callable[[int], bool], high: int, low: int = 0) -> int`\n",
    "**Function description**: Performs binary search to find the largest index where alpha(i) is False.  \n",
    "**Parameters**:  \n",
    "- `alpha` (Callable[[int], bool]): A function that evaluates to True or False for a given index.  \n",
    "- `high` (int): The upper bound of the search range.  \n",
    "- `low` (int): The lower bound of the search range, defaults to 0.  \n",
    "**Return value**: `int`: The largest index i where alpha(i) is False, or low - 1 if alpha is True for all indices.  \n",
    "**Behavior**: Implements binary search to efficiently find the breaking point in the counterexample string where the hypothesis’s classification diverges. Adjusts the search range based on `alpha`’s output and returns the index just before the first True value (or low - 1 if all True). Prints debug messages for each iteration and result.  \n",
    "**Role in TTT**: Enables efficient decomposition of counterexamples by pinpointing the exact position where the hypothesis fails, reducing the number of membership queries needed."
   ]
  },
  {
   "cell_type": "code",
   "execution_count": 901,
   "id": "ab70a2de",
   "metadata": {},
   "outputs": [],
   "source": [
    "class Refiner(Refiner):\n",
    "    def binary_search(self, alpha: Callable[[int], bool], high: int, low: int = 0) -> int:\n",
    "        \"\"\"Function description: Performs binary search to find the largest index where alpha(i) is False.\n",
    "        Parameters:\n",
    "            alpha (Callable[[int], bool]): A function that evaluates to True or False for a given index.\n",
    "            high (int): The upper bound of the search range.\n",
    "            low (int): The lower bound of the search range, defaults to 0.\n",
    "        Return value:\n",
    "            int: The largest index i where alpha(i) is False, or low - 1 if alpha is True for all indices.\n",
    "        \"\"\"\n",
    "        print(f\"[DEBUG Refiner.binary_search] Starting binary search: low={low}, high={high}\")\n",
    "        ans = high\n",
    "        while low <= high:\n",
    "            mid = (low + high) // 2\n",
    "            print(f\"[DEBUG Refiner.binary_search] Checking mid={mid}\")\n",
    "            if not alpha(mid):\n",
    "                print(f\"[DEBUG Refiner.binary_search] alpha({mid}) is False, updating ans={mid}\")\n",
    "                ans = mid\n",
    "                high = mid - 1\n",
    "            else:\n",
    "                print(f\"[DEBUG Refiner.binary_search] alpha({mid}) is True, updating low={mid + 1}\")\n",
    "                low = mid + 1\n",
    "        result = ans - 1\n",
    "        print(f\"[DEBUG Refiner.binary_search] Binary search result: {result}\")\n",
    "        return result"
   ]
  },
  {
   "cell_type": "code",
   "execution_count": 902,
   "id": "82983107",
   "metadata": {},
   "outputs": [],
   "source": [
    "import plotly.graph_objects as go\n",
    "from typing import Optional\n",
    "\n",
    "def visualize_dtree(root: Node) -> None:\n",
    "    \"\"\"\n",
    "    Visualizes the discrimination tree using Plotly for interactive display.\n",
    "\n",
    "    Parameters:\n",
    "        root (Node): The root node of the discrimination tree.\n",
    "\n",
    "    Return value:\n",
    "        None\n",
    "    \"\"\"\n",
    "    nodes = []\n",
    "    edges = []\n",
    "    labels = {}\n",
    "    edge_labels = {}\n",
    "\n",
    "    def add_nodes_edges(node: Node, parent_id: Optional[int] = None, edge_label: str = \"\", depth=0, x_offset=0.0) -> None:\n",
    "        node_id = id(node)\n",
    "        if node.is_leaf:\n",
    "            label = f\"{node.state}\"\n",
    "            color = \"lightblue\"\n",
    "        else:\n",
    "            label = f\"{node.discriminator}\"\n",
    "            color = \"lightgreen\"\n",
    "\n",
    "        labels[node_id] = label\n",
    "        nodes.append({\"id\": node_id, \"label\": label, \"depth\": depth, \"x_offset\": x_offset, \"color\": color})\n",
    "\n",
    "        if parent_id is not None:\n",
    "            edges.append((parent_id, node_id))\n",
    "            edge_labels[(parent_id, node_id)] = edge_label\n",
    "\n",
    "        if not node.is_leaf:\n",
    "            if node.children[0]:\n",
    "                add_nodes_edges(node.children[0], node_id, \"0\", depth + 1, x_offset - 1/(2**(depth+1)))\n",
    "            if node.children[1]:\n",
    "                add_nodes_edges(node.children[1], node_id, \"1\", depth + 1, x_offset + 1/(2**(depth+1)))\n",
    "\n",
    "    add_nodes_edges(root)\n",
    "\n",
    "    # Position nodes for plotting (simple hierarchical layout)\n",
    "    x_coords = {}\n",
    "    y_coords = {}\n",
    "    for node in nodes:\n",
    "        x_coords[node[\"id\"]] = node[\"x_offset\"]\n",
    "        y_coords[node[\"id\"]] = -node[\"depth\"]  # Negative so root is at top\n",
    "\n",
    "    # Create edge lines\n",
    "    edge_x = []\n",
    "    edge_y = []\n",
    "    edge_text = []\n",
    "    for parent, child in edges:\n",
    "        edge_x.extend([x_coords[parent], x_coords[child], None])\n",
    "        edge_y.extend([y_coords[parent], y_coords[child], None])\n",
    "        edge_text.append(edge_labels[(parent, child)])\n",
    "\n",
    "    edge_trace = go.Scatter(\n",
    "        x=edge_x,\n",
    "        y=edge_y,\n",
    "        mode=\"lines\",\n",
    "        line=dict(width=2, color=\"black\"),\n",
    "        hoverinfo=\"none\"\n",
    "    )\n",
    "\n",
    "    # Create node trace\n",
    "    node_x = [x_coords[n[\"id\"]] for n in nodes]\n",
    "    node_y = [y_coords[n[\"id\"]] for n in nodes]\n",
    "    node_text = [n[\"label\"] for n in nodes]\n",
    "    node_color = [n[\"color\"] for n in nodes]\n",
    "\n",
    "    node_trace = go.Scatter(\n",
    "        x=node_x,\n",
    "        y=node_y,\n",
    "        mode=\"markers+text\",\n",
    "        text=node_text,\n",
    "        textposition=\"middle center\",\n",
    "        hoverinfo=\"text\",\n",
    "        marker=dict(size=50, color=node_color, line=dict(width=2, color=\"black\"))\n",
    "    )\n",
    "\n",
    "    fig = go.Figure(data=[edge_trace, node_trace])\n",
    "    fig.update_layout(\n",
    "        title=\"Discrimination Tree\",\n",
    "        showlegend=False,\n",
    "        xaxis=dict(visible=False),\n",
    "        yaxis=dict(visible=False),\n",
    "        plot_bgcolor=\"white\",\n",
    "        hovermode=\"closest\"\n",
    "    )\n",
    "\n",
    "    fig.show()\n"
   ]
  },
  {
   "cell_type": "markdown",
   "id": "d5a160b0",
   "metadata": {},
   "source": [
    "### **`TTTAlgorithm`**\n",
    "\n",
    "\n",
    "#### `__init__(self, teacher: Teacher, alphabet: str)`\n",
    "\n",
    "-   **Description**: This is the constructor for the `TTTAlgorithm` class. It sets up the entire learning environment from scratch.\n",
    "-   **Role in TTT**: This function performs the **initialization** step of the algorithm.\n",
    "    1.  It creates the very first **discrimination tree**, which is just a root node with an empty string (`\"\"`) as its discriminator and two empty leaf children. This represents the most basic partition of the language: strings that are members and strings that are not.\n",
    "    2.  It initializes the `Hypothesis` automaton with a single start state (`q0`).\n",
    "    3.  It calls `dtree.sift(\"\", self.teacher)` to determine where the empty string belongs in the tree, thereby placing the initial state `q0` in the correct partition.\n",
    "    4.  It checks if the start state should be final by asking the teacher `is_member(\"\")`.\n",
    "    5.  Crucially, it makes the first call to `self.close_hypothesis()` to ensure the initial, simple hypothesis is consistent before the main learning loop begins."
   ]
  },
  {
   "cell_type": "code",
   "execution_count": 903,
   "id": "a94c7ccd",
   "metadata": {},
   "outputs": [],
   "source": [
    "class TTTAlgorithm:\n",
    "    def __init__(self, teacher: Teacher, alphabet: str):\n",
    "        self.alphabet = alphabet\n",
    "        self.teacher = teacher\n",
    "        t0, t1 = Node.make_leaf(), Node.make_leaf()\n",
    "        self.dtree = Node.make_inner(\"\", (t0, t1))\n",
    "        self.hypothesis = Hypothesis(self.dtree, self.alphabet)\n",
    "        leaf = self.dtree.sift(\"\", self.teacher)\n",
    "        \n",
    "        # Determine if start state is final based on membership of empty string\n",
    "        if self.teacher.is_member(\"\"):\n",
    "            self.hypothesis.make_final(self.hypothesis.start)\n",
    "\n",
    "        self.refiner = Refiner(self.teacher, self.hypothesis)\n",
    "        leaf.link(self.hypothesis.start)\n",
    "        self.close_hypothesis()\n",
    "        display(Markdown(\"### Discrimination Tree Visualization\"))\n",
    "        visualize_dtree(self.dtree)"
   ]
  },
  {
   "cell_type": "code",
   "execution_count": 904,
   "id": "161e6314",
   "metadata": {},
   "outputs": [],
   "source": [
    "class TTTAlgorithm(TTTAlgorithm):\n",
    "    @property\n",
    "    def blocks(self) -> list[Node]:\n",
    "        return list({state.node.block for state in self.dtree.states() if state.node.block})"
   ]
  },
  {
   "cell_type": "markdown",
   "id": "0db1626d",
   "metadata": {},
   "source": [
    "#### `close_hypothesis(self) -> None`\n",
    "\n",
    "-   **Description**: This function is the core mechanism for building and maintaining a consistent hypothesis. It iterates through all \"open\" transitions (those that don't yet point to a specific state) and resolves them.\n",
    "-   **Role in TTT**: This function implements the **closing** procedure.\n",
    "    1.  It uses a worklist (the `self.hypothesis.open_transitions` list) to manage all transitions that need to be resolved.\n",
    "    2.  For each transition, it calls `self.dtree.sift(transition.aseq, self.teacher)` to find the precise leaf node in the current discrimination tree that the transition's access sequence (`aseq`) corresponds to.\n",
    "    3.  If the target leaf doesn't have a state linked to it yet, this function calls `transition.make_tree(target_leaf)`, which creates a **new state** in the hypothesis. This is how the hypothesis automaton grows.\n",
    "    4.  When a new state is created, its own new transitions are added to the worklist, ensuring the process continues until every transition from every state points to a valid, known state."
   ]
  },
  {
   "cell_type": "code",
   "execution_count": 905,
   "id": "9f99c55f",
   "metadata": {},
   "outputs": [],
   "source": [
    "class TTTAlgorithm(TTTAlgorithm):\n",
    "    def close_hypothesis(self) -> None:\n",
    "        \"\"\"\n",
    "        Ensures all transitions in the hypothesis point to a node with a state.\n",
    "        This method uses a worklist approach to process all open transitions until\n",
    "        the hypothesis is fully closed.\n",
    "        \"\"\"\n",
    "        # Use the hypothesis's list of open transitions as a worklist.\n",
    "        # The list will be extended inside the loop when new states are created.\n",
    "        i = 0\n",
    "        while i < len(self.hypothesis.open_transitions):\n",
    "            transition = self.hypothesis.open_transitions[i]\n",
    "            i += 1  # Increment pointer before potential modifications\n",
    "\n",
    "            # If a transition already points to a state, it's considered closed.\n",
    "            if transition.target_state is not None:\n",
    "                continue\n",
    "\n",
    "            # Sift the transition's access string down the tree to find the correct leaf.\n",
    "            # A full sift is necessary to resolve the transition's final destination.\n",
    "            target_leaf = self.dtree.sift(transition.aseq, self.teacher)\n",
    "            transition.target_node = target_leaf\n",
    "            \n",
    "            # If the destination leaf has no state, create one.\n",
    "            # This will create new open transitions that are appended to the list\n",
    "            # and will be processed in subsequent iterations of this loop.\n",
    "            if target_leaf.state is None:\n",
    "                new_state = transition.make_tree(target_leaf)\n",
    "                # Check if the new state should be final\n",
    "                if self.teacher.is_member(new_state.aseq):\n",
    "                    self.hypothesis.make_final(new_state)\n",
    "\n",
    "        # Once the loop finishes, all transitions have been resolved to a state.\n",
    "        # The list of open transitions can be cleared.\n",
    "        self.hypothesis.open_transitions = []"
   ]
  },
  {
   "cell_type": "markdown",
   "id": "aa5c2a2b",
   "metadata": {},
   "source": [
    "#### `refine(self, counterexample: str) -> None`\n",
    "\n",
    "-   **Description**: This function is triggered when an equivalence query fails. It takes the counterexample provided by the teacher and uses it to improve both the discrimination tree and the hypothesis.\n",
    "-   **Role in TTT**: This is the **refinement** engine of the algorithm.\n",
    "    1.  It first calls `self.refiner.decompose(counterexample)` to pinpoint the exact cause of the error. This decomposition returns a tuple `(u, a, v)` identifying the prefix (`u`), the single character (`a`), and the suffix (`v`) that reveal the hypothesis's mistake.\n",
    "    2.  It then calls `self.split_state(u, a, v)` to perform the actual refinement using this information.\n",
    "    3.  After the split, the tree structure has changed, and some transitions in the hypothesis may now be incorrect. Therefore, it calls `self.close_hypothesis()` again to re-evaluate all transitions and ensure the hypothesis is consistent with the newly refined tree."
   ]
  },
  {
   "cell_type": "code",
   "execution_count": 906,
   "id": "c60b50be",
   "metadata": {},
   "outputs": [],
   "source": [
    "class TTTAlgorithm(TTTAlgorithm):\n",
    "    def refine(self, counterexample: str) -> None:\n",
    "        inconsistent_state = self.hypothesis.start\n",
    "        \n",
    "        # This loop is for handling non-trivial inconsistencies, which is a more advanced\n",
    "        # part of the TTT algorithm. The current implementation focuses on the basic refinement.\n",
    "        while True:\n",
    "            u, a, v = self.refiner.decompose(counterexample)\n",
    "            self.split_state(u, a, v)\n",
    "            __builtins__.print(\"\\n--- Discrimination Tree after State Split ---\")\n",
    "            visualize_dtree(self.dtree)\n",
    "            self.close_hypothesis()\n",
    "            display(Markdown(\"### Updated Discrimination Tree Visualization\"))\n",
    "            visualize_dtree(self.dtree)\n",
    "            \n",
    "            # The full TTT algorithm would check for inconsistencies here and potentially\n",
    "            # call replace_blockroot. This simplified version proceeds to the next equivalence query.\n",
    "            break"
   ]
  },
  {
   "cell_type": "markdown",
   "id": "6b18008b",
   "metadata": {},
   "source": [
    "#### `split_state(self, u: str, a: str, v: str) -> None`\n",
    "\n",
    "-   **Description**: This function performs the structural modification of the discrimination tree. It takes a leaf node that incorrectly groups different behaviors and splits it into an inner node with two new leaves.\n",
    "-   **Role in TTT**: This is the key action in the **refinement** step.\n",
    "    1.  It first calls `self.hypothesis.run(u)` to find the state in the current automaton where the error begins.\n",
    "    2.  It identifies the `old_state` that is the target of the faulty transition.\n",
    "    3.  It calls `old_state.node.split_leaf(v)`, which converts the leaf node into an inner node. The suffix `v` from the decomposition becomes the **new discriminator** for this node. This new discriminator is what allows the tree to distinguish between the previously confused behaviors.\n",
    "    4.  It creates a new state by calling `transition.make_tree()` and correctly places the `old_state` and the new state into the two new leaves, based on the teacher's classification of the access strings with the new discriminator."
   ]
  },
  {
   "cell_type": "code",
   "execution_count": 907,
   "id": "08117ca3",
   "metadata": {},
   "outputs": [],
   "source": [
    "class TTTAlgorithm(TTTAlgorithm):\n",
    "    def split_state(self, u: str, a: str, v: str) -> None:\n",
    "        predicted_state = self.hypothesis.run(u)\n",
    "        transition = predicted_state.transitions[a]\n",
    "        old_state = transition.target_state\n",
    "        \n",
    "        if old_state is None:\n",
    "             raise ValueError(\"Attempting to split a state from an unresolved transition.\")\n",
    "\n",
    "        l0, l1 = old_state.node.split_leaf(v)\n",
    "        \n",
    "        # All transitions that previously pointed to the old node are now potentially open\n",
    "        self.hypothesis.open_transitions.extend(list(old_state.node.incoming_non_tree))\n",
    "\n",
    "        # Re-link the old state and create a new one for the split\n",
    "        if self.teacher.is_member(old_state.aseq + v):\n",
    "            transition.make_tree(l0) # The failing transition gets the new state\n",
    "            l1.link(old_state)      # The old state moves to the other leaf\n",
    "        else:\n",
    "            transition.make_tree(l1) # The failing transition gets the new state\n",
    "            l0.link(old_state)      # The old state moves to the other leaf"
   ]
  },
  {
   "cell_type": "markdown",
   "id": "4096d0ad",
   "metadata": {},
   "source": [
    "#### `learn(self, max_iterations: int = 20) -> tuple[Hypothesis, Node]`\n",
    "\n",
    "-   **Description**: This is the main driver of the algorithm. It orchestrates the entire learning process by repeatedly testing the hypothesis and refining it until it is correct or a limit is reached.\n",
    "-   **Role in TTT**: This function implements the main **learning loop**.\n",
    "    1.  It enters a loop that continues until the hypothesis is correct.\n",
    "    2.  In each iteration, it performs an **equivalence query** by calling `self.teacher.is_equivalent(self.hypothesis)`.\n",
    "    3.  If the query returns `True`, the hypothesis is correct, and the function returns the learned automaton and the final discrimination tree.\n",
    "    4.  If the query returns `False` along with a `counterexample`, it means the hypothesis is still incorrect. The function then calls `self.refine(counterexample)` to improve the hypothesis, and the loop continues."
   ]
  },
  {
   "cell_type": "code",
   "execution_count": 908,
   "id": "fdf0cf9a",
   "metadata": {},
   "outputs": [],
   "source": [
    "class TTTAlgorithm(TTTAlgorithm):\n",
    "    def learn(self, max_iterations: int = 20) -> tuple[Hypothesis, Node]:\n",
    "        for i in range(max_iterations):\n",
    "            display(Markdown(f\"### Iteration {i+1}\"))\n",
    "            visualize_dtree(self.dtree)\n",
    "            is_equiv, counterexample = self.teacher.is_equivalent(self.hypothesis)\n",
    "\n",
    "            if is_equiv:\n",
    "                display(Markdown(f\"Learning complete after {i} iterations.\"))\n",
    "                return self.hypothesis, self.dtree\n",
    "\n",
    "            display(Markdown(f\"#### Iteration {i+1}, Counterexample: '{counterexample}'\"))\n",
    "            self.refine(counterexample)\n",
    "\n",
    "        display(Markdown(f\"Max iterations ({max_iterations}) reached.\"))\n",
    "        return self.hypothesis, self.dtree\n",
    "\n"
   ]
  },
  {
   "cell_type": "markdown",
   "id": "5459a1fe",
   "metadata": {},
   "source": [
    "## Initial Setup\n",
    "\n",
    "The algorithm begins by constructing an NFA for the target regex `(a|b)*b`:\n",
    "- **NFA Construction**: The regex is parsed into a tree of `Regex` objects (`Star(Or(Char('a'), Char('b'))), Char('b')`). The `to_nfa` methods create an NFA with states `{0, 1, 2, 3, 4, 5, 6, 7}`, final state `{7}`, and transitions including epsilon moves.\n",
    "- **Epsilon Removal**: Epsilon transitions are removed, resulting in an NFA with states `{0, 3, 7}`, transitions `{0: {'a': {3}, 'b': {7}}, 3: {'a': {3}, 'b': {7}}, 7: {}}`, and final state `{7}`.\n",
    "- **Determinization**: The NFA is converted to a DFA with states `{0, 1, 2, 3}`, transitions `{0: {'a': 0, 'b': 0}, 1: {'a': 2, 'b': 3}, 2: {'a': 2, 'b': 3}, 3: {'a': 0, 'b': 0}}`, start state `1`, and final states `{3}`. Unreachable states are trimmed.\n",
    "- **Target DFA Visualization**: Saved as `target_dfa.png`.\n",
    "\n",
    "The teacher is initialized to answer MQs (checking if a word ends with `b`) and EQs (comparing the hypothesis DFA to the target DFA).\n",
    "\n",
    "The discrimination tree starts with a single leaf node (no discriminator) and an initial hypothesis DFA with one state `q0` (access sequence `''`).\n",
    "\n",
    "## Iteration 1\n",
    "\n",
    "### Step 1: Initial Hypothesis and Discrimination Tree\n",
    "- **Hypothesis DFA**:\n",
    "  - States: `{q0}` (access sequence `''`)\n",
    "  - Transitions: None initially\n",
    "  - Initial state: `q0`\n",
    "  - Final states: `{}`\n",
    "- **Discrimination Tree**:\n",
    "  - Root: A single leaf node with no discriminator, linked to state `q0`.\n",
    "- **Sifting**:\n",
    "  - The learner sifts the empty string `''` through the tree, querying the teacher: MQ(`''`) → `False` (empty string is not in `(a|b)*b`).\n",
    "  - Since the tree has only one leaf, `q0` is assigned.\n",
    "  - Sifting `a`: MQ(`a`) → `False` (does not end with `b`), maps to `q0`.\n",
    "  - Sifting `b`: MQ(`b`) → `True` (ends with `b`), requires a new state since the outcome differs from `q0`’s.\n",
    "\n",
    "### Step 2: Adding State `q1`\n",
    "- **New State**: A new state `q1` (access sequence `b`) is created because `b` yields `True`, differing from `q0`’s `False`.\n",
    "- **Discrimination Tree Update**:\n",
    "  - The root becomes an inner node with a temporary discriminator.\n",
    "  - Two child leaves are created:\n",
    "    - Left child: `q0` (False branch, for words yielding `False` on the discriminator).\n",
    "    - Right child: `q1` (True branch, for words yielding `True`).\n",
    "  - The teacher marks `q1` as final (since MQ(`b`) = `True`).\n",
    "- **Transitions**:\n",
    "  - For `q0`:\n",
    "    - Transition `q0 --a--> q0` (sift `a`, MQ(`a`) = `False`, maps to `q0`).\n",
    "    - Transition `q0 --b--> q1` (sift `b`, MQ(`b`) = `True`, maps to `q1`).\n",
    "  - For `q1`:\n",
    "    - Sift `ba`: MQ(`ba`) = `False`, maps to `q0`.\n",
    "    - Sift `bb`: MQ(`bb`) = `False`, maps to `q0`.\n",
    "    - Transitions: `q1 --a--> q0`, `q1 --b--> q0`.\n",
    "\n",
    "### Step 3: Saturation\n",
    "- **Closing the Hypothesis**: The learner ensures all states have transitions for all symbols (`a`, `b`). The transitions for `q0` and `q1` are defined as above.\n",
    "- **Consistency**: The discrimination tree ensures states are distinguishable. Currently, `q0` and `q1` are separated by the teacher’s responses (e.g., `b` distinguishes them: `False` for `q0`, `True` for `q1`).\n",
    "- **Discrimination Tree**:\n",
    "  - Root: Inner node with a temporary discriminator.\n",
    "  - Left child: `q0` (access sequence `''`, False branch).\n",
    "  - Right child: `q1` (access sequence `b`, True branch).\n",
    "\n",
    "### Step 4: Equivalence Query\n",
    "- **Hypothesis DFA**:\n",
    "  - States: `{q0, q1}`\n",
    "  - Transitions: `{q0: {'a': q0, 'b': q1}, q1: {'a': q0, 'b': q0}}`\n",
    "  - Initial state: `q0`\n",
    "  - Final states: `{q1}`\n",
    "  - A sink state is added for completeness: `{q0: {'a': q0, 'b': q1}, q1: {'a': q0, 'b': q0}, q3: {'a': q3, 'b': q3}}`.\n",
    "- **Equivalence Check**:\n",
    "  - The learner converts the hypothesis to a DFA and checks equivalence with the target DFA.\n",
    "  - The teacher responds `(False, 'bab')`, indicating the hypothesis is incorrect because:\n",
    "    - Hypothesis: Evaluates `bab` → `q0 --b--> q1 --a--> q0 --b--> q1` (final, accepts).\n",
    "    - Target DFA: Evaluates `bab` → `1 --b--> 3 --a--> 0 --b--> 0` (non-final, rejects).\n",
    "\n",
    "### Step 5: Counterexample Decomposition\n",
    "- **Counterexample**: `bab` (hypothesis accepts, target rejects).\n",
    "- **RS Decomposition**:\n",
    "  - The learner performs a binary search to decompose `bab` into \\( u \\cdot a \\cdot v \\).\n",
    "  - Binary search tests prefixes:\n",
    "    - At index 1 (`u = b`, `a = a`, `v = b`):\n",
    "      - Prefix `b` leads to `q1` in the hypothesis.\n",
    "      - Suffix `b`: MQ(`bab`) = `True` (target), but hypothesis at `q1` with `b` → `q0`, MQ(`b`) = `True` (consistent).\n",
    "    - At index 2 (`u = ba`, `a = b`, `v = ''`):\n",
    "      - Prefix `ba` leads to `q0` in the hypothesis.\n",
    "      - Suffix `''`: MQ(`b`) = `True` (target), but hypothesis at `q0` with `''` → `False` (inconsistent).\n",
    "  - Result: `u = b`, `a = a`, `v = b`. The suffix `b` becomes a new discriminator because it exposes a difference at prefix `ba`.\n",
    "\n",
    "### Step 6: Refining the Discrimination Tree\n",
    "- **New Discriminator**: `b` is added to the tree.\n",
    "- **Splitting States**:\n",
    "  - Sift `ba`: MQ(`bab`) = `True`, but `ba` maps to `q0` (False branch). This indicates `ba` requires a new state.\n",
    "  - New state `q2` (access sequence `ba`) is created.\n",
    "- **Tree Update**:\n",
    "  - The node for `q0` is split with discriminator `b`:\n",
    "    - Left child: `q2` (MQ(`bab`) = `True`).\n",
    "    - Right child: `q0` (MQ(`ab`) = `True`, but reassigned based on sifting).\n",
    "  - The tree becomes:\n",
    "    - Root: Discriminator `b`.\n",
    "    - Left child: `q2` (True branch for `b`).\n",
    "    - Right child: `q0` (False branch for `b`).\n",
    "    - `q1` remains on its branch (True for initial discriminator).\n",
    "- **Transitions for `q2`**:\n",
    "  - Sift `baa`: MQ(`baa`) = `False`, maps to `q2`.\n",
    "  - Sift `bab`: MQ(`babb`) = `False`, maps to `q2`.\n",
    "  - Transitions: `q2 --a--> q2`, `q2 --b--> q2`.\n",
    "\n",
    "### Step 7: Closing the Hypothesis\n",
    "- **Updated Hypothesis**:\n",
    "  - States: `{q0, q1, q2}`\n",
    "  - Transitions:\n",
    "    - `q0: {'a': q0, 'b': q1}`\n",
    "    - `q1: {'a': q2, 'b': q2}`\n",
    "    - `q2: {'a': q2, 'b': q2}`\n",
    "  - Initial state: `q0`\n",
    "  - Final states: `{q1}`\n",
    "- **Sifting Additional Sequences**:\n",
    "  - `bb`: MQ(`bb`) = `False`, maps to `q2`.\n",
    "  - `baab`: MQ(`baab`) = `False`, maps to `q2`.\n",
    "  - `babb`: MQ(`babb`) = `False`, maps to `q2`.\n",
    "- **Discrimination Tree**:\n",
    "  - Root: Discriminator `b`.\n",
    "  - Left child: `q2` (access sequence `ba`, True for `b`).\n",
    "  - Right child: `q0` (access sequence `''`, False for `b`).\n",
    "  - `q1` (access sequence `b`) is distinguished by the initial discriminator.\n",
    "\n",
    "### Step 8: Second Equivalence Query\n",
    "- **Hypothesis DFA**:\n",
    "  - States: `{q0, q1, q2}`\n",
    "  - Transitions: `{q0: {'a': q0, 'b': q1}, q1: {'a': q2, 'b': q2}, q2: {'a': q2, 'b': q2}}`\n",
    "  - Initial state: `q0`\n",
    "  - Final states: `{q1}`\n",
    "  - Sink state added: `{q4: {'a': q4, 'b': q4}}`.\n",
    "- **Equivalence Check**:\n",
    "  - The teacher responds `(True, None)`, indicating the hypothesis is equivalent to the target DFA.\n",
    "- **Verification**:\n",
    "  - The symmetric difference (union of `self ∩ ¬other` and `¬self ∩ other`) is computed, resulting in an empty DFA (no accepting paths), confirming equivalence.\n",
    "\n",
    "## Final DFA\n",
    "\n",
    "- **States**: `{q0, q1, q2}`\n",
    "- **Transitions**:\n",
    "  - `q0 --a--> q0`, `q0 --b--> q1`\n",
    "  - `q1 --a--> q2`, `q1 --b--> q2`\n",
    "  - `q2 --a--> q2`, `q2 --b--> q2`\n",
    "- **Initial State**: `q0`\n",
    "- **Final States**: `{q1}`\n",
    "- **Access Sequences**:\n",
    "  - `q0`: `''` (empty string)\n",
    "  - `q1`: `b`\n",
    "  - `q2`: `ba`\n",
    "- **Visualization**: Saved as `learned_dfa.png`.\n",
    "\n",
    "The DFA accepts strings ending with `b`, matching `(a|b)*b`. For example:\n",
    "- `b` → `q0 --b--> q1` (accept).\n",
    "- `ab` → `q0 --a--> q0 --b--> q1` (accept).\n",
    "- `bab` → `q0 --b--> q1 --a--> q2 --b--> q2` (reject).\n",
    "- `a` → `q0 --a--> q0` (reject).\n",
    "\n",
    "## Final Discrimination Tree\n",
    "\n",
    "- **Structure**:\n",
    "  - Root: Discriminator `b`.\n",
    "  - Left child: `q2` (True for `b`, access sequence `ba`).\n",
    "  - Right child: `q0` (False for `b`, access sequence `''`).\n",
    "  - `q1` is distinguished by an earlier discriminator (e.g., initial temporary discriminator or `b`).\n",
    "- **Saturation**: The tree is saturated because:\n",
    "  - All states (`q0`, `q1`, `q2`) are distinguishable by their responses to discriminators.\n",
    "  - All transitions are defined, and sifting new sequences (e.g., `baa`, `bab`, `bb`) maps to existing states without contradictions.\n",
    "\n",
    "## Role of the Teacher\n",
    "\n",
    "- **Membership Queries**: The teacher evaluates whether a word ends with `b`. Examples:\n",
    "  - MQ(`''`) = `False`\n",
    "  - MQ(`b`) = `True`\n",
    "  - MQ(`bab`) = `True`\n",
    "  - MQ(`ba`) = `False`\n",
    "- **Equivalence Queries**: The teacher compares the hypothesis DFA to the target DFA:\n",
    "  - First EQ: Returns `(False, 'bab')` because the hypothesis incorrectly accepts `bab`.\n",
    "  - Second EQ: Returns `(True, None)` as the hypothesis matches the target.\n",
    "- **Counterexample Provision**: The teacher provides `bab` as a counterexample, which is decomposed to refine the hypothesis and tree."
   ]
  },
  {
   "cell_type": "code",
   "execution_count": 909,
   "id": "50eefb77",
   "metadata": {},
   "outputs": [
    {
     "name": "stdout",
     "output_type": "stream",
     "text": [
      "Learning language for regex: '(a|b)*b' over alphabet 'ab'\n",
      "[DEBUG And.__init__] Initializing And with r1=Star, r2=Char\n"
     ]
    },
    {
     "data": {
      "text/markdown": [
       "# Adding State\n",
       "## State: 1\n",
       "## Transitions: {}"
      ],
      "text/plain": [
       "<IPython.core.display.Markdown object>"
      ]
     },
     "metadata": {},
     "output_type": "display_data"
    },
    {
     "data": {
      "text/markdown": [
       "# Adding State\n",
       "## State: 1\n",
       "## Transitions: {}"
      ],
      "text/plain": [
       "<IPython.core.display.Markdown object>"
      ]
     },
     "metadata": {},
     "output_type": "display_data"
    },
    {
     "data": {
      "text/markdown": [
       "# Adding State\n",
       "## State: 1\n",
       "## Transitions: {}"
      ],
      "text/plain": [
       "<IPython.core.display.Markdown object>"
      ]
     },
     "metadata": {},
     "output_type": "display_data"
    },
    {
     "name": "stdout",
     "output_type": "stream",
     "text": [
      "[DEBUG Star.to_nfa] NFA created: states={0, 1, 2, 3, 4, 5}, final={0}, next_state=6\n"
     ]
    },
    {
     "data": {
      "text/markdown": [
       "# Adding State\n",
       "## State: 1\n",
       "## Transitions: {}"
      ],
      "text/plain": [
       "<IPython.core.display.Markdown object>"
      ]
     },
     "metadata": {},
     "output_type": "display_data"
    },
    {
     "name": "stdout",
     "output_type": "stream",
     "text": [
      "[DEBUG And.to_nfa] NFA created: states={0, 1, 2, 3, 4, 5, 6, 7}, final={7}, next_state=8\n"
     ]
    },
    {
     "data": {
      "text/markdown": [
       "### Removing Epsilon Transitions"
      ],
      "text/plain": [
       "<IPython.core.display.Markdown object>"
      ]
     },
     "metadata": {},
     "output_type": "display_data"
    },
    {
     "data": {
      "text/markdown": [
       "[DEBUG NFA.remove_epsilon] Initialized new NFA: states={0, 1, 2, 3, 4, 5, 6, 7}, final={7}"
      ],
      "text/plain": [
       "<IPython.core.display.Markdown object>"
      ]
     },
     "metadata": {},
     "output_type": "display_data"
    },
    {
     "name": "stdout",
     "output_type": "stream",
     "text": [
      "[DEBUG NFA.remove_epsilon] Visiting state 0, seen={0}\n",
      "[DEBUG NFA.remove_epsilon] Visiting state 2, seen={0, 2}\n",
      "[DEBUG NFA.remove_epsilon] Visiting state 6, seen={0, 2, 6}\n",
      "[DEBUG NFA.remove_epsilon] Visiting state 1, seen={1}\n",
      "[DEBUG NFA.remove_epsilon] Visiting state 2, seen={2}\n",
      "[DEBUG NFA.remove_epsilon] Visiting state 3, seen={3}\n",
      "[DEBUG NFA.remove_epsilon] Visiting state 0, seen={0, 3}\n",
      "[DEBUG NFA.remove_epsilon] Visiting state 2, seen={0, 2, 3}\n",
      "[DEBUG NFA.remove_epsilon] Visiting state 6, seen={0, 2, 3, 6}\n",
      "[DEBUG NFA.remove_epsilon] Visiting state 4, seen={4}\n",
      "[DEBUG NFA.remove_epsilon] Visiting state 5, seen={5}\n",
      "[DEBUG NFA.remove_epsilon] Visiting state 0, seen={0, 5}\n",
      "[DEBUG NFA.remove_epsilon] Visiting state 2, seen={0, 2, 5}\n",
      "[DEBUG NFA.remove_epsilon] Visiting state 6, seen={0, 2, 5, 6}\n",
      "[DEBUG NFA.remove_epsilon] Visiting state 6, seen={6}\n",
      "[DEBUG NFA.remove_epsilon] Visiting state 7, seen={7}\n",
      "[DEBUG NFA.remove_epsilon] Marking state 7 as final\n",
      "[DEBUG NFA.remove_epsilon] Before trimming: states={0, 1, 2, 3, 4, 5, 6, 7}, transitions={0: {'a': {3}, 'b': {7}}, 1: {}, 2: {'a': {3}}, 3: {'a': {3}, 'b': {7}}, 4: {'b': {5}}, 5: {'a': {3}, 'b': {7}}, 6: {'b': {7}}, 7: {}}\n",
      "[DEBUG NFA.trim_unreachable] Starting BFS from state 0\n",
      "[DEBUG NFA.trim_unreachable] Visited state 0\n",
      "[DEBUG NFA.trim_unreachable] Visited state 3\n",
      "[DEBUG NFA.trim_unreachable] Visited state 7\n",
      "[DEBUG NFA.trim_unreachable] Removing unreachable state 1\n",
      "[DEBUG NFA.trim_unreachable] Removing unreachable state 2\n",
      "[DEBUG NFA.trim_unreachable] Removing unreachable state 4\n",
      "[DEBUG NFA.trim_unreachable] Removing unreachable state 5\n",
      "[DEBUG NFA.trim_unreachable] Removing unreachable state 6\n",
      "[DEBUG NFA.remove_epsilon] After trimming: states={0, 3, 7}, transitions={0: {'a': {3}, 'b': {7}}, 3: {'a': {3}, 'b': {7}}, 7: {}}\n",
      "[DEBUG NFA.determinise] Epsilon-free NFA: states={0, 3, 7}, final={7}\n",
      "[DEBUG NFA.determinise] Subsets for DFA states: [(), (0,), (3,), (7,), (0, 3), (0, 7), (3, 7), (0, 3, 7)]\n",
      "[DEBUG NFA.determinise] DFA start state: 1\n"
     ]
    },
    {
     "data": {
      "text/markdown": [
       "[DEBUG NFA.determinise] DFA final states: {3, 5, 6, 7}"
      ],
      "text/plain": [
       "<IPython.core.display.Markdown object>"
      ]
     },
     "metadata": {},
     "output_type": "display_data"
    },
    {
     "data": {
      "text/markdown": [
       "### Trimming Unreachable States from DFA"
      ],
      "text/plain": [
       "<IPython.core.display.Markdown object>"
      ]
     },
     "metadata": {},
     "output_type": "display_data"
    },
    {
     "name": "stdout",
     "output_type": "stream",
     "text": [
      "[DEBUG DFA.trim_unreachable] Starting BFS from state 1\n",
      "[DEBUG DFA.trim_unreachable] Visited state 1\n",
      "[DEBUG DFA.trim_unreachable] Queued state 2\n",
      "[DEBUG DFA.trim_unreachable] Queued state 3\n",
      "[DEBUG DFA.trim_unreachable] Visited state 2\n",
      "[DEBUG DFA.trim_unreachable] Queued state 3\n",
      "[DEBUG DFA.trim_unreachable] Visited state 3\n",
      "[DEBUG DFA.trim_unreachable] Queued state 0\n",
      "[DEBUG DFA.trim_unreachable] Queued state 0\n",
      "[DEBUG DFA.trim_unreachable] Visited state 0\n",
      "[DEBUG DFA.trim_unreachable] Removing unreachable state 4\n",
      "[DEBUG DFA.trim_unreachable] Removing unreachable state 5\n",
      "[DEBUG DFA.trim_unreachable] Removing unreachable state 6\n",
      "[DEBUG DFA.trim_unreachable] Removing unreachable state 7\n",
      "[DEBUG DFA.trim_unreachable] Final states: {0, 1, 2, 3}\n",
      "[DEBUG NFA.determinise] Final DFA: states={0, 1, 2, 3}, transitions={0: {'a': 0, 'b': 0}, 1: {'a': 2, 'b': 3}, 2: {'a': 2, 'b': 3}, 3: {'a': 0, 'b': 0}}\n",
      "[DEBUG Node.make_leaf] Creating new leaf node\n",
      "[DEBUG Node.__init__] Node created: temporary=False, depth=0\n",
      "[DEBUG Node.make_leaf] Creating new leaf node\n",
      "[DEBUG Node.__init__] Node created: temporary=False, depth=0\n",
      "[DEBUG Node.__init__] Node created: temporary=False, depth=0\n",
      "[DEBUG Node.block.setter] Setting block of Node<None> to None\n",
      "[DEBUG Node.block.setter] Setting block of Node<None> to None\n",
      "[DEBUG Node.make_inner] Inner node created: Node<>\n",
      "[DEBUG State.__init__] State created: id=0, aseq=''\n",
      "[DEBUG Transition.__init__] Transition created: incoming_non_tree={<__main__.Transition object at 0x110973b60>}\n",
      "[DEBUG Transition.__init__] Transition created: incoming_non_tree={<__main__.Transition object at 0x10f6a2210>, <__main__.Transition object at 0x110973b60>}\n",
      "[DEBUG Hypothesis.add_state] State added: q0, transitions={'a': <__main__.Transition object at 0x110973b60>, 'b': <__main__.Transition object at 0x10f6a2210>}\n",
      "[DEBUG DFA.evaluate] Evaluating input string ''\n",
      "[DEBUG DFA.evaluate] Evaluation result: False, final state: 1\n",
      "[DEBUG Node.sift] Query '' -> 0, moving to child Node<None>\n",
      "[DEBUG DFA.evaluate] Evaluating input string ''\n",
      "[DEBUG DFA.evaluate] Evaluation result: False, final state: 1\n",
      "[DEBUG Refiner.__init__] Initializing Refiner\n",
      "[DEBUG Refiner.__init__] Refiner initialized with teacher=<__main__.PerfectTeacher object at 0x110971e80>, hypothesis=<__main__.Hypothesis object at 0x110972120>\n",
      "[DEBUG Node.state.setter] Linking state q0 to node Node<None>\n",
      "[DEBUG Node.block.setter] Setting block of Node<q0> to Node<q0>\n",
      "[DEBUG Node.state.setter] Updated block=Node<q0>\n",
      "[DEBUG Node.link] Linked: node.state=q0, state.node=Node<q0>\n",
      "[DEBUG Transition.target_state] Getting target state for aseq='a': None\n",
      "[DEBUG DFA.evaluate] Evaluating input string 'a'\n",
      "[DEBUG DFA.evaluate] Processing character 'a' at position 0, current state: 1\n",
      "[DEBUG DFA.evaluate] Moved to state 2\n",
      "[DEBUG DFA.evaluate] Evaluation result: False, final state: 2\n",
      "[DEBUG Node.sift] Query 'a' -> 0, moving to child Node<q0>\n",
      "[DEBUG Transition.is_tree] Transition a is_tree: False\n",
      "[DEBUG Transition.target_node.setter] Updated target_node=Node<q0>, incoming_non_tree={<__main__.Transition object at 0x110973b60>}\n",
      "[DEBUG Transition.target_state] Getting target state for aseq='b': None\n",
      "[DEBUG DFA.evaluate] Evaluating input string 'b'\n",
      "[DEBUG DFA.evaluate] Processing character 'b' at position 0, current state: 1\n",
      "[DEBUG DFA.evaluate] Moved to state 3\n",
      "[DEBUG DFA.evaluate] Evaluation result: True, final state: 3\n",
      "[DEBUG Node.sift] Query 'b' -> 1, moving to child Node<None>\n",
      "[DEBUG Transition.is_tree] Transition b is_tree: False\n",
      "[DEBUG Transition.target_node.setter] Updated target_node=Node<None>, incoming_non_tree={<__main__.Transition object at 0x10f6a2210>}\n",
      "[DEBUG Transition.is_tree] Transition b is_tree: False\n",
      "[DEBUG State.__init__] State created: id=1, aseq='b'\n",
      "[DEBUG Transition.__init__] Transition created: incoming_non_tree={<__main__.Transition object at 0x10f6a2350>}\n",
      "[DEBUG Transition.__init__] Transition created: incoming_non_tree={<__main__.Transition object at 0x10f6a2350>, <__main__.Transition object at 0x11160fe10>}\n",
      "[DEBUG Hypothesis.add_state] State added: q1, transitions={'a': <__main__.Transition object at 0x10f6a2350>, 'b': <__main__.Transition object at 0x11160fe10>}\n",
      "[DEBUG Transition.target_state.setter] Setting target state for aseq='b' to q1\n",
      "[DEBUG Node.parent.setter] Updated depth=1, block=None\n",
      "[DEBUG Node.parent.setter] Updated depth=1, block=None\n",
      "[DEBUG Node.parent_value] Checking parent value for node Node<None>\n",
      "[DEBUG Node.parent.setter] Updated depth=1, block=None\n",
      "[DEBUG Node.parent.setter] Updated depth=1, block=None\n",
      "[DEBUG Node.parent.setter] Updated depth=1, block=None\n",
      "[DEBUG Node.parent_value] Node is right child, returning True\n",
      "[DEBUG Node.parent.setter] Updated depth=1, block=None\n",
      "[DEBUG Node.parent.setter] Updated depth=0, block=None\n",
      "[DEBUG Hypothesis.make_final] Marking state q1 as final\n",
      "[DEBUG Node.state.setter] Linking state q1 to node Node<None>\n",
      "[DEBUG Node.block.setter] Setting block of Node<q1> to Node<q1>\n",
      "[DEBUG Node.state.setter] Updated block=Node<q1>\n",
      "[DEBUG Node.link] Linked: node.state=q1, state.node=Node<q1>\n",
      "[DEBUG DFA.evaluate] Evaluating input string 'b'\n",
      "[DEBUG DFA.evaluate] Processing character 'b' at position 0, current state: 1\n",
      "[DEBUG DFA.evaluate] Moved to state 3\n",
      "[DEBUG DFA.evaluate] Evaluation result: True, final state: 3\n",
      "[DEBUG Hypothesis.make_final] Marking state q1 as final\n",
      "[DEBUG Transition.target_state] Getting target state for aseq='ba': None\n",
      "[DEBUG DFA.evaluate] Evaluating input string 'ba'\n",
      "[DEBUG DFA.evaluate] Processing character 'b' at position 0, current state: 1\n",
      "[DEBUG DFA.evaluate] Moved to state 3\n",
      "[DEBUG DFA.evaluate] Processing character 'a' at position 1, current state: 3\n",
      "[DEBUG DFA.evaluate] Moved to state 0\n",
      "[DEBUG DFA.evaluate] Evaluation result: False, final state: 0\n",
      "[DEBUG Node.sift] Query 'ba' -> 0, moving to child Node<q0>\n",
      "[DEBUG Transition.is_tree] Transition ba is_tree: False\n",
      "[DEBUG Transition.target_node.setter] Updated target_node=Node<q0>, incoming_non_tree={<__main__.Transition object at 0x10f6a2350>, <__main__.Transition object at 0x110973b60>}\n",
      "[DEBUG Transition.target_state] Getting target state for aseq='bb': None\n",
      "[DEBUG DFA.evaluate] Evaluating input string 'bb'\n",
      "[DEBUG DFA.evaluate] Processing character 'b' at position 0, current state: 1\n",
      "[DEBUG DFA.evaluate] Moved to state 3\n",
      "[DEBUG DFA.evaluate] Processing character 'b' at position 1, current state: 3\n",
      "[DEBUG DFA.evaluate] Moved to state 0\n",
      "[DEBUG DFA.evaluate] Evaluation result: False, final state: 0\n",
      "[DEBUG Node.sift] Query 'bb' -> 0, moving to child Node<q0>\n",
      "[DEBUG Transition.is_tree] Transition bb is_tree: False\n",
      "[DEBUG Transition.target_node.setter] Updated target_node=Node<q0>, incoming_non_tree={<__main__.Transition object at 0x11160fe10>, <__main__.Transition object at 0x10f6a2350>, <__main__.Transition object at 0x110973b60>}\n"
     ]
    },
    {
     "data": {
      "text/markdown": [
       "### Discrimination Tree Visualization"
      ],
      "text/plain": [
       "<IPython.core.display.Markdown object>"
      ]
     },
     "metadata": {},
     "output_type": "display_data"
    },
    {
     "data": {
      "application/vnd.plotly.v1+json": {
       "config": {
        "plotlyServerURL": "https://plot.ly"
       },
       "data": [
        {
         "hoverinfo": "none",
         "line": {
          "color": "black",
          "width": 2
         },
         "mode": "lines",
         "type": "scatter",
         "x": [
          0,
          -0.5,
          null,
          0,
          0.5,
          null
         ],
         "y": [
          0,
          -1,
          null,
          0,
          -1,
          null
         ]
        },
        {
         "hoverinfo": "text",
         "marker": {
          "color": [
           "lightgreen",
           "lightblue",
           "lightblue"
          ],
          "line": {
           "color": "black",
           "width": 2
          },
          "size": 50
         },
         "mode": "markers+text",
         "text": [
          "",
          "q0",
          "q1"
         ],
         "textposition": "middle center",
         "type": "scatter",
         "x": [
          0,
          -0.5,
          0.5
         ],
         "y": [
          0,
          -1,
          -1
         ]
        }
       ],
       "layout": {
        "hovermode": "closest",
        "plot_bgcolor": "white",
        "showlegend": false,
        "template": {
         "data": {
          "bar": [
           {
            "error_x": {
             "color": "#2a3f5f"
            },
            "error_y": {
             "color": "#2a3f5f"
            },
            "marker": {
             "line": {
              "color": "#E5ECF6",
              "width": 0.5
             },
             "pattern": {
              "fillmode": "overlay",
              "size": 10,
              "solidity": 0.2
             }
            },
            "type": "bar"
           }
          ],
          "barpolar": [
           {
            "marker": {
             "line": {
              "color": "#E5ECF6",
              "width": 0.5
             },
             "pattern": {
              "fillmode": "overlay",
              "size": 10,
              "solidity": 0.2
             }
            },
            "type": "barpolar"
           }
          ],
          "carpet": [
           {
            "aaxis": {
             "endlinecolor": "#2a3f5f",
             "gridcolor": "white",
             "linecolor": "white",
             "minorgridcolor": "white",
             "startlinecolor": "#2a3f5f"
            },
            "baxis": {
             "endlinecolor": "#2a3f5f",
             "gridcolor": "white",
             "linecolor": "white",
             "minorgridcolor": "white",
             "startlinecolor": "#2a3f5f"
            },
            "type": "carpet"
           }
          ],
          "choropleth": [
           {
            "colorbar": {
             "outlinewidth": 0,
             "ticks": ""
            },
            "type": "choropleth"
           }
          ],
          "contour": [
           {
            "colorbar": {
             "outlinewidth": 0,
             "ticks": ""
            },
            "colorscale": [
             [
              0,
              "#0d0887"
             ],
             [
              0.1111111111111111,
              "#46039f"
             ],
             [
              0.2222222222222222,
              "#7201a8"
             ],
             [
              0.3333333333333333,
              "#9c179e"
             ],
             [
              0.4444444444444444,
              "#bd3786"
             ],
             [
              0.5555555555555556,
              "#d8576b"
             ],
             [
              0.6666666666666666,
              "#ed7953"
             ],
             [
              0.7777777777777778,
              "#fb9f3a"
             ],
             [
              0.8888888888888888,
              "#fdca26"
             ],
             [
              1,
              "#f0f921"
             ]
            ],
            "type": "contour"
           }
          ],
          "contourcarpet": [
           {
            "colorbar": {
             "outlinewidth": 0,
             "ticks": ""
            },
            "type": "contourcarpet"
           }
          ],
          "heatmap": [
           {
            "colorbar": {
             "outlinewidth": 0,
             "ticks": ""
            },
            "colorscale": [
             [
              0,
              "#0d0887"
             ],
             [
              0.1111111111111111,
              "#46039f"
             ],
             [
              0.2222222222222222,
              "#7201a8"
             ],
             [
              0.3333333333333333,
              "#9c179e"
             ],
             [
              0.4444444444444444,
              "#bd3786"
             ],
             [
              0.5555555555555556,
              "#d8576b"
             ],
             [
              0.6666666666666666,
              "#ed7953"
             ],
             [
              0.7777777777777778,
              "#fb9f3a"
             ],
             [
              0.8888888888888888,
              "#fdca26"
             ],
             [
              1,
              "#f0f921"
             ]
            ],
            "type": "heatmap"
           }
          ],
          "histogram": [
           {
            "marker": {
             "pattern": {
              "fillmode": "overlay",
              "size": 10,
              "solidity": 0.2
             }
            },
            "type": "histogram"
           }
          ],
          "histogram2d": [
           {
            "colorbar": {
             "outlinewidth": 0,
             "ticks": ""
            },
            "colorscale": [
             [
              0,
              "#0d0887"
             ],
             [
              0.1111111111111111,
              "#46039f"
             ],
             [
              0.2222222222222222,
              "#7201a8"
             ],
             [
              0.3333333333333333,
              "#9c179e"
             ],
             [
              0.4444444444444444,
              "#bd3786"
             ],
             [
              0.5555555555555556,
              "#d8576b"
             ],
             [
              0.6666666666666666,
              "#ed7953"
             ],
             [
              0.7777777777777778,
              "#fb9f3a"
             ],
             [
              0.8888888888888888,
              "#fdca26"
             ],
             [
              1,
              "#f0f921"
             ]
            ],
            "type": "histogram2d"
           }
          ],
          "histogram2dcontour": [
           {
            "colorbar": {
             "outlinewidth": 0,
             "ticks": ""
            },
            "colorscale": [
             [
              0,
              "#0d0887"
             ],
             [
              0.1111111111111111,
              "#46039f"
             ],
             [
              0.2222222222222222,
              "#7201a8"
             ],
             [
              0.3333333333333333,
              "#9c179e"
             ],
             [
              0.4444444444444444,
              "#bd3786"
             ],
             [
              0.5555555555555556,
              "#d8576b"
             ],
             [
              0.6666666666666666,
              "#ed7953"
             ],
             [
              0.7777777777777778,
              "#fb9f3a"
             ],
             [
              0.8888888888888888,
              "#fdca26"
             ],
             [
              1,
              "#f0f921"
             ]
            ],
            "type": "histogram2dcontour"
           }
          ],
          "mesh3d": [
           {
            "colorbar": {
             "outlinewidth": 0,
             "ticks": ""
            },
            "type": "mesh3d"
           }
          ],
          "parcoords": [
           {
            "line": {
             "colorbar": {
              "outlinewidth": 0,
              "ticks": ""
             }
            },
            "type": "parcoords"
           }
          ],
          "pie": [
           {
            "automargin": true,
            "type": "pie"
           }
          ],
          "scatter": [
           {
            "fillpattern": {
             "fillmode": "overlay",
             "size": 10,
             "solidity": 0.2
            },
            "type": "scatter"
           }
          ],
          "scatter3d": [
           {
            "line": {
             "colorbar": {
              "outlinewidth": 0,
              "ticks": ""
             }
            },
            "marker": {
             "colorbar": {
              "outlinewidth": 0,
              "ticks": ""
             }
            },
            "type": "scatter3d"
           }
          ],
          "scattercarpet": [
           {
            "marker": {
             "colorbar": {
              "outlinewidth": 0,
              "ticks": ""
             }
            },
            "type": "scattercarpet"
           }
          ],
          "scattergeo": [
           {
            "marker": {
             "colorbar": {
              "outlinewidth": 0,
              "ticks": ""
             }
            },
            "type": "scattergeo"
           }
          ],
          "scattergl": [
           {
            "marker": {
             "colorbar": {
              "outlinewidth": 0,
              "ticks": ""
             }
            },
            "type": "scattergl"
           }
          ],
          "scattermap": [
           {
            "marker": {
             "colorbar": {
              "outlinewidth": 0,
              "ticks": ""
             }
            },
            "type": "scattermap"
           }
          ],
          "scattermapbox": [
           {
            "marker": {
             "colorbar": {
              "outlinewidth": 0,
              "ticks": ""
             }
            },
            "type": "scattermapbox"
           }
          ],
          "scatterpolar": [
           {
            "marker": {
             "colorbar": {
              "outlinewidth": 0,
              "ticks": ""
             }
            },
            "type": "scatterpolar"
           }
          ],
          "scatterpolargl": [
           {
            "marker": {
             "colorbar": {
              "outlinewidth": 0,
              "ticks": ""
             }
            },
            "type": "scatterpolargl"
           }
          ],
          "scatterternary": [
           {
            "marker": {
             "colorbar": {
              "outlinewidth": 0,
              "ticks": ""
             }
            },
            "type": "scatterternary"
           }
          ],
          "surface": [
           {
            "colorbar": {
             "outlinewidth": 0,
             "ticks": ""
            },
            "colorscale": [
             [
              0,
              "#0d0887"
             ],
             [
              0.1111111111111111,
              "#46039f"
             ],
             [
              0.2222222222222222,
              "#7201a8"
             ],
             [
              0.3333333333333333,
              "#9c179e"
             ],
             [
              0.4444444444444444,
              "#bd3786"
             ],
             [
              0.5555555555555556,
              "#d8576b"
             ],
             [
              0.6666666666666666,
              "#ed7953"
             ],
             [
              0.7777777777777778,
              "#fb9f3a"
             ],
             [
              0.8888888888888888,
              "#fdca26"
             ],
             [
              1,
              "#f0f921"
             ]
            ],
            "type": "surface"
           }
          ],
          "table": [
           {
            "cells": {
             "fill": {
              "color": "#EBF0F8"
             },
             "line": {
              "color": "white"
             }
            },
            "header": {
             "fill": {
              "color": "#C8D4E3"
             },
             "line": {
              "color": "white"
             }
            },
            "type": "table"
           }
          ]
         },
         "layout": {
          "annotationdefaults": {
           "arrowcolor": "#2a3f5f",
           "arrowhead": 0,
           "arrowwidth": 1
          },
          "autotypenumbers": "strict",
          "coloraxis": {
           "colorbar": {
            "outlinewidth": 0,
            "ticks": ""
           }
          },
          "colorscale": {
           "diverging": [
            [
             0,
             "#8e0152"
            ],
            [
             0.1,
             "#c51b7d"
            ],
            [
             0.2,
             "#de77ae"
            ],
            [
             0.3,
             "#f1b6da"
            ],
            [
             0.4,
             "#fde0ef"
            ],
            [
             0.5,
             "#f7f7f7"
            ],
            [
             0.6,
             "#e6f5d0"
            ],
            [
             0.7,
             "#b8e186"
            ],
            [
             0.8,
             "#7fbc41"
            ],
            [
             0.9,
             "#4d9221"
            ],
            [
             1,
             "#276419"
            ]
           ],
           "sequential": [
            [
             0,
             "#0d0887"
            ],
            [
             0.1111111111111111,
             "#46039f"
            ],
            [
             0.2222222222222222,
             "#7201a8"
            ],
            [
             0.3333333333333333,
             "#9c179e"
            ],
            [
             0.4444444444444444,
             "#bd3786"
            ],
            [
             0.5555555555555556,
             "#d8576b"
            ],
            [
             0.6666666666666666,
             "#ed7953"
            ],
            [
             0.7777777777777778,
             "#fb9f3a"
            ],
            [
             0.8888888888888888,
             "#fdca26"
            ],
            [
             1,
             "#f0f921"
            ]
           ],
           "sequentialminus": [
            [
             0,
             "#0d0887"
            ],
            [
             0.1111111111111111,
             "#46039f"
            ],
            [
             0.2222222222222222,
             "#7201a8"
            ],
            [
             0.3333333333333333,
             "#9c179e"
            ],
            [
             0.4444444444444444,
             "#bd3786"
            ],
            [
             0.5555555555555556,
             "#d8576b"
            ],
            [
             0.6666666666666666,
             "#ed7953"
            ],
            [
             0.7777777777777778,
             "#fb9f3a"
            ],
            [
             0.8888888888888888,
             "#fdca26"
            ],
            [
             1,
             "#f0f921"
            ]
           ]
          },
          "colorway": [
           "#636efa",
           "#EF553B",
           "#00cc96",
           "#ab63fa",
           "#FFA15A",
           "#19d3f3",
           "#FF6692",
           "#B6E880",
           "#FF97FF",
           "#FECB52"
          ],
          "font": {
           "color": "#2a3f5f"
          },
          "geo": {
           "bgcolor": "white",
           "lakecolor": "white",
           "landcolor": "#E5ECF6",
           "showlakes": true,
           "showland": true,
           "subunitcolor": "white"
          },
          "hoverlabel": {
           "align": "left"
          },
          "hovermode": "closest",
          "mapbox": {
           "style": "light"
          },
          "paper_bgcolor": "white",
          "plot_bgcolor": "#E5ECF6",
          "polar": {
           "angularaxis": {
            "gridcolor": "white",
            "linecolor": "white",
            "ticks": ""
           },
           "bgcolor": "#E5ECF6",
           "radialaxis": {
            "gridcolor": "white",
            "linecolor": "white",
            "ticks": ""
           }
          },
          "scene": {
           "xaxis": {
            "backgroundcolor": "#E5ECF6",
            "gridcolor": "white",
            "gridwidth": 2,
            "linecolor": "white",
            "showbackground": true,
            "ticks": "",
            "zerolinecolor": "white"
           },
           "yaxis": {
            "backgroundcolor": "#E5ECF6",
            "gridcolor": "white",
            "gridwidth": 2,
            "linecolor": "white",
            "showbackground": true,
            "ticks": "",
            "zerolinecolor": "white"
           },
           "zaxis": {
            "backgroundcolor": "#E5ECF6",
            "gridcolor": "white",
            "gridwidth": 2,
            "linecolor": "white",
            "showbackground": true,
            "ticks": "",
            "zerolinecolor": "white"
           }
          },
          "shapedefaults": {
           "line": {
            "color": "#2a3f5f"
           }
          },
          "ternary": {
           "aaxis": {
            "gridcolor": "white",
            "linecolor": "white",
            "ticks": ""
           },
           "baxis": {
            "gridcolor": "white",
            "linecolor": "white",
            "ticks": ""
           },
           "bgcolor": "#E5ECF6",
           "caxis": {
            "gridcolor": "white",
            "linecolor": "white",
            "ticks": ""
           }
          },
          "title": {
           "x": 0.05
          },
          "xaxis": {
           "automargin": true,
           "gridcolor": "white",
           "linecolor": "white",
           "ticks": "",
           "title": {
            "standoff": 15
           },
           "zerolinecolor": "white",
           "zerolinewidth": 2
          },
          "yaxis": {
           "automargin": true,
           "gridcolor": "white",
           "linecolor": "white",
           "ticks": "",
           "title": {
            "standoff": 15
           },
           "zerolinecolor": "white",
           "zerolinewidth": 2
          }
         }
        },
        "title": {
         "text": "Discrimination Tree"
        },
        "xaxis": {
         "visible": false
        },
        "yaxis": {
         "visible": false
        }
       }
      }
     },
     "metadata": {},
     "output_type": "display_data"
    },
    {
     "data": {
      "text/markdown": [
       "### Iteration 1"
      ],
      "text/plain": [
       "<IPython.core.display.Markdown object>"
      ]
     },
     "metadata": {},
     "output_type": "display_data"
    },
    {
     "data": {
      "application/vnd.plotly.v1+json": {
       "config": {
        "plotlyServerURL": "https://plot.ly"
       },
       "data": [
        {
         "hoverinfo": "none",
         "line": {
          "color": "black",
          "width": 2
         },
         "mode": "lines",
         "type": "scatter",
         "x": [
          0,
          -0.5,
          null,
          0,
          0.5,
          null
         ],
         "y": [
          0,
          -1,
          null,
          0,
          -1,
          null
         ]
        },
        {
         "hoverinfo": "text",
         "marker": {
          "color": [
           "lightgreen",
           "lightblue",
           "lightblue"
          ],
          "line": {
           "color": "black",
           "width": 2
          },
          "size": 50
         },
         "mode": "markers+text",
         "text": [
          "",
          "q0",
          "q1"
         ],
         "textposition": "middle center",
         "type": "scatter",
         "x": [
          0,
          -0.5,
          0.5
         ],
         "y": [
          0,
          -1,
          -1
         ]
        }
       ],
       "layout": {
        "hovermode": "closest",
        "plot_bgcolor": "white",
        "showlegend": false,
        "template": {
         "data": {
          "bar": [
           {
            "error_x": {
             "color": "#2a3f5f"
            },
            "error_y": {
             "color": "#2a3f5f"
            },
            "marker": {
             "line": {
              "color": "#E5ECF6",
              "width": 0.5
             },
             "pattern": {
              "fillmode": "overlay",
              "size": 10,
              "solidity": 0.2
             }
            },
            "type": "bar"
           }
          ],
          "barpolar": [
           {
            "marker": {
             "line": {
              "color": "#E5ECF6",
              "width": 0.5
             },
             "pattern": {
              "fillmode": "overlay",
              "size": 10,
              "solidity": 0.2
             }
            },
            "type": "barpolar"
           }
          ],
          "carpet": [
           {
            "aaxis": {
             "endlinecolor": "#2a3f5f",
             "gridcolor": "white",
             "linecolor": "white",
             "minorgridcolor": "white",
             "startlinecolor": "#2a3f5f"
            },
            "baxis": {
             "endlinecolor": "#2a3f5f",
             "gridcolor": "white",
             "linecolor": "white",
             "minorgridcolor": "white",
             "startlinecolor": "#2a3f5f"
            },
            "type": "carpet"
           }
          ],
          "choropleth": [
           {
            "colorbar": {
             "outlinewidth": 0,
             "ticks": ""
            },
            "type": "choropleth"
           }
          ],
          "contour": [
           {
            "colorbar": {
             "outlinewidth": 0,
             "ticks": ""
            },
            "colorscale": [
             [
              0,
              "#0d0887"
             ],
             [
              0.1111111111111111,
              "#46039f"
             ],
             [
              0.2222222222222222,
              "#7201a8"
             ],
             [
              0.3333333333333333,
              "#9c179e"
             ],
             [
              0.4444444444444444,
              "#bd3786"
             ],
             [
              0.5555555555555556,
              "#d8576b"
             ],
             [
              0.6666666666666666,
              "#ed7953"
             ],
             [
              0.7777777777777778,
              "#fb9f3a"
             ],
             [
              0.8888888888888888,
              "#fdca26"
             ],
             [
              1,
              "#f0f921"
             ]
            ],
            "type": "contour"
           }
          ],
          "contourcarpet": [
           {
            "colorbar": {
             "outlinewidth": 0,
             "ticks": ""
            },
            "type": "contourcarpet"
           }
          ],
          "heatmap": [
           {
            "colorbar": {
             "outlinewidth": 0,
             "ticks": ""
            },
            "colorscale": [
             [
              0,
              "#0d0887"
             ],
             [
              0.1111111111111111,
              "#46039f"
             ],
             [
              0.2222222222222222,
              "#7201a8"
             ],
             [
              0.3333333333333333,
              "#9c179e"
             ],
             [
              0.4444444444444444,
              "#bd3786"
             ],
             [
              0.5555555555555556,
              "#d8576b"
             ],
             [
              0.6666666666666666,
              "#ed7953"
             ],
             [
              0.7777777777777778,
              "#fb9f3a"
             ],
             [
              0.8888888888888888,
              "#fdca26"
             ],
             [
              1,
              "#f0f921"
             ]
            ],
            "type": "heatmap"
           }
          ],
          "histogram": [
           {
            "marker": {
             "pattern": {
              "fillmode": "overlay",
              "size": 10,
              "solidity": 0.2
             }
            },
            "type": "histogram"
           }
          ],
          "histogram2d": [
           {
            "colorbar": {
             "outlinewidth": 0,
             "ticks": ""
            },
            "colorscale": [
             [
              0,
              "#0d0887"
             ],
             [
              0.1111111111111111,
              "#46039f"
             ],
             [
              0.2222222222222222,
              "#7201a8"
             ],
             [
              0.3333333333333333,
              "#9c179e"
             ],
             [
              0.4444444444444444,
              "#bd3786"
             ],
             [
              0.5555555555555556,
              "#d8576b"
             ],
             [
              0.6666666666666666,
              "#ed7953"
             ],
             [
              0.7777777777777778,
              "#fb9f3a"
             ],
             [
              0.8888888888888888,
              "#fdca26"
             ],
             [
              1,
              "#f0f921"
             ]
            ],
            "type": "histogram2d"
           }
          ],
          "histogram2dcontour": [
           {
            "colorbar": {
             "outlinewidth": 0,
             "ticks": ""
            },
            "colorscale": [
             [
              0,
              "#0d0887"
             ],
             [
              0.1111111111111111,
              "#46039f"
             ],
             [
              0.2222222222222222,
              "#7201a8"
             ],
             [
              0.3333333333333333,
              "#9c179e"
             ],
             [
              0.4444444444444444,
              "#bd3786"
             ],
             [
              0.5555555555555556,
              "#d8576b"
             ],
             [
              0.6666666666666666,
              "#ed7953"
             ],
             [
              0.7777777777777778,
              "#fb9f3a"
             ],
             [
              0.8888888888888888,
              "#fdca26"
             ],
             [
              1,
              "#f0f921"
             ]
            ],
            "type": "histogram2dcontour"
           }
          ],
          "mesh3d": [
           {
            "colorbar": {
             "outlinewidth": 0,
             "ticks": ""
            },
            "type": "mesh3d"
           }
          ],
          "parcoords": [
           {
            "line": {
             "colorbar": {
              "outlinewidth": 0,
              "ticks": ""
             }
            },
            "type": "parcoords"
           }
          ],
          "pie": [
           {
            "automargin": true,
            "type": "pie"
           }
          ],
          "scatter": [
           {
            "fillpattern": {
             "fillmode": "overlay",
             "size": 10,
             "solidity": 0.2
            },
            "type": "scatter"
           }
          ],
          "scatter3d": [
           {
            "line": {
             "colorbar": {
              "outlinewidth": 0,
              "ticks": ""
             }
            },
            "marker": {
             "colorbar": {
              "outlinewidth": 0,
              "ticks": ""
             }
            },
            "type": "scatter3d"
           }
          ],
          "scattercarpet": [
           {
            "marker": {
             "colorbar": {
              "outlinewidth": 0,
              "ticks": ""
             }
            },
            "type": "scattercarpet"
           }
          ],
          "scattergeo": [
           {
            "marker": {
             "colorbar": {
              "outlinewidth": 0,
              "ticks": ""
             }
            },
            "type": "scattergeo"
           }
          ],
          "scattergl": [
           {
            "marker": {
             "colorbar": {
              "outlinewidth": 0,
              "ticks": ""
             }
            },
            "type": "scattergl"
           }
          ],
          "scattermap": [
           {
            "marker": {
             "colorbar": {
              "outlinewidth": 0,
              "ticks": ""
             }
            },
            "type": "scattermap"
           }
          ],
          "scattermapbox": [
           {
            "marker": {
             "colorbar": {
              "outlinewidth": 0,
              "ticks": ""
             }
            },
            "type": "scattermapbox"
           }
          ],
          "scatterpolar": [
           {
            "marker": {
             "colorbar": {
              "outlinewidth": 0,
              "ticks": ""
             }
            },
            "type": "scatterpolar"
           }
          ],
          "scatterpolargl": [
           {
            "marker": {
             "colorbar": {
              "outlinewidth": 0,
              "ticks": ""
             }
            },
            "type": "scatterpolargl"
           }
          ],
          "scatterternary": [
           {
            "marker": {
             "colorbar": {
              "outlinewidth": 0,
              "ticks": ""
             }
            },
            "type": "scatterternary"
           }
          ],
          "surface": [
           {
            "colorbar": {
             "outlinewidth": 0,
             "ticks": ""
            },
            "colorscale": [
             [
              0,
              "#0d0887"
             ],
             [
              0.1111111111111111,
              "#46039f"
             ],
             [
              0.2222222222222222,
              "#7201a8"
             ],
             [
              0.3333333333333333,
              "#9c179e"
             ],
             [
              0.4444444444444444,
              "#bd3786"
             ],
             [
              0.5555555555555556,
              "#d8576b"
             ],
             [
              0.6666666666666666,
              "#ed7953"
             ],
             [
              0.7777777777777778,
              "#fb9f3a"
             ],
             [
              0.8888888888888888,
              "#fdca26"
             ],
             [
              1,
              "#f0f921"
             ]
            ],
            "type": "surface"
           }
          ],
          "table": [
           {
            "cells": {
             "fill": {
              "color": "#EBF0F8"
             },
             "line": {
              "color": "white"
             }
            },
            "header": {
             "fill": {
              "color": "#C8D4E3"
             },
             "line": {
              "color": "white"
             }
            },
            "type": "table"
           }
          ]
         },
         "layout": {
          "annotationdefaults": {
           "arrowcolor": "#2a3f5f",
           "arrowhead": 0,
           "arrowwidth": 1
          },
          "autotypenumbers": "strict",
          "coloraxis": {
           "colorbar": {
            "outlinewidth": 0,
            "ticks": ""
           }
          },
          "colorscale": {
           "diverging": [
            [
             0,
             "#8e0152"
            ],
            [
             0.1,
             "#c51b7d"
            ],
            [
             0.2,
             "#de77ae"
            ],
            [
             0.3,
             "#f1b6da"
            ],
            [
             0.4,
             "#fde0ef"
            ],
            [
             0.5,
             "#f7f7f7"
            ],
            [
             0.6,
             "#e6f5d0"
            ],
            [
             0.7,
             "#b8e186"
            ],
            [
             0.8,
             "#7fbc41"
            ],
            [
             0.9,
             "#4d9221"
            ],
            [
             1,
             "#276419"
            ]
           ],
           "sequential": [
            [
             0,
             "#0d0887"
            ],
            [
             0.1111111111111111,
             "#46039f"
            ],
            [
             0.2222222222222222,
             "#7201a8"
            ],
            [
             0.3333333333333333,
             "#9c179e"
            ],
            [
             0.4444444444444444,
             "#bd3786"
            ],
            [
             0.5555555555555556,
             "#d8576b"
            ],
            [
             0.6666666666666666,
             "#ed7953"
            ],
            [
             0.7777777777777778,
             "#fb9f3a"
            ],
            [
             0.8888888888888888,
             "#fdca26"
            ],
            [
             1,
             "#f0f921"
            ]
           ],
           "sequentialminus": [
            [
             0,
             "#0d0887"
            ],
            [
             0.1111111111111111,
             "#46039f"
            ],
            [
             0.2222222222222222,
             "#7201a8"
            ],
            [
             0.3333333333333333,
             "#9c179e"
            ],
            [
             0.4444444444444444,
             "#bd3786"
            ],
            [
             0.5555555555555556,
             "#d8576b"
            ],
            [
             0.6666666666666666,
             "#ed7953"
            ],
            [
             0.7777777777777778,
             "#fb9f3a"
            ],
            [
             0.8888888888888888,
             "#fdca26"
            ],
            [
             1,
             "#f0f921"
            ]
           ]
          },
          "colorway": [
           "#636efa",
           "#EF553B",
           "#00cc96",
           "#ab63fa",
           "#FFA15A",
           "#19d3f3",
           "#FF6692",
           "#B6E880",
           "#FF97FF",
           "#FECB52"
          ],
          "font": {
           "color": "#2a3f5f"
          },
          "geo": {
           "bgcolor": "white",
           "lakecolor": "white",
           "landcolor": "#E5ECF6",
           "showlakes": true,
           "showland": true,
           "subunitcolor": "white"
          },
          "hoverlabel": {
           "align": "left"
          },
          "hovermode": "closest",
          "mapbox": {
           "style": "light"
          },
          "paper_bgcolor": "white",
          "plot_bgcolor": "#E5ECF6",
          "polar": {
           "angularaxis": {
            "gridcolor": "white",
            "linecolor": "white",
            "ticks": ""
           },
           "bgcolor": "#E5ECF6",
           "radialaxis": {
            "gridcolor": "white",
            "linecolor": "white",
            "ticks": ""
           }
          },
          "scene": {
           "xaxis": {
            "backgroundcolor": "#E5ECF6",
            "gridcolor": "white",
            "gridwidth": 2,
            "linecolor": "white",
            "showbackground": true,
            "ticks": "",
            "zerolinecolor": "white"
           },
           "yaxis": {
            "backgroundcolor": "#E5ECF6",
            "gridcolor": "white",
            "gridwidth": 2,
            "linecolor": "white",
            "showbackground": true,
            "ticks": "",
            "zerolinecolor": "white"
           },
           "zaxis": {
            "backgroundcolor": "#E5ECF6",
            "gridcolor": "white",
            "gridwidth": 2,
            "linecolor": "white",
            "showbackground": true,
            "ticks": "",
            "zerolinecolor": "white"
           }
          },
          "shapedefaults": {
           "line": {
            "color": "#2a3f5f"
           }
          },
          "ternary": {
           "aaxis": {
            "gridcolor": "white",
            "linecolor": "white",
            "ticks": ""
           },
           "baxis": {
            "gridcolor": "white",
            "linecolor": "white",
            "ticks": ""
           },
           "bgcolor": "#E5ECF6",
           "caxis": {
            "gridcolor": "white",
            "linecolor": "white",
            "ticks": ""
           }
          },
          "title": {
           "x": 0.05
          },
          "xaxis": {
           "automargin": true,
           "gridcolor": "white",
           "linecolor": "white",
           "ticks": "",
           "title": {
            "standoff": 15
           },
           "zerolinecolor": "white",
           "zerolinewidth": 2
          },
          "yaxis": {
           "automargin": true,
           "gridcolor": "white",
           "linecolor": "white",
           "ticks": "",
           "title": {
            "standoff": 15
           },
           "zerolinecolor": "white",
           "zerolinewidth": 2
          }
         }
        },
        "title": {
         "text": "Discrimination Tree"
        },
        "xaxis": {
         "visible": false
        },
        "yaxis": {
         "visible": false
        }
       }
      }
     },
     "metadata": {},
     "output_type": "display_data"
    },
    {
     "data": {
      "text/markdown": [
       "Converting Hypothesis to DFA with alphabet: ab"
      ],
      "text/plain": [
       "<IPython.core.display.Markdown object>"
      ]
     },
     "metadata": {},
     "output_type": "display_data"
    },
    {
     "name": "stdout",
     "output_type": "stream",
     "text": [
      "[DEBUG Transition.target_state] Getting target state for aseq='ba': q0\n",
      "[DEBUG Transition.target_state] Getting target state for aseq='ba': q0\n",
      "[DEBUG Transition.target_state] Getting target state for aseq='ba': q0\n"
     ]
    },
    {
     "data": {
      "text/markdown": [
       "Transition: q1 --a--> q0"
      ],
      "text/plain": [
       "<IPython.core.display.Markdown object>"
      ]
     },
     "metadata": {},
     "output_type": "display_data"
    },
    {
     "name": "stdout",
     "output_type": "stream",
     "text": [
      "[DEBUG Transition.target_state] Getting target state for aseq='bb': q0\n",
      "[DEBUG Transition.target_state] Getting target state for aseq='bb': q0\n",
      "[DEBUG Transition.target_state] Getting target state for aseq='bb': q0\n"
     ]
    },
    {
     "data": {
      "text/markdown": [
       "Transition: q1 --b--> q0"
      ],
      "text/plain": [
       "<IPython.core.display.Markdown object>"
      ]
     },
     "metadata": {},
     "output_type": "display_data"
    },
    {
     "name": "stdout",
     "output_type": "stream",
     "text": [
      "[DEBUG Transition.target_state] Getting target state for aseq='a': q0\n",
      "[DEBUG Transition.target_state] Getting target state for aseq='a': q0\n",
      "[DEBUG Transition.target_state] Getting target state for aseq='a': q0\n"
     ]
    },
    {
     "data": {
      "text/markdown": [
       "Transition: q0 --a--> q0"
      ],
      "text/plain": [
       "<IPython.core.display.Markdown object>"
      ]
     },
     "metadata": {},
     "output_type": "display_data"
    },
    {
     "name": "stdout",
     "output_type": "stream",
     "text": [
      "[DEBUG Transition.target_state] Getting target state for aseq='b': q1\n",
      "[DEBUG Transition.target_state] Getting target state for aseq='b': q1\n",
      "[DEBUG Transition.target_state] Getting target state for aseq='b': q1\n"
     ]
    },
    {
     "data": {
      "text/markdown": [
       "Transition: q0 --b--> q1"
      ],
      "text/plain": [
       "<IPython.core.display.Markdown object>"
      ]
     },
     "metadata": {},
     "output_type": "display_data"
    },
    {
     "name": "stdout",
     "output_type": "stream",
     "text": [
      "[DEBUG DFA.close_with_sink] Adding sink state 3 for alphabet ['a', 'b']\n"
     ]
    },
    {
     "data": {
      "text/markdown": [
       "# Adding State\n",
       "## State: 3\n",
       "## Transitions: {'a': 3, 'b': 3}"
      ],
      "text/plain": [
       "<IPython.core.display.Markdown object>"
      ]
     },
     "metadata": {},
     "output_type": "display_data"
    },
    {
     "name": "stdout",
     "output_type": "stream",
     "text": [
      "[DEBUG DFA.close_with_sink] Transitions after adding sink: {1: {'a': 0, 'b': 0}, 0: {'a': 0, 'b': 1}, 3: {'a': 3, 'b': 3}}\n",
      "[DEBUG Hypothesis.to_dfa] DFA after sink: transitions={1: {'a': 0, 'b': 0}, 0: {'a': 0, 'b': 1}, 3: {'a': 3, 'b': 3}}\n",
      "[DEBUG DFA.is_equivalent] Checking equivalence with another DFA\n",
      "[DEBUG DFA.complement] Creating complement DFA\n",
      "[DEBUG DFA.complement] Complement final states: {0, 3}\n",
      "[DEBUG DFA.intersection] Product states: [(0, 0), (0, 1), (0, 3), (1, 0), (1, 1), (1, 3), (2, 0), (2, 1), (2, 3), (3, 0), (3, 1), (3, 3)]\n",
      "[DEBUG DFA.intersection] Intersection start state: 3\n",
      "[DEBUG DFA.intersection] Intersection final states: {9, 11}\n",
      "[DEBUG DFA.intersection] Transition 0 --a--> 0 (from 0,0)\n",
      "[DEBUG DFA.intersection] Transition 0 --b--> 1 (from 0,0)\n",
      "[DEBUG DFA.intersection] Transition 1 --a--> 0 (from 0,1)\n",
      "[DEBUG DFA.intersection] Transition 1 --b--> 0 (from 0,1)\n",
      "[DEBUG DFA.intersection] Transition 2 --a--> 2 (from 0,3)\n",
      "[DEBUG DFA.intersection] Transition 2 --b--> 2 (from 0,3)\n",
      "[DEBUG DFA.intersection] Transition 3 --a--> 6 (from 1,0)\n",
      "[DEBUG DFA.intersection] Transition 3 --b--> 10 (from 1,0)\n",
      "[DEBUG DFA.intersection] Transition 4 --a--> 6 (from 1,1)\n",
      "[DEBUG DFA.intersection] Transition 4 --b--> 9 (from 1,1)\n",
      "[DEBUG DFA.intersection] Transition 5 --a--> 8 (from 1,3)\n",
      "[DEBUG DFA.intersection] Transition 5 --b--> 11 (from 1,3)\n",
      "[DEBUG DFA.intersection] Transition 6 --a--> 6 (from 2,0)\n",
      "[DEBUG DFA.intersection] Transition 6 --b--> 10 (from 2,0)\n",
      "[DEBUG DFA.intersection] Transition 7 --a--> 6 (from 2,1)\n",
      "[DEBUG DFA.intersection] Transition 7 --b--> 9 (from 2,1)\n",
      "[DEBUG DFA.intersection] Transition 8 --a--> 8 (from 2,3)\n",
      "[DEBUG DFA.intersection] Transition 8 --b--> 11 (from 2,3)\n",
      "[DEBUG DFA.intersection] Transition 9 --a--> 0 (from 3,0)\n",
      "[DEBUG DFA.intersection] Transition 9 --b--> 1 (from 3,0)\n",
      "[DEBUG DFA.intersection] Transition 10 --a--> 0 (from 3,1)\n",
      "[DEBUG DFA.intersection] Transition 10 --b--> 0 (from 3,1)\n",
      "[DEBUG DFA.intersection] Transition 11 --a--> 2 (from 3,3)\n",
      "[DEBUG DFA.intersection] Transition 11 --b--> 2 (from 3,3)\n"
     ]
    },
    {
     "data": {
      "text/markdown": [
       "### Trimming Unreachable States from DFA"
      ],
      "text/plain": [
       "<IPython.core.display.Markdown object>"
      ]
     },
     "metadata": {},
     "output_type": "display_data"
    },
    {
     "name": "stdout",
     "output_type": "stream",
     "text": [
      "[DEBUG DFA.trim_unreachable] Starting BFS from state 3\n",
      "[DEBUG DFA.trim_unreachable] Visited state 3\n",
      "[DEBUG DFA.trim_unreachable] Queued state 6\n",
      "[DEBUG DFA.trim_unreachable] Queued state 10\n",
      "[DEBUG DFA.trim_unreachable] Visited state 6\n",
      "[DEBUG DFA.trim_unreachable] Queued state 10\n",
      "[DEBUG DFA.trim_unreachable] Visited state 10\n",
      "[DEBUG DFA.trim_unreachable] Queued state 0\n",
      "[DEBUG DFA.trim_unreachable] Queued state 0\n",
      "[DEBUG DFA.trim_unreachable] Visited state 0\n",
      "[DEBUG DFA.trim_unreachable] Queued state 1\n",
      "[DEBUG DFA.trim_unreachable] Visited state 1\n",
      "[DEBUG DFA.trim_unreachable] Removing unreachable state 2\n",
      "[DEBUG DFA.trim_unreachable] Removing unreachable state 4\n",
      "[DEBUG DFA.trim_unreachable] Removing unreachable state 5\n",
      "[DEBUG DFA.trim_unreachable] Removing unreachable state 7\n",
      "[DEBUG DFA.trim_unreachable] Removing unreachable state 8\n",
      "[DEBUG DFA.trim_unreachable] Removing unreachable state 9\n",
      "[DEBUG DFA.trim_unreachable] Removing unreachable state 11\n",
      "[DEBUG DFA.trim_unreachable] Final states: {0, 1, 3, 6, 10}\n",
      "[DEBUG DFA.intersection] Final intersection DFA: states={0, 1, 3, 6, 10}, transitions={0: {'a': 0, 'b': 1}, 1: {'a': 0, 'b': 0}, 3: {'a': 6, 'b': 10}, 6: {'a': 6, 'b': 10}, 10: {'a': 0, 'b': 0}}\n",
      "[DEBUG DFA.is_equivalent] Self ∩ ¬Other DFA: states={0, 1, 3, 6, 10}, final={9, 11}\n",
      "[DEBUG DFA.complement] Creating complement DFA\n",
      "[DEBUG DFA.complement] Complement final states: {0, 1, 2}\n",
      "[DEBUG DFA.intersection] Product states: [(0, 0), (0, 1), (0, 3), (1, 0), (1, 1), (1, 3), (2, 0), (2, 1), (2, 3), (3, 0), (3, 1), (3, 3)]\n",
      "[DEBUG DFA.intersection] Intersection start state: 3\n",
      "[DEBUG DFA.intersection] Intersection final states: {1, 4, 7}\n",
      "[DEBUG DFA.intersection] Transition 0 --a--> 0 (from 0,0)\n",
      "[DEBUG DFA.intersection] Transition 0 --b--> 1 (from 0,0)\n",
      "[DEBUG DFA.intersection] Transition 1 --a--> 0 (from 0,1)\n",
      "[DEBUG DFA.intersection] Transition 1 --b--> 0 (from 0,1)\n",
      "[DEBUG DFA.intersection] Transition 2 --a--> 2 (from 0,3)\n",
      "[DEBUG DFA.intersection] Transition 2 --b--> 2 (from 0,3)\n",
      "[DEBUG DFA.intersection] Transition 3 --a--> 6 (from 1,0)\n",
      "[DEBUG DFA.intersection] Transition 3 --b--> 10 (from 1,0)\n",
      "[DEBUG DFA.intersection] Transition 4 --a--> 6 (from 1,1)\n",
      "[DEBUG DFA.intersection] Transition 4 --b--> 9 (from 1,1)\n",
      "[DEBUG DFA.intersection] Transition 5 --a--> 8 (from 1,3)\n",
      "[DEBUG DFA.intersection] Transition 5 --b--> 11 (from 1,3)\n",
      "[DEBUG DFA.intersection] Transition 6 --a--> 6 (from 2,0)\n",
      "[DEBUG DFA.intersection] Transition 6 --b--> 10 (from 2,0)\n",
      "[DEBUG DFA.intersection] Transition 7 --a--> 6 (from 2,1)\n",
      "[DEBUG DFA.intersection] Transition 7 --b--> 9 (from 2,1)\n",
      "[DEBUG DFA.intersection] Transition 8 --a--> 8 (from 2,3)\n",
      "[DEBUG DFA.intersection] Transition 8 --b--> 11 (from 2,3)\n",
      "[DEBUG DFA.intersection] Transition 9 --a--> 0 (from 3,0)\n",
      "[DEBUG DFA.intersection] Transition 9 --b--> 1 (from 3,0)\n",
      "[DEBUG DFA.intersection] Transition 10 --a--> 0 (from 3,1)\n",
      "[DEBUG DFA.intersection] Transition 10 --b--> 0 (from 3,1)\n",
      "[DEBUG DFA.intersection] Transition 11 --a--> 2 (from 3,3)\n",
      "[DEBUG DFA.intersection] Transition 11 --b--> 2 (from 3,3)\n"
     ]
    },
    {
     "data": {
      "text/markdown": [
       "### Trimming Unreachable States from DFA"
      ],
      "text/plain": [
       "<IPython.core.display.Markdown object>"
      ]
     },
     "metadata": {},
     "output_type": "display_data"
    },
    {
     "name": "stdout",
     "output_type": "stream",
     "text": [
      "[DEBUG DFA.trim_unreachable] Starting BFS from state 3\n",
      "[DEBUG DFA.trim_unreachable] Visited state 3\n",
      "[DEBUG DFA.trim_unreachable] Queued state 6\n",
      "[DEBUG DFA.trim_unreachable] Queued state 10\n",
      "[DEBUG DFA.trim_unreachable] Visited state 6\n",
      "[DEBUG DFA.trim_unreachable] Queued state 10\n",
      "[DEBUG DFA.trim_unreachable] Visited state 10\n",
      "[DEBUG DFA.trim_unreachable] Queued state 0\n",
      "[DEBUG DFA.trim_unreachable] Queued state 0\n",
      "[DEBUG DFA.trim_unreachable] Visited state 0\n",
      "[DEBUG DFA.trim_unreachable] Queued state 1\n",
      "[DEBUG DFA.trim_unreachable] Visited state 1\n",
      "[DEBUG DFA.trim_unreachable] Removing unreachable state 2\n",
      "[DEBUG DFA.trim_unreachable] Removing unreachable state 4\n",
      "[DEBUG DFA.trim_unreachable] Removing unreachable state 5\n",
      "[DEBUG DFA.trim_unreachable] Removing unreachable state 7\n",
      "[DEBUG DFA.trim_unreachable] Removing unreachable state 8\n",
      "[DEBUG DFA.trim_unreachable] Removing unreachable state 9\n",
      "[DEBUG DFA.trim_unreachable] Removing unreachable state 11\n",
      "[DEBUG DFA.trim_unreachable] Final states: {0, 1, 3, 6, 10}\n",
      "[DEBUG DFA.intersection] Final intersection DFA: states={0, 1, 3, 6, 10}, transitions={0: {'a': 0, 'b': 1}, 1: {'a': 0, 'b': 0}, 3: {'a': 6, 'b': 10}, 6: {'a': 6, 'b': 10}, 10: {'a': 0, 'b': 0}}\n",
      "[DEBUG DFA.is_equivalent] ¬Self ∩ Other DFA: states={0, 1, 3, 6, 10}, final={1, 4, 7}\n",
      "[DEBUG DFA.union] Product states: [(0, 0), (0, 1), (0, 3), (0, 6), (0, 10), (1, 0), (1, 1), (1, 3), (1, 6), (1, 10), (3, 0), (3, 1), (3, 3), (3, 6), (3, 10), (6, 0), (6, 1), (6, 3), (6, 6), (6, 10), (10, 0), (10, 1), (10, 3), (10, 6), (10, 10)]\n",
      "[DEBUG DFA.union] Union start state: 12\n",
      "[DEBUG DFA.union] Union final states: {1, 6, 11, 16, 21}\n",
      "[DEBUG DFA.union] Transition 0 --a--> 0 (from 0,0)\n",
      "[DEBUG DFA.union] Transition 0 --b--> 6 (from 0,0)\n",
      "[DEBUG DFA.union] Transition 1 --a--> 0 (from 0,1)\n",
      "[DEBUG DFA.union] Transition 1 --b--> 5 (from 0,1)\n",
      "[DEBUG DFA.union] Transition 2 --a--> 3 (from 0,3)\n",
      "[DEBUG DFA.union] Transition 2 --b--> 9 (from 0,3)\n",
      "[DEBUG DFA.union] Transition 3 --a--> 3 (from 0,6)\n",
      "[DEBUG DFA.union] Transition 3 --b--> 9 (from 0,6)\n",
      "[DEBUG DFA.union] Transition 4 --a--> 0 (from 0,10)\n",
      "[DEBUG DFA.union] Transition 4 --b--> 5 (from 0,10)\n",
      "[DEBUG DFA.union] Transition 5 --a--> 0 (from 1,0)\n",
      "[DEBUG DFA.union] Transition 5 --b--> 1 (from 1,0)\n",
      "[DEBUG DFA.union] Transition 6 --a--> 0 (from 1,1)\n",
      "[DEBUG DFA.union] Transition 6 --b--> 0 (from 1,1)\n",
      "[DEBUG DFA.union] Transition 7 --a--> 3 (from 1,3)\n",
      "[DEBUG DFA.union] Transition 7 --b--> 4 (from 1,3)\n",
      "[DEBUG DFA.union] Transition 8 --a--> 3 (from 1,6)\n",
      "[DEBUG DFA.union] Transition 8 --b--> 4 (from 1,6)\n",
      "[DEBUG DFA.union] Transition 9 --a--> 0 (from 1,10)\n",
      "[DEBUG DFA.union] Transition 9 --b--> 0 (from 1,10)\n",
      "[DEBUG DFA.union] Transition 10 --a--> 15 (from 3,0)\n",
      "[DEBUG DFA.union] Transition 10 --b--> 21 (from 3,0)\n",
      "[DEBUG DFA.union] Transition 11 --a--> 15 (from 3,1)\n",
      "[DEBUG DFA.union] Transition 11 --b--> 20 (from 3,1)\n",
      "[DEBUG DFA.union] Transition 12 --a--> 18 (from 3,3)\n",
      "[DEBUG DFA.union] Transition 12 --b--> 24 (from 3,3)\n",
      "[DEBUG DFA.union] Transition 13 --a--> 18 (from 3,6)\n",
      "[DEBUG DFA.union] Transition 13 --b--> 24 (from 3,6)\n",
      "[DEBUG DFA.union] Transition 14 --a--> 15 (from 3,10)\n",
      "[DEBUG DFA.union] Transition 14 --b--> 20 (from 3,10)\n",
      "[DEBUG DFA.union] Transition 15 --a--> 15 (from 6,0)\n",
      "[DEBUG DFA.union] Transition 15 --b--> 21 (from 6,0)\n",
      "[DEBUG DFA.union] Transition 16 --a--> 15 (from 6,1)\n",
      "[DEBUG DFA.union] Transition 16 --b--> 20 (from 6,1)\n",
      "[DEBUG DFA.union] Transition 17 --a--> 18 (from 6,3)\n",
      "[DEBUG DFA.union] Transition 17 --b--> 24 (from 6,3)\n",
      "[DEBUG DFA.union] Transition 18 --a--> 18 (from 6,6)\n",
      "[DEBUG DFA.union] Transition 18 --b--> 24 (from 6,6)\n",
      "[DEBUG DFA.union] Transition 19 --a--> 15 (from 6,10)\n",
      "[DEBUG DFA.union] Transition 19 --b--> 20 (from 6,10)\n",
      "[DEBUG DFA.union] Transition 20 --a--> 0 (from 10,0)\n",
      "[DEBUG DFA.union] Transition 20 --b--> 1 (from 10,0)\n",
      "[DEBUG DFA.union] Transition 21 --a--> 0 (from 10,1)\n",
      "[DEBUG DFA.union] Transition 21 --b--> 0 (from 10,1)\n",
      "[DEBUG DFA.union] Transition 22 --a--> 3 (from 10,3)\n",
      "[DEBUG DFA.union] Transition 22 --b--> 4 (from 10,3)\n",
      "[DEBUG DFA.union] Transition 23 --a--> 3 (from 10,6)\n",
      "[DEBUG DFA.union] Transition 23 --b--> 4 (from 10,6)\n",
      "[DEBUG DFA.union] Transition 24 --a--> 0 (from 10,10)\n",
      "[DEBUG DFA.union] Transition 24 --b--> 0 (from 10,10)\n"
     ]
    },
    {
     "data": {
      "text/markdown": [
       "### Trimming Unreachable States from DFA"
      ],
      "text/plain": [
       "<IPython.core.display.Markdown object>"
      ]
     },
     "metadata": {},
     "output_type": "display_data"
    },
    {
     "name": "stdout",
     "output_type": "stream",
     "text": [
      "[DEBUG DFA.trim_unreachable] Starting BFS from state 12\n",
      "[DEBUG DFA.trim_unreachable] Visited state 12\n",
      "[DEBUG DFA.trim_unreachable] Queued state 18\n",
      "[DEBUG DFA.trim_unreachable] Queued state 24\n",
      "[DEBUG DFA.trim_unreachable] Visited state 18\n",
      "[DEBUG DFA.trim_unreachable] Queued state 24\n",
      "[DEBUG DFA.trim_unreachable] Visited state 24\n",
      "[DEBUG DFA.trim_unreachable] Queued state 0\n",
      "[DEBUG DFA.trim_unreachable] Queued state 0\n",
      "[DEBUG DFA.trim_unreachable] Visited state 0\n",
      "[DEBUG DFA.trim_unreachable] Queued state 6\n",
      "[DEBUG DFA.trim_unreachable] Visited state 6\n",
      "[DEBUG DFA.trim_unreachable] Removing unreachable state 1\n",
      "[DEBUG DFA.trim_unreachable] Removing unreachable state 2\n",
      "[DEBUG DFA.trim_unreachable] Removing unreachable state 3\n",
      "[DEBUG DFA.trim_unreachable] Removing unreachable state 4\n",
      "[DEBUG DFA.trim_unreachable] Removing unreachable state 5\n",
      "[DEBUG DFA.trim_unreachable] Removing unreachable state 7\n",
      "[DEBUG DFA.trim_unreachable] Removing unreachable state 8\n",
      "[DEBUG DFA.trim_unreachable] Removing unreachable state 9\n",
      "[DEBUG DFA.trim_unreachable] Removing unreachable state 10\n",
      "[DEBUG DFA.trim_unreachable] Removing unreachable state 11\n",
      "[DEBUG DFA.trim_unreachable] Removing unreachable state 13\n",
      "[DEBUG DFA.trim_unreachable] Removing unreachable state 14\n",
      "[DEBUG DFA.trim_unreachable] Removing unreachable state 15\n",
      "[DEBUG DFA.trim_unreachable] Removing unreachable state 16\n",
      "[DEBUG DFA.trim_unreachable] Removing unreachable state 17\n",
      "[DEBUG DFA.trim_unreachable] Removing unreachable state 19\n",
      "[DEBUG DFA.trim_unreachable] Removing unreachable state 20\n",
      "[DEBUG DFA.trim_unreachable] Removing unreachable state 21\n",
      "[DEBUG DFA.trim_unreachable] Removing unreachable state 22\n",
      "[DEBUG DFA.trim_unreachable] Removing unreachable state 23\n",
      "[DEBUG DFA.trim_unreachable] Final states: {0, 6, 12, 18, 24}\n",
      "[DEBUG DFA.union] Final union DFA: states={0, 6, 12, 18, 24}, transitions={0: {'a': 0, 'b': 6}, 6: {'a': 0, 'b': 0}, 12: {'a': 18, 'b': 24}, 18: {'a': 18, 'b': 24}, 24: {'a': 0, 'b': 0}}\n",
      "[DEBUG DFA.is_equivalent] Symmetric difference: states={0, 6, 12, 18, 24}, final={1, 6, 11, 16, 21}\n"
     ]
    },
    {
     "data": {
      "text/markdown": [
       "### Trimming Unreachable States from DFA"
      ],
      "text/plain": [
       "<IPython.core.display.Markdown object>"
      ]
     },
     "metadata": {},
     "output_type": "display_data"
    },
    {
     "name": "stdout",
     "output_type": "stream",
     "text": [
      "[DEBUG DFA.trim_unreachable] Starting BFS from state 12\n",
      "[DEBUG DFA.trim_unreachable] Visited state 12\n",
      "[DEBUG DFA.trim_unreachable] Queued state 18\n",
      "[DEBUG DFA.trim_unreachable] Queued state 24\n",
      "[DEBUG DFA.trim_unreachable] Visited state 18\n",
      "[DEBUG DFA.trim_unreachable] Queued state 24\n",
      "[DEBUG DFA.trim_unreachable] Visited state 24\n",
      "[DEBUG DFA.trim_unreachable] Queued state 0\n",
      "[DEBUG DFA.trim_unreachable] Queued state 0\n",
      "[DEBUG DFA.trim_unreachable] Visited state 0\n",
      "[DEBUG DFA.trim_unreachable] Queued state 6\n",
      "[DEBUG DFA.trim_unreachable] Visited state 6\n",
      "[DEBUG DFA.trim_unreachable] Final states: {0, 6, 12, 18, 24}\n",
      "[DEBUG DFA.is_equivalent] After trimming: states={0, 6, 12, 18, 24}\n",
      "[DEBUG DFA.is_empty] Queuing transition 12 --a--> 18\n",
      "[DEBUG DFA.is_empty] Queuing transition 12 --b--> 24\n",
      "[DEBUG DFA.is_empty] Queuing transition 18 --a--> 18\n",
      "[DEBUG DFA.is_empty] Queuing transition 18 --b--> 24\n",
      "[DEBUG DFA.is_empty] Queuing transition 24 --a--> 0\n",
      "[DEBUG DFA.is_empty] Queuing transition 24 --b--> 0\n",
      "[DEBUG DFA.is_empty] Queuing transition 0 --a--> 0\n",
      "[DEBUG DFA.is_empty] Queuing transition 0 --b--> 6\n"
     ]
    },
    {
     "data": {
      "text/markdown": [
       "#### Iteration 1, Counterexample: 'bab'"
      ],
      "text/plain": [
       "<IPython.core.display.Markdown object>"
      ]
     },
     "metadata": {},
     "output_type": "display_data"
    },
    {
     "name": "stdout",
     "output_type": "stream",
     "text": [
      "[DEBUG Refiner.decompose] Decomposing counterexample string: 'bab'\n",
      "[DEBUG Refiner.binary_search] Starting binary search: low=0, high=3\n",
      "[DEBUG Refiner.binary_search] Checking mid=1\n",
      "[DEBUG Refiner.decompose.alpha] Checking alpha for i=1\n",
      "[DEBUG Refiner.decompose.prefix_mapping] Mapping prefix for s='bab', i=1\n",
      "[DEBUG Transition.target_state] Getting target state for aseq='b': q1\n",
      "[DEBUG Transition.target_state] Getting target state for aseq='b': q1\n",
      "[DEBUG Hypothesis.run] Final state: q1\n",
      "[DEBUG Refiner.decompose.prefix_mapping] Prefix state=q1, result='bab'\n",
      "[DEBUG DFA.evaluate] Evaluating input string 'bab'\n",
      "[DEBUG DFA.evaluate] Processing character 'b' at position 0, current state: 1\n",
      "[DEBUG DFA.evaluate] Moved to state 3\n",
      "[DEBUG DFA.evaluate] Processing character 'a' at position 1, current state: 3\n",
      "[DEBUG DFA.evaluate] Moved to state 0\n",
      "[DEBUG DFA.evaluate] Processing character 'b' at position 2, current state: 0\n",
      "[DEBUG DFA.evaluate] Moved to state 0\n",
      "[DEBUG DFA.evaluate] Evaluation result: False, final state: 0\n",
      "[DEBUG DFA.evaluate] Evaluating input string 'bab'\n",
      "[DEBUG DFA.evaluate] Processing character 'b' at position 0, current state: 1\n",
      "[DEBUG DFA.evaluate] Moved to state 3\n",
      "[DEBUG DFA.evaluate] Processing character 'a' at position 1, current state: 3\n",
      "[DEBUG DFA.evaluate] Moved to state 0\n",
      "[DEBUG DFA.evaluate] Processing character 'b' at position 2, current state: 0\n",
      "[DEBUG DFA.evaluate] Moved to state 0\n",
      "[DEBUG DFA.evaluate] Evaluation result: False, final state: 0\n",
      "[DEBUG Refiner.decompose.alpha] Mapped string='bab', result=True\n",
      "[DEBUG Refiner.binary_search] alpha(1) is True, updating low=2\n",
      "[DEBUG Refiner.binary_search] Checking mid=2\n",
      "[DEBUG Refiner.decompose.alpha] Checking alpha for i=2\n",
      "[DEBUG Refiner.decompose.prefix_mapping] Mapping prefix for s='bab', i=2\n",
      "[DEBUG Transition.target_state] Getting target state for aseq='b': q1\n",
      "[DEBUG Transition.target_state] Getting target state for aseq='b': q1\n",
      "[DEBUG Transition.target_state] Getting target state for aseq='ba': q0\n",
      "[DEBUG Transition.target_state] Getting target state for aseq='ba': q0\n",
      "[DEBUG Hypothesis.run] Final state: q0\n",
      "[DEBUG Refiner.decompose.prefix_mapping] Prefix state=q0, result='b'\n",
      "[DEBUG DFA.evaluate] Evaluating input string 'b'\n",
      "[DEBUG DFA.evaluate] Processing character 'b' at position 0, current state: 1\n",
      "[DEBUG DFA.evaluate] Moved to state 3\n",
      "[DEBUG DFA.evaluate] Evaluation result: True, final state: 3\n",
      "[DEBUG DFA.evaluate] Evaluating input string 'bab'\n",
      "[DEBUG DFA.evaluate] Processing character 'b' at position 0, current state: 1\n",
      "[DEBUG DFA.evaluate] Moved to state 3\n",
      "[DEBUG DFA.evaluate] Processing character 'a' at position 1, current state: 3\n",
      "[DEBUG DFA.evaluate] Moved to state 0\n",
      "[DEBUG DFA.evaluate] Processing character 'b' at position 2, current state: 0\n",
      "[DEBUG DFA.evaluate] Moved to state 0\n",
      "[DEBUG DFA.evaluate] Evaluation result: False, final state: 0\n",
      "[DEBUG Refiner.decompose.alpha] Mapped string='b', result=False\n",
      "[DEBUG Refiner.binary_search] alpha(2) is False, updating ans=2\n",
      "[DEBUG Refiner.binary_search] Binary search result: 1\n",
      "[DEBUG Refiner.decompose] Binary search returned index i=1\n",
      "[DEBUG Refiner.decompose] Decomposed: u='b', a='a', v='b'\n",
      "[DEBUG Transition.target_state] Getting target state for aseq='b': q1\n",
      "[DEBUG Transition.target_state] Getting target state for aseq='b': q1\n",
      "[DEBUG Hypothesis.run] Final state: q1\n",
      "[DEBUG Transition.target_state] Getting target state for aseq='ba': q0\n",
      "[DEBUG Node.make_leaf] Creating new leaf node\n",
      "[DEBUG Node.__init__] Node created: temporary=False, depth=0\n",
      "[DEBUG Node.make_leaf] Creating new leaf node\n",
      "[DEBUG Node.__init__] Node created: temporary=False, depth=0\n",
      "[DEBUG Node.block.setter] Setting block of Node<None> to Node<~b>\n",
      "[DEBUG Node.block.setter] Setting block of Node<None> to Node<~b>\n",
      "[DEBUG Node.split_leaf] Created children: (Node<None>, Node<None>)\n",
      "[DEBUG DFA.evaluate] Evaluating input string 'b'\n",
      "[DEBUG DFA.evaluate] Processing character 'b' at position 0, current state: 1\n",
      "[DEBUG DFA.evaluate] Moved to state 3\n",
      "[DEBUG DFA.evaluate] Evaluation result: True, final state: 3\n",
      "[DEBUG Transition.is_tree] Transition ba is_tree: False\n",
      "[DEBUG State.__init__] State created: id=2, aseq='ba'\n",
      "[DEBUG Transition.__init__] Transition created: incoming_non_tree={<__main__.Transition object at 0x1116b8180>}\n",
      "[DEBUG Transition.__init__] Transition created: incoming_non_tree={<__main__.Transition object at 0x1112d2330>, <__main__.Transition object at 0x1116b8180>}\n",
      "[DEBUG Hypothesis.add_state] State added: q2, transitions={'a': <__main__.Transition object at 0x1116b8180>, 'b': <__main__.Transition object at 0x1112d2330>}\n",
      "[DEBUG Transition.target_state.setter] Setting target state for aseq='ba' to q2\n",
      "[DEBUG Node.parent.setter] Updated depth=2, block=Node<~b>\n",
      "[DEBUG Node.parent.setter] Updated depth=2, block=Node<~b>\n",
      "[DEBUG Node.parent_value] Checking parent value for node Node<None>\n",
      "[DEBUG Node.parent.setter] Updated depth=2, block=Node<~b>\n",
      "[DEBUG Node.parent.setter] Updated depth=2, block=Node<~b>\n",
      "[DEBUG Node.parent_value] Node is left child, returning False\n",
      "[DEBUG Node.parent.setter] Updated depth=2, block=Node<~b>\n",
      "[DEBUG Node.parent.setter] Updated depth=1, block=Node<~b>\n",
      "[DEBUG Node.parent.setter] Updated depth=1, block=Node<~b>\n",
      "[DEBUG Node.parent_value] Checking parent value for node Node<~b>\n",
      "[DEBUG Node.parent.setter] Updated depth=1, block=Node<~b>\n",
      "[DEBUG Node.parent.setter] Updated depth=1, block=Node<~b>\n",
      "[DEBUG Node.parent_value] Node is left child, returning False\n",
      "[DEBUG Node.parent.setter] Updated depth=1, block=Node<~b>\n",
      "[DEBUG Node.parent.setter] Updated depth=0, block=None\n",
      "[DEBUG Node.state.setter] Linking state q2 to node Node<None>\n",
      "[DEBUG Node.state.setter] Updated block=Node<~b>\n",
      "[DEBUG Node.link] Linked: node.state=q2, state.node=Node<q2>\n",
      "[DEBUG Node.state.setter] Linking state q0 to node Node<None>\n",
      "[DEBUG Node.state.setter] Updated block=Node<~b>\n",
      "[DEBUG Node.link] Linked: node.state=q0, state.node=Node<q0>\n",
      "\n",
      "--- Discrimination Tree after State Split ---\n"
     ]
    },
    {
     "data": {
      "application/vnd.plotly.v1+json": {
       "config": {
        "plotlyServerURL": "https://plot.ly"
       },
       "data": [
        {
         "hoverinfo": "none",
         "line": {
          "color": "black",
          "width": 2
         },
         "mode": "lines",
         "type": "scatter",
         "x": [
          0,
          -0.5,
          null,
          -0.5,
          -0.75,
          null,
          -0.5,
          -0.25,
          null,
          0,
          0.5,
          null
         ],
         "y": [
          0,
          -1,
          null,
          -1,
          -2,
          null,
          -1,
          -2,
          null,
          0,
          -1,
          null
         ]
        },
        {
         "hoverinfo": "text",
         "marker": {
          "color": [
           "lightgreen",
           "lightgreen",
           "lightblue",
           "lightblue",
           "lightblue"
          ],
          "line": {
           "color": "black",
           "width": 2
          },
          "size": 50
         },
         "mode": "markers+text",
         "text": [
          "",
          "b",
          "q2",
          "q0",
          "q1"
         ],
         "textposition": "middle center",
         "type": "scatter",
         "x": [
          0,
          -0.5,
          -0.75,
          -0.25,
          0.5
         ],
         "y": [
          0,
          -1,
          -2,
          -2,
          -1
         ]
        }
       ],
       "layout": {
        "hovermode": "closest",
        "plot_bgcolor": "white",
        "showlegend": false,
        "template": {
         "data": {
          "bar": [
           {
            "error_x": {
             "color": "#2a3f5f"
            },
            "error_y": {
             "color": "#2a3f5f"
            },
            "marker": {
             "line": {
              "color": "#E5ECF6",
              "width": 0.5
             },
             "pattern": {
              "fillmode": "overlay",
              "size": 10,
              "solidity": 0.2
             }
            },
            "type": "bar"
           }
          ],
          "barpolar": [
           {
            "marker": {
             "line": {
              "color": "#E5ECF6",
              "width": 0.5
             },
             "pattern": {
              "fillmode": "overlay",
              "size": 10,
              "solidity": 0.2
             }
            },
            "type": "barpolar"
           }
          ],
          "carpet": [
           {
            "aaxis": {
             "endlinecolor": "#2a3f5f",
             "gridcolor": "white",
             "linecolor": "white",
             "minorgridcolor": "white",
             "startlinecolor": "#2a3f5f"
            },
            "baxis": {
             "endlinecolor": "#2a3f5f",
             "gridcolor": "white",
             "linecolor": "white",
             "minorgridcolor": "white",
             "startlinecolor": "#2a3f5f"
            },
            "type": "carpet"
           }
          ],
          "choropleth": [
           {
            "colorbar": {
             "outlinewidth": 0,
             "ticks": ""
            },
            "type": "choropleth"
           }
          ],
          "contour": [
           {
            "colorbar": {
             "outlinewidth": 0,
             "ticks": ""
            },
            "colorscale": [
             [
              0,
              "#0d0887"
             ],
             [
              0.1111111111111111,
              "#46039f"
             ],
             [
              0.2222222222222222,
              "#7201a8"
             ],
             [
              0.3333333333333333,
              "#9c179e"
             ],
             [
              0.4444444444444444,
              "#bd3786"
             ],
             [
              0.5555555555555556,
              "#d8576b"
             ],
             [
              0.6666666666666666,
              "#ed7953"
             ],
             [
              0.7777777777777778,
              "#fb9f3a"
             ],
             [
              0.8888888888888888,
              "#fdca26"
             ],
             [
              1,
              "#f0f921"
             ]
            ],
            "type": "contour"
           }
          ],
          "contourcarpet": [
           {
            "colorbar": {
             "outlinewidth": 0,
             "ticks": ""
            },
            "type": "contourcarpet"
           }
          ],
          "heatmap": [
           {
            "colorbar": {
             "outlinewidth": 0,
             "ticks": ""
            },
            "colorscale": [
             [
              0,
              "#0d0887"
             ],
             [
              0.1111111111111111,
              "#46039f"
             ],
             [
              0.2222222222222222,
              "#7201a8"
             ],
             [
              0.3333333333333333,
              "#9c179e"
             ],
             [
              0.4444444444444444,
              "#bd3786"
             ],
             [
              0.5555555555555556,
              "#d8576b"
             ],
             [
              0.6666666666666666,
              "#ed7953"
             ],
             [
              0.7777777777777778,
              "#fb9f3a"
             ],
             [
              0.8888888888888888,
              "#fdca26"
             ],
             [
              1,
              "#f0f921"
             ]
            ],
            "type": "heatmap"
           }
          ],
          "histogram": [
           {
            "marker": {
             "pattern": {
              "fillmode": "overlay",
              "size": 10,
              "solidity": 0.2
             }
            },
            "type": "histogram"
           }
          ],
          "histogram2d": [
           {
            "colorbar": {
             "outlinewidth": 0,
             "ticks": ""
            },
            "colorscale": [
             [
              0,
              "#0d0887"
             ],
             [
              0.1111111111111111,
              "#46039f"
             ],
             [
              0.2222222222222222,
              "#7201a8"
             ],
             [
              0.3333333333333333,
              "#9c179e"
             ],
             [
              0.4444444444444444,
              "#bd3786"
             ],
             [
              0.5555555555555556,
              "#d8576b"
             ],
             [
              0.6666666666666666,
              "#ed7953"
             ],
             [
              0.7777777777777778,
              "#fb9f3a"
             ],
             [
              0.8888888888888888,
              "#fdca26"
             ],
             [
              1,
              "#f0f921"
             ]
            ],
            "type": "histogram2d"
           }
          ],
          "histogram2dcontour": [
           {
            "colorbar": {
             "outlinewidth": 0,
             "ticks": ""
            },
            "colorscale": [
             [
              0,
              "#0d0887"
             ],
             [
              0.1111111111111111,
              "#46039f"
             ],
             [
              0.2222222222222222,
              "#7201a8"
             ],
             [
              0.3333333333333333,
              "#9c179e"
             ],
             [
              0.4444444444444444,
              "#bd3786"
             ],
             [
              0.5555555555555556,
              "#d8576b"
             ],
             [
              0.6666666666666666,
              "#ed7953"
             ],
             [
              0.7777777777777778,
              "#fb9f3a"
             ],
             [
              0.8888888888888888,
              "#fdca26"
             ],
             [
              1,
              "#f0f921"
             ]
            ],
            "type": "histogram2dcontour"
           }
          ],
          "mesh3d": [
           {
            "colorbar": {
             "outlinewidth": 0,
             "ticks": ""
            },
            "type": "mesh3d"
           }
          ],
          "parcoords": [
           {
            "line": {
             "colorbar": {
              "outlinewidth": 0,
              "ticks": ""
             }
            },
            "type": "parcoords"
           }
          ],
          "pie": [
           {
            "automargin": true,
            "type": "pie"
           }
          ],
          "scatter": [
           {
            "fillpattern": {
             "fillmode": "overlay",
             "size": 10,
             "solidity": 0.2
            },
            "type": "scatter"
           }
          ],
          "scatter3d": [
           {
            "line": {
             "colorbar": {
              "outlinewidth": 0,
              "ticks": ""
             }
            },
            "marker": {
             "colorbar": {
              "outlinewidth": 0,
              "ticks": ""
             }
            },
            "type": "scatter3d"
           }
          ],
          "scattercarpet": [
           {
            "marker": {
             "colorbar": {
              "outlinewidth": 0,
              "ticks": ""
             }
            },
            "type": "scattercarpet"
           }
          ],
          "scattergeo": [
           {
            "marker": {
             "colorbar": {
              "outlinewidth": 0,
              "ticks": ""
             }
            },
            "type": "scattergeo"
           }
          ],
          "scattergl": [
           {
            "marker": {
             "colorbar": {
              "outlinewidth": 0,
              "ticks": ""
             }
            },
            "type": "scattergl"
           }
          ],
          "scattermap": [
           {
            "marker": {
             "colorbar": {
              "outlinewidth": 0,
              "ticks": ""
             }
            },
            "type": "scattermap"
           }
          ],
          "scattermapbox": [
           {
            "marker": {
             "colorbar": {
              "outlinewidth": 0,
              "ticks": ""
             }
            },
            "type": "scattermapbox"
           }
          ],
          "scatterpolar": [
           {
            "marker": {
             "colorbar": {
              "outlinewidth": 0,
              "ticks": ""
             }
            },
            "type": "scatterpolar"
           }
          ],
          "scatterpolargl": [
           {
            "marker": {
             "colorbar": {
              "outlinewidth": 0,
              "ticks": ""
             }
            },
            "type": "scatterpolargl"
           }
          ],
          "scatterternary": [
           {
            "marker": {
             "colorbar": {
              "outlinewidth": 0,
              "ticks": ""
             }
            },
            "type": "scatterternary"
           }
          ],
          "surface": [
           {
            "colorbar": {
             "outlinewidth": 0,
             "ticks": ""
            },
            "colorscale": [
             [
              0,
              "#0d0887"
             ],
             [
              0.1111111111111111,
              "#46039f"
             ],
             [
              0.2222222222222222,
              "#7201a8"
             ],
             [
              0.3333333333333333,
              "#9c179e"
             ],
             [
              0.4444444444444444,
              "#bd3786"
             ],
             [
              0.5555555555555556,
              "#d8576b"
             ],
             [
              0.6666666666666666,
              "#ed7953"
             ],
             [
              0.7777777777777778,
              "#fb9f3a"
             ],
             [
              0.8888888888888888,
              "#fdca26"
             ],
             [
              1,
              "#f0f921"
             ]
            ],
            "type": "surface"
           }
          ],
          "table": [
           {
            "cells": {
             "fill": {
              "color": "#EBF0F8"
             },
             "line": {
              "color": "white"
             }
            },
            "header": {
             "fill": {
              "color": "#C8D4E3"
             },
             "line": {
              "color": "white"
             }
            },
            "type": "table"
           }
          ]
         },
         "layout": {
          "annotationdefaults": {
           "arrowcolor": "#2a3f5f",
           "arrowhead": 0,
           "arrowwidth": 1
          },
          "autotypenumbers": "strict",
          "coloraxis": {
           "colorbar": {
            "outlinewidth": 0,
            "ticks": ""
           }
          },
          "colorscale": {
           "diverging": [
            [
             0,
             "#8e0152"
            ],
            [
             0.1,
             "#c51b7d"
            ],
            [
             0.2,
             "#de77ae"
            ],
            [
             0.3,
             "#f1b6da"
            ],
            [
             0.4,
             "#fde0ef"
            ],
            [
             0.5,
             "#f7f7f7"
            ],
            [
             0.6,
             "#e6f5d0"
            ],
            [
             0.7,
             "#b8e186"
            ],
            [
             0.8,
             "#7fbc41"
            ],
            [
             0.9,
             "#4d9221"
            ],
            [
             1,
             "#276419"
            ]
           ],
           "sequential": [
            [
             0,
             "#0d0887"
            ],
            [
             0.1111111111111111,
             "#46039f"
            ],
            [
             0.2222222222222222,
             "#7201a8"
            ],
            [
             0.3333333333333333,
             "#9c179e"
            ],
            [
             0.4444444444444444,
             "#bd3786"
            ],
            [
             0.5555555555555556,
             "#d8576b"
            ],
            [
             0.6666666666666666,
             "#ed7953"
            ],
            [
             0.7777777777777778,
             "#fb9f3a"
            ],
            [
             0.8888888888888888,
             "#fdca26"
            ],
            [
             1,
             "#f0f921"
            ]
           ],
           "sequentialminus": [
            [
             0,
             "#0d0887"
            ],
            [
             0.1111111111111111,
             "#46039f"
            ],
            [
             0.2222222222222222,
             "#7201a8"
            ],
            [
             0.3333333333333333,
             "#9c179e"
            ],
            [
             0.4444444444444444,
             "#bd3786"
            ],
            [
             0.5555555555555556,
             "#d8576b"
            ],
            [
             0.6666666666666666,
             "#ed7953"
            ],
            [
             0.7777777777777778,
             "#fb9f3a"
            ],
            [
             0.8888888888888888,
             "#fdca26"
            ],
            [
             1,
             "#f0f921"
            ]
           ]
          },
          "colorway": [
           "#636efa",
           "#EF553B",
           "#00cc96",
           "#ab63fa",
           "#FFA15A",
           "#19d3f3",
           "#FF6692",
           "#B6E880",
           "#FF97FF",
           "#FECB52"
          ],
          "font": {
           "color": "#2a3f5f"
          },
          "geo": {
           "bgcolor": "white",
           "lakecolor": "white",
           "landcolor": "#E5ECF6",
           "showlakes": true,
           "showland": true,
           "subunitcolor": "white"
          },
          "hoverlabel": {
           "align": "left"
          },
          "hovermode": "closest",
          "mapbox": {
           "style": "light"
          },
          "paper_bgcolor": "white",
          "plot_bgcolor": "#E5ECF6",
          "polar": {
           "angularaxis": {
            "gridcolor": "white",
            "linecolor": "white",
            "ticks": ""
           },
           "bgcolor": "#E5ECF6",
           "radialaxis": {
            "gridcolor": "white",
            "linecolor": "white",
            "ticks": ""
           }
          },
          "scene": {
           "xaxis": {
            "backgroundcolor": "#E5ECF6",
            "gridcolor": "white",
            "gridwidth": 2,
            "linecolor": "white",
            "showbackground": true,
            "ticks": "",
            "zerolinecolor": "white"
           },
           "yaxis": {
            "backgroundcolor": "#E5ECF6",
            "gridcolor": "white",
            "gridwidth": 2,
            "linecolor": "white",
            "showbackground": true,
            "ticks": "",
            "zerolinecolor": "white"
           },
           "zaxis": {
            "backgroundcolor": "#E5ECF6",
            "gridcolor": "white",
            "gridwidth": 2,
            "linecolor": "white",
            "showbackground": true,
            "ticks": "",
            "zerolinecolor": "white"
           }
          },
          "shapedefaults": {
           "line": {
            "color": "#2a3f5f"
           }
          },
          "ternary": {
           "aaxis": {
            "gridcolor": "white",
            "linecolor": "white",
            "ticks": ""
           },
           "baxis": {
            "gridcolor": "white",
            "linecolor": "white",
            "ticks": ""
           },
           "bgcolor": "#E5ECF6",
           "caxis": {
            "gridcolor": "white",
            "linecolor": "white",
            "ticks": ""
           }
          },
          "title": {
           "x": 0.05
          },
          "xaxis": {
           "automargin": true,
           "gridcolor": "white",
           "linecolor": "white",
           "ticks": "",
           "title": {
            "standoff": 15
           },
           "zerolinecolor": "white",
           "zerolinewidth": 2
          },
          "yaxis": {
           "automargin": true,
           "gridcolor": "white",
           "linecolor": "white",
           "ticks": "",
           "title": {
            "standoff": 15
           },
           "zerolinecolor": "white",
           "zerolinewidth": 2
          }
         }
        },
        "title": {
         "text": "Discrimination Tree"
        },
        "xaxis": {
         "visible": false
        },
        "yaxis": {
         "visible": false
        }
       }
      }
     },
     "metadata": {},
     "output_type": "display_data"
    },
    {
     "name": "stdout",
     "output_type": "stream",
     "text": [
      "[DEBUG Transition.target_state] Getting target state for aseq='bb': None\n",
      "[DEBUG DFA.evaluate] Evaluating input string 'bb'\n",
      "[DEBUG DFA.evaluate] Processing character 'b' at position 0, current state: 1\n",
      "[DEBUG DFA.evaluate] Moved to state 3\n",
      "[DEBUG DFA.evaluate] Processing character 'b' at position 1, current state: 3\n",
      "[DEBUG DFA.evaluate] Moved to state 0\n",
      "[DEBUG DFA.evaluate] Evaluation result: False, final state: 0\n",
      "[DEBUG Node.sift] Query 'bb' -> 0, moving to child Node<~b>\n",
      "[DEBUG DFA.evaluate] Evaluating input string 'bbb'\n",
      "[DEBUG DFA.evaluate] Processing character 'b' at position 0, current state: 1\n",
      "[DEBUG DFA.evaluate] Moved to state 3\n",
      "[DEBUG DFA.evaluate] Processing character 'b' at position 1, current state: 3\n",
      "[DEBUG DFA.evaluate] Moved to state 0\n",
      "[DEBUG DFA.evaluate] Processing character 'b' at position 2, current state: 0\n",
      "[DEBUG DFA.evaluate] Moved to state 0\n",
      "[DEBUG DFA.evaluate] Evaluation result: False, final state: 0\n",
      "[DEBUG Node.sift] Query 'bbb' -> 0, moving to child Node<q2>\n",
      "[DEBUG Transition.is_tree] Transition bb is_tree: False\n",
      "[DEBUG Transition.target_node.setter] Updated target_node=Node<q2>, incoming_non_tree={<__main__.Transition object at 0x11160fe10>}\n",
      "[DEBUG Transition.target_state] Getting target state for aseq='ba': q2\n",
      "[DEBUG Transition.target_state] Getting target state for aseq='a': None\n",
      "[DEBUG DFA.evaluate] Evaluating input string 'a'\n",
      "[DEBUG DFA.evaluate] Processing character 'a' at position 0, current state: 1\n",
      "[DEBUG DFA.evaluate] Moved to state 2\n",
      "[DEBUG DFA.evaluate] Evaluation result: False, final state: 2\n",
      "[DEBUG Node.sift] Query 'a' -> 0, moving to child Node<~b>\n",
      "[DEBUG DFA.evaluate] Evaluating input string 'ab'\n",
      "[DEBUG DFA.evaluate] Processing character 'a' at position 0, current state: 1\n",
      "[DEBUG DFA.evaluate] Moved to state 2\n",
      "[DEBUG DFA.evaluate] Processing character 'b' at position 1, current state: 2\n",
      "[DEBUG DFA.evaluate] Moved to state 3\n",
      "[DEBUG DFA.evaluate] Evaluation result: True, final state: 3\n",
      "[DEBUG Node.sift] Query 'ab' -> 1, moving to child Node<q0>\n",
      "[DEBUG Transition.is_tree] Transition a is_tree: False\n",
      "[DEBUG Transition.target_node.setter] Updated target_node=Node<q0>, incoming_non_tree={<__main__.Transition object at 0x110973b60>}\n",
      "[DEBUG Transition.target_state] Getting target state for aseq='baa': None\n",
      "[DEBUG DFA.evaluate] Evaluating input string 'baa'\n",
      "[DEBUG DFA.evaluate] Processing character 'b' at position 0, current state: 1\n",
      "[DEBUG DFA.evaluate] Moved to state 3\n",
      "[DEBUG DFA.evaluate] Processing character 'a' at position 1, current state: 3\n",
      "[DEBUG DFA.evaluate] Moved to state 0\n",
      "[DEBUG DFA.evaluate] Processing character 'a' at position 2, current state: 0\n",
      "[DEBUG DFA.evaluate] Moved to state 0\n",
      "[DEBUG DFA.evaluate] Evaluation result: False, final state: 0\n",
      "[DEBUG Node.sift] Query 'baa' -> 0, moving to child Node<~b>\n",
      "[DEBUG DFA.evaluate] Evaluating input string 'baab'\n",
      "[DEBUG DFA.evaluate] Processing character 'b' at position 0, current state: 1\n",
      "[DEBUG DFA.evaluate] Moved to state 3\n",
      "[DEBUG DFA.evaluate] Processing character 'a' at position 1, current state: 3\n",
      "[DEBUG DFA.evaluate] Moved to state 0\n",
      "[DEBUG DFA.evaluate] Processing character 'a' at position 2, current state: 0\n",
      "[DEBUG DFA.evaluate] Moved to state 0\n",
      "[DEBUG DFA.evaluate] Processing character 'b' at position 3, current state: 0\n",
      "[DEBUG DFA.evaluate] Moved to state 0\n",
      "[DEBUG DFA.evaluate] Evaluation result: False, final state: 0\n",
      "[DEBUG Node.sift] Query 'baab' -> 0, moving to child Node<q2>\n",
      "[DEBUG Transition.is_tree] Transition baa is_tree: False\n",
      "[DEBUG Transition.target_node.setter] Updated target_node=Node<q2>, incoming_non_tree={<__main__.Transition object at 0x1116b8180>, <__main__.Transition object at 0x11160fe10>}\n",
      "[DEBUG Transition.target_state] Getting target state for aseq='bab': None\n",
      "[DEBUG DFA.evaluate] Evaluating input string 'bab'\n",
      "[DEBUG DFA.evaluate] Processing character 'b' at position 0, current state: 1\n",
      "[DEBUG DFA.evaluate] Moved to state 3\n",
      "[DEBUG DFA.evaluate] Processing character 'a' at position 1, current state: 3\n",
      "[DEBUG DFA.evaluate] Moved to state 0\n",
      "[DEBUG DFA.evaluate] Processing character 'b' at position 2, current state: 0\n",
      "[DEBUG DFA.evaluate] Moved to state 0\n",
      "[DEBUG DFA.evaluate] Evaluation result: False, final state: 0\n",
      "[DEBUG Node.sift] Query 'bab' -> 0, moving to child Node<~b>\n",
      "[DEBUG DFA.evaluate] Evaluating input string 'babb'\n",
      "[DEBUG DFA.evaluate] Processing character 'b' at position 0, current state: 1\n",
      "[DEBUG DFA.evaluate] Moved to state 3\n",
      "[DEBUG DFA.evaluate] Processing character 'a' at position 1, current state: 3\n",
      "[DEBUG DFA.evaluate] Moved to state 0\n",
      "[DEBUG DFA.evaluate] Processing character 'b' at position 2, current state: 0\n",
      "[DEBUG DFA.evaluate] Moved to state 0\n",
      "[DEBUG DFA.evaluate] Processing character 'b' at position 3, current state: 0\n",
      "[DEBUG DFA.evaluate] Moved to state 0\n",
      "[DEBUG DFA.evaluate] Evaluation result: False, final state: 0\n",
      "[DEBUG Node.sift] Query 'babb' -> 0, moving to child Node<q2>\n",
      "[DEBUG Transition.is_tree] Transition bab is_tree: False\n",
      "[DEBUG Transition.target_node.setter] Updated target_node=Node<q2>, incoming_non_tree={<__main__.Transition object at 0x1116b8180>, <__main__.Transition object at 0x11160fe10>, <__main__.Transition object at 0x1112d2330>}\n"
     ]
    },
    {
     "data": {
      "text/markdown": [
       "### Updated Discrimination Tree Visualization"
      ],
      "text/plain": [
       "<IPython.core.display.Markdown object>"
      ]
     },
     "metadata": {},
     "output_type": "display_data"
    },
    {
     "data": {
      "application/vnd.plotly.v1+json": {
       "config": {
        "plotlyServerURL": "https://plot.ly"
       },
       "data": [
        {
         "hoverinfo": "none",
         "line": {
          "color": "black",
          "width": 2
         },
         "mode": "lines",
         "type": "scatter",
         "x": [
          0,
          -0.5,
          null,
          -0.5,
          -0.75,
          null,
          -0.5,
          -0.25,
          null,
          0,
          0.5,
          null
         ],
         "y": [
          0,
          -1,
          null,
          -1,
          -2,
          null,
          -1,
          -2,
          null,
          0,
          -1,
          null
         ]
        },
        {
         "hoverinfo": "text",
         "marker": {
          "color": [
           "lightgreen",
           "lightgreen",
           "lightblue",
           "lightblue",
           "lightblue"
          ],
          "line": {
           "color": "black",
           "width": 2
          },
          "size": 50
         },
         "mode": "markers+text",
         "text": [
          "",
          "b",
          "q2",
          "q0",
          "q1"
         ],
         "textposition": "middle center",
         "type": "scatter",
         "x": [
          0,
          -0.5,
          -0.75,
          -0.25,
          0.5
         ],
         "y": [
          0,
          -1,
          -2,
          -2,
          -1
         ]
        }
       ],
       "layout": {
        "hovermode": "closest",
        "plot_bgcolor": "white",
        "showlegend": false,
        "template": {
         "data": {
          "bar": [
           {
            "error_x": {
             "color": "#2a3f5f"
            },
            "error_y": {
             "color": "#2a3f5f"
            },
            "marker": {
             "line": {
              "color": "#E5ECF6",
              "width": 0.5
             },
             "pattern": {
              "fillmode": "overlay",
              "size": 10,
              "solidity": 0.2
             }
            },
            "type": "bar"
           }
          ],
          "barpolar": [
           {
            "marker": {
             "line": {
              "color": "#E5ECF6",
              "width": 0.5
             },
             "pattern": {
              "fillmode": "overlay",
              "size": 10,
              "solidity": 0.2
             }
            },
            "type": "barpolar"
           }
          ],
          "carpet": [
           {
            "aaxis": {
             "endlinecolor": "#2a3f5f",
             "gridcolor": "white",
             "linecolor": "white",
             "minorgridcolor": "white",
             "startlinecolor": "#2a3f5f"
            },
            "baxis": {
             "endlinecolor": "#2a3f5f",
             "gridcolor": "white",
             "linecolor": "white",
             "minorgridcolor": "white",
             "startlinecolor": "#2a3f5f"
            },
            "type": "carpet"
           }
          ],
          "choropleth": [
           {
            "colorbar": {
             "outlinewidth": 0,
             "ticks": ""
            },
            "type": "choropleth"
           }
          ],
          "contour": [
           {
            "colorbar": {
             "outlinewidth": 0,
             "ticks": ""
            },
            "colorscale": [
             [
              0,
              "#0d0887"
             ],
             [
              0.1111111111111111,
              "#46039f"
             ],
             [
              0.2222222222222222,
              "#7201a8"
             ],
             [
              0.3333333333333333,
              "#9c179e"
             ],
             [
              0.4444444444444444,
              "#bd3786"
             ],
             [
              0.5555555555555556,
              "#d8576b"
             ],
             [
              0.6666666666666666,
              "#ed7953"
             ],
             [
              0.7777777777777778,
              "#fb9f3a"
             ],
             [
              0.8888888888888888,
              "#fdca26"
             ],
             [
              1,
              "#f0f921"
             ]
            ],
            "type": "contour"
           }
          ],
          "contourcarpet": [
           {
            "colorbar": {
             "outlinewidth": 0,
             "ticks": ""
            },
            "type": "contourcarpet"
           }
          ],
          "heatmap": [
           {
            "colorbar": {
             "outlinewidth": 0,
             "ticks": ""
            },
            "colorscale": [
             [
              0,
              "#0d0887"
             ],
             [
              0.1111111111111111,
              "#46039f"
             ],
             [
              0.2222222222222222,
              "#7201a8"
             ],
             [
              0.3333333333333333,
              "#9c179e"
             ],
             [
              0.4444444444444444,
              "#bd3786"
             ],
             [
              0.5555555555555556,
              "#d8576b"
             ],
             [
              0.6666666666666666,
              "#ed7953"
             ],
             [
              0.7777777777777778,
              "#fb9f3a"
             ],
             [
              0.8888888888888888,
              "#fdca26"
             ],
             [
              1,
              "#f0f921"
             ]
            ],
            "type": "heatmap"
           }
          ],
          "histogram": [
           {
            "marker": {
             "pattern": {
              "fillmode": "overlay",
              "size": 10,
              "solidity": 0.2
             }
            },
            "type": "histogram"
           }
          ],
          "histogram2d": [
           {
            "colorbar": {
             "outlinewidth": 0,
             "ticks": ""
            },
            "colorscale": [
             [
              0,
              "#0d0887"
             ],
             [
              0.1111111111111111,
              "#46039f"
             ],
             [
              0.2222222222222222,
              "#7201a8"
             ],
             [
              0.3333333333333333,
              "#9c179e"
             ],
             [
              0.4444444444444444,
              "#bd3786"
             ],
             [
              0.5555555555555556,
              "#d8576b"
             ],
             [
              0.6666666666666666,
              "#ed7953"
             ],
             [
              0.7777777777777778,
              "#fb9f3a"
             ],
             [
              0.8888888888888888,
              "#fdca26"
             ],
             [
              1,
              "#f0f921"
             ]
            ],
            "type": "histogram2d"
           }
          ],
          "histogram2dcontour": [
           {
            "colorbar": {
             "outlinewidth": 0,
             "ticks": ""
            },
            "colorscale": [
             [
              0,
              "#0d0887"
             ],
             [
              0.1111111111111111,
              "#46039f"
             ],
             [
              0.2222222222222222,
              "#7201a8"
             ],
             [
              0.3333333333333333,
              "#9c179e"
             ],
             [
              0.4444444444444444,
              "#bd3786"
             ],
             [
              0.5555555555555556,
              "#d8576b"
             ],
             [
              0.6666666666666666,
              "#ed7953"
             ],
             [
              0.7777777777777778,
              "#fb9f3a"
             ],
             [
              0.8888888888888888,
              "#fdca26"
             ],
             [
              1,
              "#f0f921"
             ]
            ],
            "type": "histogram2dcontour"
           }
          ],
          "mesh3d": [
           {
            "colorbar": {
             "outlinewidth": 0,
             "ticks": ""
            },
            "type": "mesh3d"
           }
          ],
          "parcoords": [
           {
            "line": {
             "colorbar": {
              "outlinewidth": 0,
              "ticks": ""
             }
            },
            "type": "parcoords"
           }
          ],
          "pie": [
           {
            "automargin": true,
            "type": "pie"
           }
          ],
          "scatter": [
           {
            "fillpattern": {
             "fillmode": "overlay",
             "size": 10,
             "solidity": 0.2
            },
            "type": "scatter"
           }
          ],
          "scatter3d": [
           {
            "line": {
             "colorbar": {
              "outlinewidth": 0,
              "ticks": ""
             }
            },
            "marker": {
             "colorbar": {
              "outlinewidth": 0,
              "ticks": ""
             }
            },
            "type": "scatter3d"
           }
          ],
          "scattercarpet": [
           {
            "marker": {
             "colorbar": {
              "outlinewidth": 0,
              "ticks": ""
             }
            },
            "type": "scattercarpet"
           }
          ],
          "scattergeo": [
           {
            "marker": {
             "colorbar": {
              "outlinewidth": 0,
              "ticks": ""
             }
            },
            "type": "scattergeo"
           }
          ],
          "scattergl": [
           {
            "marker": {
             "colorbar": {
              "outlinewidth": 0,
              "ticks": ""
             }
            },
            "type": "scattergl"
           }
          ],
          "scattermap": [
           {
            "marker": {
             "colorbar": {
              "outlinewidth": 0,
              "ticks": ""
             }
            },
            "type": "scattermap"
           }
          ],
          "scattermapbox": [
           {
            "marker": {
             "colorbar": {
              "outlinewidth": 0,
              "ticks": ""
             }
            },
            "type": "scattermapbox"
           }
          ],
          "scatterpolar": [
           {
            "marker": {
             "colorbar": {
              "outlinewidth": 0,
              "ticks": ""
             }
            },
            "type": "scatterpolar"
           }
          ],
          "scatterpolargl": [
           {
            "marker": {
             "colorbar": {
              "outlinewidth": 0,
              "ticks": ""
             }
            },
            "type": "scatterpolargl"
           }
          ],
          "scatterternary": [
           {
            "marker": {
             "colorbar": {
              "outlinewidth": 0,
              "ticks": ""
             }
            },
            "type": "scatterternary"
           }
          ],
          "surface": [
           {
            "colorbar": {
             "outlinewidth": 0,
             "ticks": ""
            },
            "colorscale": [
             [
              0,
              "#0d0887"
             ],
             [
              0.1111111111111111,
              "#46039f"
             ],
             [
              0.2222222222222222,
              "#7201a8"
             ],
             [
              0.3333333333333333,
              "#9c179e"
             ],
             [
              0.4444444444444444,
              "#bd3786"
             ],
             [
              0.5555555555555556,
              "#d8576b"
             ],
             [
              0.6666666666666666,
              "#ed7953"
             ],
             [
              0.7777777777777778,
              "#fb9f3a"
             ],
             [
              0.8888888888888888,
              "#fdca26"
             ],
             [
              1,
              "#f0f921"
             ]
            ],
            "type": "surface"
           }
          ],
          "table": [
           {
            "cells": {
             "fill": {
              "color": "#EBF0F8"
             },
             "line": {
              "color": "white"
             }
            },
            "header": {
             "fill": {
              "color": "#C8D4E3"
             },
             "line": {
              "color": "white"
             }
            },
            "type": "table"
           }
          ]
         },
         "layout": {
          "annotationdefaults": {
           "arrowcolor": "#2a3f5f",
           "arrowhead": 0,
           "arrowwidth": 1
          },
          "autotypenumbers": "strict",
          "coloraxis": {
           "colorbar": {
            "outlinewidth": 0,
            "ticks": ""
           }
          },
          "colorscale": {
           "diverging": [
            [
             0,
             "#8e0152"
            ],
            [
             0.1,
             "#c51b7d"
            ],
            [
             0.2,
             "#de77ae"
            ],
            [
             0.3,
             "#f1b6da"
            ],
            [
             0.4,
             "#fde0ef"
            ],
            [
             0.5,
             "#f7f7f7"
            ],
            [
             0.6,
             "#e6f5d0"
            ],
            [
             0.7,
             "#b8e186"
            ],
            [
             0.8,
             "#7fbc41"
            ],
            [
             0.9,
             "#4d9221"
            ],
            [
             1,
             "#276419"
            ]
           ],
           "sequential": [
            [
             0,
             "#0d0887"
            ],
            [
             0.1111111111111111,
             "#46039f"
            ],
            [
             0.2222222222222222,
             "#7201a8"
            ],
            [
             0.3333333333333333,
             "#9c179e"
            ],
            [
             0.4444444444444444,
             "#bd3786"
            ],
            [
             0.5555555555555556,
             "#d8576b"
            ],
            [
             0.6666666666666666,
             "#ed7953"
            ],
            [
             0.7777777777777778,
             "#fb9f3a"
            ],
            [
             0.8888888888888888,
             "#fdca26"
            ],
            [
             1,
             "#f0f921"
            ]
           ],
           "sequentialminus": [
            [
             0,
             "#0d0887"
            ],
            [
             0.1111111111111111,
             "#46039f"
            ],
            [
             0.2222222222222222,
             "#7201a8"
            ],
            [
             0.3333333333333333,
             "#9c179e"
            ],
            [
             0.4444444444444444,
             "#bd3786"
            ],
            [
             0.5555555555555556,
             "#d8576b"
            ],
            [
             0.6666666666666666,
             "#ed7953"
            ],
            [
             0.7777777777777778,
             "#fb9f3a"
            ],
            [
             0.8888888888888888,
             "#fdca26"
            ],
            [
             1,
             "#f0f921"
            ]
           ]
          },
          "colorway": [
           "#636efa",
           "#EF553B",
           "#00cc96",
           "#ab63fa",
           "#FFA15A",
           "#19d3f3",
           "#FF6692",
           "#B6E880",
           "#FF97FF",
           "#FECB52"
          ],
          "font": {
           "color": "#2a3f5f"
          },
          "geo": {
           "bgcolor": "white",
           "lakecolor": "white",
           "landcolor": "#E5ECF6",
           "showlakes": true,
           "showland": true,
           "subunitcolor": "white"
          },
          "hoverlabel": {
           "align": "left"
          },
          "hovermode": "closest",
          "mapbox": {
           "style": "light"
          },
          "paper_bgcolor": "white",
          "plot_bgcolor": "#E5ECF6",
          "polar": {
           "angularaxis": {
            "gridcolor": "white",
            "linecolor": "white",
            "ticks": ""
           },
           "bgcolor": "#E5ECF6",
           "radialaxis": {
            "gridcolor": "white",
            "linecolor": "white",
            "ticks": ""
           }
          },
          "scene": {
           "xaxis": {
            "backgroundcolor": "#E5ECF6",
            "gridcolor": "white",
            "gridwidth": 2,
            "linecolor": "white",
            "showbackground": true,
            "ticks": "",
            "zerolinecolor": "white"
           },
           "yaxis": {
            "backgroundcolor": "#E5ECF6",
            "gridcolor": "white",
            "gridwidth": 2,
            "linecolor": "white",
            "showbackground": true,
            "ticks": "",
            "zerolinecolor": "white"
           },
           "zaxis": {
            "backgroundcolor": "#E5ECF6",
            "gridcolor": "white",
            "gridwidth": 2,
            "linecolor": "white",
            "showbackground": true,
            "ticks": "",
            "zerolinecolor": "white"
           }
          },
          "shapedefaults": {
           "line": {
            "color": "#2a3f5f"
           }
          },
          "ternary": {
           "aaxis": {
            "gridcolor": "white",
            "linecolor": "white",
            "ticks": ""
           },
           "baxis": {
            "gridcolor": "white",
            "linecolor": "white",
            "ticks": ""
           },
           "bgcolor": "#E5ECF6",
           "caxis": {
            "gridcolor": "white",
            "linecolor": "white",
            "ticks": ""
           }
          },
          "title": {
           "x": 0.05
          },
          "xaxis": {
           "automargin": true,
           "gridcolor": "white",
           "linecolor": "white",
           "ticks": "",
           "title": {
            "standoff": 15
           },
           "zerolinecolor": "white",
           "zerolinewidth": 2
          },
          "yaxis": {
           "automargin": true,
           "gridcolor": "white",
           "linecolor": "white",
           "ticks": "",
           "title": {
            "standoff": 15
           },
           "zerolinecolor": "white",
           "zerolinewidth": 2
          }
         }
        },
        "title": {
         "text": "Discrimination Tree"
        },
        "xaxis": {
         "visible": false
        },
        "yaxis": {
         "visible": false
        }
       }
      }
     },
     "metadata": {},
     "output_type": "display_data"
    },
    {
     "data": {
      "text/markdown": [
       "### Iteration 2"
      ],
      "text/plain": [
       "<IPython.core.display.Markdown object>"
      ]
     },
     "metadata": {},
     "output_type": "display_data"
    },
    {
     "data": {
      "application/vnd.plotly.v1+json": {
       "config": {
        "plotlyServerURL": "https://plot.ly"
       },
       "data": [
        {
         "hoverinfo": "none",
         "line": {
          "color": "black",
          "width": 2
         },
         "mode": "lines",
         "type": "scatter",
         "x": [
          0,
          -0.5,
          null,
          -0.5,
          -0.75,
          null,
          -0.5,
          -0.25,
          null,
          0,
          0.5,
          null
         ],
         "y": [
          0,
          -1,
          null,
          -1,
          -2,
          null,
          -1,
          -2,
          null,
          0,
          -1,
          null
         ]
        },
        {
         "hoverinfo": "text",
         "marker": {
          "color": [
           "lightgreen",
           "lightgreen",
           "lightblue",
           "lightblue",
           "lightblue"
          ],
          "line": {
           "color": "black",
           "width": 2
          },
          "size": 50
         },
         "mode": "markers+text",
         "text": [
          "",
          "b",
          "q2",
          "q0",
          "q1"
         ],
         "textposition": "middle center",
         "type": "scatter",
         "x": [
          0,
          -0.5,
          -0.75,
          -0.25,
          0.5
         ],
         "y": [
          0,
          -1,
          -2,
          -2,
          -1
         ]
        }
       ],
       "layout": {
        "hovermode": "closest",
        "plot_bgcolor": "white",
        "showlegend": false,
        "template": {
         "data": {
          "bar": [
           {
            "error_x": {
             "color": "#2a3f5f"
            },
            "error_y": {
             "color": "#2a3f5f"
            },
            "marker": {
             "line": {
              "color": "#E5ECF6",
              "width": 0.5
             },
             "pattern": {
              "fillmode": "overlay",
              "size": 10,
              "solidity": 0.2
             }
            },
            "type": "bar"
           }
          ],
          "barpolar": [
           {
            "marker": {
             "line": {
              "color": "#E5ECF6",
              "width": 0.5
             },
             "pattern": {
              "fillmode": "overlay",
              "size": 10,
              "solidity": 0.2
             }
            },
            "type": "barpolar"
           }
          ],
          "carpet": [
           {
            "aaxis": {
             "endlinecolor": "#2a3f5f",
             "gridcolor": "white",
             "linecolor": "white",
             "minorgridcolor": "white",
             "startlinecolor": "#2a3f5f"
            },
            "baxis": {
             "endlinecolor": "#2a3f5f",
             "gridcolor": "white",
             "linecolor": "white",
             "minorgridcolor": "white",
             "startlinecolor": "#2a3f5f"
            },
            "type": "carpet"
           }
          ],
          "choropleth": [
           {
            "colorbar": {
             "outlinewidth": 0,
             "ticks": ""
            },
            "type": "choropleth"
           }
          ],
          "contour": [
           {
            "colorbar": {
             "outlinewidth": 0,
             "ticks": ""
            },
            "colorscale": [
             [
              0,
              "#0d0887"
             ],
             [
              0.1111111111111111,
              "#46039f"
             ],
             [
              0.2222222222222222,
              "#7201a8"
             ],
             [
              0.3333333333333333,
              "#9c179e"
             ],
             [
              0.4444444444444444,
              "#bd3786"
             ],
             [
              0.5555555555555556,
              "#d8576b"
             ],
             [
              0.6666666666666666,
              "#ed7953"
             ],
             [
              0.7777777777777778,
              "#fb9f3a"
             ],
             [
              0.8888888888888888,
              "#fdca26"
             ],
             [
              1,
              "#f0f921"
             ]
            ],
            "type": "contour"
           }
          ],
          "contourcarpet": [
           {
            "colorbar": {
             "outlinewidth": 0,
             "ticks": ""
            },
            "type": "contourcarpet"
           }
          ],
          "heatmap": [
           {
            "colorbar": {
             "outlinewidth": 0,
             "ticks": ""
            },
            "colorscale": [
             [
              0,
              "#0d0887"
             ],
             [
              0.1111111111111111,
              "#46039f"
             ],
             [
              0.2222222222222222,
              "#7201a8"
             ],
             [
              0.3333333333333333,
              "#9c179e"
             ],
             [
              0.4444444444444444,
              "#bd3786"
             ],
             [
              0.5555555555555556,
              "#d8576b"
             ],
             [
              0.6666666666666666,
              "#ed7953"
             ],
             [
              0.7777777777777778,
              "#fb9f3a"
             ],
             [
              0.8888888888888888,
              "#fdca26"
             ],
             [
              1,
              "#f0f921"
             ]
            ],
            "type": "heatmap"
           }
          ],
          "histogram": [
           {
            "marker": {
             "pattern": {
              "fillmode": "overlay",
              "size": 10,
              "solidity": 0.2
             }
            },
            "type": "histogram"
           }
          ],
          "histogram2d": [
           {
            "colorbar": {
             "outlinewidth": 0,
             "ticks": ""
            },
            "colorscale": [
             [
              0,
              "#0d0887"
             ],
             [
              0.1111111111111111,
              "#46039f"
             ],
             [
              0.2222222222222222,
              "#7201a8"
             ],
             [
              0.3333333333333333,
              "#9c179e"
             ],
             [
              0.4444444444444444,
              "#bd3786"
             ],
             [
              0.5555555555555556,
              "#d8576b"
             ],
             [
              0.6666666666666666,
              "#ed7953"
             ],
             [
              0.7777777777777778,
              "#fb9f3a"
             ],
             [
              0.8888888888888888,
              "#fdca26"
             ],
             [
              1,
              "#f0f921"
             ]
            ],
            "type": "histogram2d"
           }
          ],
          "histogram2dcontour": [
           {
            "colorbar": {
             "outlinewidth": 0,
             "ticks": ""
            },
            "colorscale": [
             [
              0,
              "#0d0887"
             ],
             [
              0.1111111111111111,
              "#46039f"
             ],
             [
              0.2222222222222222,
              "#7201a8"
             ],
             [
              0.3333333333333333,
              "#9c179e"
             ],
             [
              0.4444444444444444,
              "#bd3786"
             ],
             [
              0.5555555555555556,
              "#d8576b"
             ],
             [
              0.6666666666666666,
              "#ed7953"
             ],
             [
              0.7777777777777778,
              "#fb9f3a"
             ],
             [
              0.8888888888888888,
              "#fdca26"
             ],
             [
              1,
              "#f0f921"
             ]
            ],
            "type": "histogram2dcontour"
           }
          ],
          "mesh3d": [
           {
            "colorbar": {
             "outlinewidth": 0,
             "ticks": ""
            },
            "type": "mesh3d"
           }
          ],
          "parcoords": [
           {
            "line": {
             "colorbar": {
              "outlinewidth": 0,
              "ticks": ""
             }
            },
            "type": "parcoords"
           }
          ],
          "pie": [
           {
            "automargin": true,
            "type": "pie"
           }
          ],
          "scatter": [
           {
            "fillpattern": {
             "fillmode": "overlay",
             "size": 10,
             "solidity": 0.2
            },
            "type": "scatter"
           }
          ],
          "scatter3d": [
           {
            "line": {
             "colorbar": {
              "outlinewidth": 0,
              "ticks": ""
             }
            },
            "marker": {
             "colorbar": {
              "outlinewidth": 0,
              "ticks": ""
             }
            },
            "type": "scatter3d"
           }
          ],
          "scattercarpet": [
           {
            "marker": {
             "colorbar": {
              "outlinewidth": 0,
              "ticks": ""
             }
            },
            "type": "scattercarpet"
           }
          ],
          "scattergeo": [
           {
            "marker": {
             "colorbar": {
              "outlinewidth": 0,
              "ticks": ""
             }
            },
            "type": "scattergeo"
           }
          ],
          "scattergl": [
           {
            "marker": {
             "colorbar": {
              "outlinewidth": 0,
              "ticks": ""
             }
            },
            "type": "scattergl"
           }
          ],
          "scattermap": [
           {
            "marker": {
             "colorbar": {
              "outlinewidth": 0,
              "ticks": ""
             }
            },
            "type": "scattermap"
           }
          ],
          "scattermapbox": [
           {
            "marker": {
             "colorbar": {
              "outlinewidth": 0,
              "ticks": ""
             }
            },
            "type": "scattermapbox"
           }
          ],
          "scatterpolar": [
           {
            "marker": {
             "colorbar": {
              "outlinewidth": 0,
              "ticks": ""
             }
            },
            "type": "scatterpolar"
           }
          ],
          "scatterpolargl": [
           {
            "marker": {
             "colorbar": {
              "outlinewidth": 0,
              "ticks": ""
             }
            },
            "type": "scatterpolargl"
           }
          ],
          "scatterternary": [
           {
            "marker": {
             "colorbar": {
              "outlinewidth": 0,
              "ticks": ""
             }
            },
            "type": "scatterternary"
           }
          ],
          "surface": [
           {
            "colorbar": {
             "outlinewidth": 0,
             "ticks": ""
            },
            "colorscale": [
             [
              0,
              "#0d0887"
             ],
             [
              0.1111111111111111,
              "#46039f"
             ],
             [
              0.2222222222222222,
              "#7201a8"
             ],
             [
              0.3333333333333333,
              "#9c179e"
             ],
             [
              0.4444444444444444,
              "#bd3786"
             ],
             [
              0.5555555555555556,
              "#d8576b"
             ],
             [
              0.6666666666666666,
              "#ed7953"
             ],
             [
              0.7777777777777778,
              "#fb9f3a"
             ],
             [
              0.8888888888888888,
              "#fdca26"
             ],
             [
              1,
              "#f0f921"
             ]
            ],
            "type": "surface"
           }
          ],
          "table": [
           {
            "cells": {
             "fill": {
              "color": "#EBF0F8"
             },
             "line": {
              "color": "white"
             }
            },
            "header": {
             "fill": {
              "color": "#C8D4E3"
             },
             "line": {
              "color": "white"
             }
            },
            "type": "table"
           }
          ]
         },
         "layout": {
          "annotationdefaults": {
           "arrowcolor": "#2a3f5f",
           "arrowhead": 0,
           "arrowwidth": 1
          },
          "autotypenumbers": "strict",
          "coloraxis": {
           "colorbar": {
            "outlinewidth": 0,
            "ticks": ""
           }
          },
          "colorscale": {
           "diverging": [
            [
             0,
             "#8e0152"
            ],
            [
             0.1,
             "#c51b7d"
            ],
            [
             0.2,
             "#de77ae"
            ],
            [
             0.3,
             "#f1b6da"
            ],
            [
             0.4,
             "#fde0ef"
            ],
            [
             0.5,
             "#f7f7f7"
            ],
            [
             0.6,
             "#e6f5d0"
            ],
            [
             0.7,
             "#b8e186"
            ],
            [
             0.8,
             "#7fbc41"
            ],
            [
             0.9,
             "#4d9221"
            ],
            [
             1,
             "#276419"
            ]
           ],
           "sequential": [
            [
             0,
             "#0d0887"
            ],
            [
             0.1111111111111111,
             "#46039f"
            ],
            [
             0.2222222222222222,
             "#7201a8"
            ],
            [
             0.3333333333333333,
             "#9c179e"
            ],
            [
             0.4444444444444444,
             "#bd3786"
            ],
            [
             0.5555555555555556,
             "#d8576b"
            ],
            [
             0.6666666666666666,
             "#ed7953"
            ],
            [
             0.7777777777777778,
             "#fb9f3a"
            ],
            [
             0.8888888888888888,
             "#fdca26"
            ],
            [
             1,
             "#f0f921"
            ]
           ],
           "sequentialminus": [
            [
             0,
             "#0d0887"
            ],
            [
             0.1111111111111111,
             "#46039f"
            ],
            [
             0.2222222222222222,
             "#7201a8"
            ],
            [
             0.3333333333333333,
             "#9c179e"
            ],
            [
             0.4444444444444444,
             "#bd3786"
            ],
            [
             0.5555555555555556,
             "#d8576b"
            ],
            [
             0.6666666666666666,
             "#ed7953"
            ],
            [
             0.7777777777777778,
             "#fb9f3a"
            ],
            [
             0.8888888888888888,
             "#fdca26"
            ],
            [
             1,
             "#f0f921"
            ]
           ]
          },
          "colorway": [
           "#636efa",
           "#EF553B",
           "#00cc96",
           "#ab63fa",
           "#FFA15A",
           "#19d3f3",
           "#FF6692",
           "#B6E880",
           "#FF97FF",
           "#FECB52"
          ],
          "font": {
           "color": "#2a3f5f"
          },
          "geo": {
           "bgcolor": "white",
           "lakecolor": "white",
           "landcolor": "#E5ECF6",
           "showlakes": true,
           "showland": true,
           "subunitcolor": "white"
          },
          "hoverlabel": {
           "align": "left"
          },
          "hovermode": "closest",
          "mapbox": {
           "style": "light"
          },
          "paper_bgcolor": "white",
          "plot_bgcolor": "#E5ECF6",
          "polar": {
           "angularaxis": {
            "gridcolor": "white",
            "linecolor": "white",
            "ticks": ""
           },
           "bgcolor": "#E5ECF6",
           "radialaxis": {
            "gridcolor": "white",
            "linecolor": "white",
            "ticks": ""
           }
          },
          "scene": {
           "xaxis": {
            "backgroundcolor": "#E5ECF6",
            "gridcolor": "white",
            "gridwidth": 2,
            "linecolor": "white",
            "showbackground": true,
            "ticks": "",
            "zerolinecolor": "white"
           },
           "yaxis": {
            "backgroundcolor": "#E5ECF6",
            "gridcolor": "white",
            "gridwidth": 2,
            "linecolor": "white",
            "showbackground": true,
            "ticks": "",
            "zerolinecolor": "white"
           },
           "zaxis": {
            "backgroundcolor": "#E5ECF6",
            "gridcolor": "white",
            "gridwidth": 2,
            "linecolor": "white",
            "showbackground": true,
            "ticks": "",
            "zerolinecolor": "white"
           }
          },
          "shapedefaults": {
           "line": {
            "color": "#2a3f5f"
           }
          },
          "ternary": {
           "aaxis": {
            "gridcolor": "white",
            "linecolor": "white",
            "ticks": ""
           },
           "baxis": {
            "gridcolor": "white",
            "linecolor": "white",
            "ticks": ""
           },
           "bgcolor": "#E5ECF6",
           "caxis": {
            "gridcolor": "white",
            "linecolor": "white",
            "ticks": ""
           }
          },
          "title": {
           "x": 0.05
          },
          "xaxis": {
           "automargin": true,
           "gridcolor": "white",
           "linecolor": "white",
           "ticks": "",
           "title": {
            "standoff": 15
           },
           "zerolinecolor": "white",
           "zerolinewidth": 2
          },
          "yaxis": {
           "automargin": true,
           "gridcolor": "white",
           "linecolor": "white",
           "ticks": "",
           "title": {
            "standoff": 15
           },
           "zerolinecolor": "white",
           "zerolinewidth": 2
          }
         }
        },
        "title": {
         "text": "Discrimination Tree"
        },
        "xaxis": {
         "visible": false
        },
        "yaxis": {
         "visible": false
        }
       }
      }
     },
     "metadata": {},
     "output_type": "display_data"
    },
    {
     "data": {
      "text/markdown": [
       "Converting Hypothesis to DFA with alphabet: ab"
      ],
      "text/plain": [
       "<IPython.core.display.Markdown object>"
      ]
     },
     "metadata": {},
     "output_type": "display_data"
    },
    {
     "name": "stdout",
     "output_type": "stream",
     "text": [
      "[DEBUG Transition.target_state] Getting target state for aseq='ba': q2\n",
      "[DEBUG Transition.target_state] Getting target state for aseq='ba': q2\n",
      "[DEBUG Transition.target_state] Getting target state for aseq='ba': q2\n"
     ]
    },
    {
     "data": {
      "text/markdown": [
       "Transition: q1 --a--> q2"
      ],
      "text/plain": [
       "<IPython.core.display.Markdown object>"
      ]
     },
     "metadata": {},
     "output_type": "display_data"
    },
    {
     "name": "stdout",
     "output_type": "stream",
     "text": [
      "[DEBUG Transition.target_state] Getting target state for aseq='bb': q2\n",
      "[DEBUG Transition.target_state] Getting target state for aseq='bb': q2\n",
      "[DEBUG Transition.target_state] Getting target state for aseq='bb': q2\n"
     ]
    },
    {
     "data": {
      "text/markdown": [
       "Transition: q1 --b--> q2"
      ],
      "text/plain": [
       "<IPython.core.display.Markdown object>"
      ]
     },
     "metadata": {},
     "output_type": "display_data"
    },
    {
     "name": "stdout",
     "output_type": "stream",
     "text": [
      "[DEBUG Transition.target_state] Getting target state for aseq='a': q0\n",
      "[DEBUG Transition.target_state] Getting target state for aseq='a': q0\n",
      "[DEBUG Transition.target_state] Getting target state for aseq='a': q0\n"
     ]
    },
    {
     "data": {
      "text/markdown": [
       "Transition: q0 --a--> q0"
      ],
      "text/plain": [
       "<IPython.core.display.Markdown object>"
      ]
     },
     "metadata": {},
     "output_type": "display_data"
    },
    {
     "name": "stdout",
     "output_type": "stream",
     "text": [
      "[DEBUG Transition.target_state] Getting target state for aseq='b': q1\n",
      "[DEBUG Transition.target_state] Getting target state for aseq='b': q1\n",
      "[DEBUG Transition.target_state] Getting target state for aseq='b': q1\n"
     ]
    },
    {
     "data": {
      "text/markdown": [
       "Transition: q0 --b--> q1"
      ],
      "text/plain": [
       "<IPython.core.display.Markdown object>"
      ]
     },
     "metadata": {},
     "output_type": "display_data"
    },
    {
     "name": "stdout",
     "output_type": "stream",
     "text": [
      "[DEBUG Transition.target_state] Getting target state for aseq='baa': q2\n",
      "[DEBUG Transition.target_state] Getting target state for aseq='baa': q2\n",
      "[DEBUG Transition.target_state] Getting target state for aseq='baa': q2\n"
     ]
    },
    {
     "data": {
      "text/markdown": [
       "Transition: q2 --a--> q2"
      ],
      "text/plain": [
       "<IPython.core.display.Markdown object>"
      ]
     },
     "metadata": {},
     "output_type": "display_data"
    },
    {
     "name": "stdout",
     "output_type": "stream",
     "text": [
      "[DEBUG Transition.target_state] Getting target state for aseq='bab': q2\n",
      "[DEBUG Transition.target_state] Getting target state for aseq='bab': q2\n",
      "[DEBUG Transition.target_state] Getting target state for aseq='bab': q2\n"
     ]
    },
    {
     "data": {
      "text/markdown": [
       "Transition: q2 --b--> q2"
      ],
      "text/plain": [
       "<IPython.core.display.Markdown object>"
      ]
     },
     "metadata": {},
     "output_type": "display_data"
    },
    {
     "name": "stdout",
     "output_type": "stream",
     "text": [
      "[DEBUG DFA.close_with_sink] Adding sink state 4 for alphabet ['a', 'b']\n"
     ]
    },
    {
     "data": {
      "text/markdown": [
       "# Adding State\n",
       "## State: 4\n",
       "## Transitions: {'a': 4, 'b': 4}"
      ],
      "text/plain": [
       "<IPython.core.display.Markdown object>"
      ]
     },
     "metadata": {},
     "output_type": "display_data"
    },
    {
     "name": "stdout",
     "output_type": "stream",
     "text": [
      "[DEBUG DFA.close_with_sink] Transitions after adding sink: {1: {'a': 2, 'b': 2}, 0: {'a': 0, 'b': 1}, 2: {'a': 2, 'b': 2}, 4: {'a': 4, 'b': 4}}\n",
      "[DEBUG Hypothesis.to_dfa] DFA after sink: transitions={1: {'a': 2, 'b': 2}, 0: {'a': 0, 'b': 1}, 2: {'a': 2, 'b': 2}, 4: {'a': 4, 'b': 4}}\n",
      "[DEBUG DFA.is_equivalent] Checking equivalence with another DFA\n",
      "[DEBUG DFA.complement] Creating complement DFA\n",
      "[DEBUG DFA.complement] Complement final states: {0, 2, 4}\n",
      "[DEBUG DFA.intersection] Product states: [(0, 0), (0, 1), (0, 2), (0, 4), (1, 0), (1, 1), (1, 2), (1, 4), (2, 0), (2, 1), (2, 2), (2, 4), (3, 0), (3, 1), (3, 2), (3, 4)]\n",
      "[DEBUG DFA.intersection] Intersection start state: 4\n",
      "[DEBUG DFA.intersection] Intersection final states: {12, 14, 15}\n",
      "[DEBUG DFA.intersection] Transition 0 --a--> 0 (from 0,0)\n",
      "[DEBUG DFA.intersection] Transition 0 --b--> 1 (from 0,0)\n",
      "[DEBUG DFA.intersection] Transition 1 --a--> 2 (from 0,1)\n",
      "[DEBUG DFA.intersection] Transition 1 --b--> 2 (from 0,1)\n",
      "[DEBUG DFA.intersection] Transition 2 --a--> 2 (from 0,2)\n",
      "[DEBUG DFA.intersection] Transition 2 --b--> 2 (from 0,2)\n",
      "[DEBUG DFA.intersection] Transition 3 --a--> 3 (from 0,4)\n",
      "[DEBUG DFA.intersection] Transition 3 --b--> 3 (from 0,4)\n",
      "[DEBUG DFA.intersection] Transition 4 --a--> 8 (from 1,0)\n",
      "[DEBUG DFA.intersection] Transition 4 --b--> 13 (from 1,0)\n",
      "[DEBUG DFA.intersection] Transition 5 --a--> 10 (from 1,1)\n",
      "[DEBUG DFA.intersection] Transition 5 --b--> 14 (from 1,1)\n",
      "[DEBUG DFA.intersection] Transition 6 --a--> 10 (from 1,2)\n",
      "[DEBUG DFA.intersection] Transition 6 --b--> 14 (from 1,2)\n",
      "[DEBUG DFA.intersection] Transition 7 --a--> 11 (from 1,4)\n",
      "[DEBUG DFA.intersection] Transition 7 --b--> 15 (from 1,4)\n",
      "[DEBUG DFA.intersection] Transition 8 --a--> 8 (from 2,0)\n",
      "[DEBUG DFA.intersection] Transition 8 --b--> 13 (from 2,0)\n",
      "[DEBUG DFA.intersection] Transition 9 --a--> 10 (from 2,1)\n",
      "[DEBUG DFA.intersection] Transition 9 --b--> 14 (from 2,1)\n",
      "[DEBUG DFA.intersection] Transition 10 --a--> 10 (from 2,2)\n",
      "[DEBUG DFA.intersection] Transition 10 --b--> 14 (from 2,2)\n",
      "[DEBUG DFA.intersection] Transition 11 --a--> 11 (from 2,4)\n",
      "[DEBUG DFA.intersection] Transition 11 --b--> 15 (from 2,4)\n",
      "[DEBUG DFA.intersection] Transition 12 --a--> 0 (from 3,0)\n",
      "[DEBUG DFA.intersection] Transition 12 --b--> 1 (from 3,0)\n",
      "[DEBUG DFA.intersection] Transition 13 --a--> 2 (from 3,1)\n",
      "[DEBUG DFA.intersection] Transition 13 --b--> 2 (from 3,1)\n",
      "[DEBUG DFA.intersection] Transition 14 --a--> 2 (from 3,2)\n",
      "[DEBUG DFA.intersection] Transition 14 --b--> 2 (from 3,2)\n",
      "[DEBUG DFA.intersection] Transition 15 --a--> 3 (from 3,4)\n",
      "[DEBUG DFA.intersection] Transition 15 --b--> 3 (from 3,4)\n"
     ]
    },
    {
     "data": {
      "text/markdown": [
       "### Trimming Unreachable States from DFA"
      ],
      "text/plain": [
       "<IPython.core.display.Markdown object>"
      ]
     },
     "metadata": {},
     "output_type": "display_data"
    },
    {
     "name": "stdout",
     "output_type": "stream",
     "text": [
      "[DEBUG DFA.trim_unreachable] Starting BFS from state 4\n",
      "[DEBUG DFA.trim_unreachable] Visited state 4\n",
      "[DEBUG DFA.trim_unreachable] Queued state 8\n",
      "[DEBUG DFA.trim_unreachable] Queued state 13\n",
      "[DEBUG DFA.trim_unreachable] Visited state 8\n",
      "[DEBUG DFA.trim_unreachable] Queued state 13\n",
      "[DEBUG DFA.trim_unreachable] Visited state 13\n",
      "[DEBUG DFA.trim_unreachable] Queued state 2\n",
      "[DEBUG DFA.trim_unreachable] Queued state 2\n",
      "[DEBUG DFA.trim_unreachable] Visited state 2\n",
      "[DEBUG DFA.trim_unreachable] Removing unreachable state 0\n",
      "[DEBUG DFA.trim_unreachable] Removing unreachable state 1\n",
      "[DEBUG DFA.trim_unreachable] Removing unreachable state 3\n",
      "[DEBUG DFA.trim_unreachable] Removing unreachable state 5\n",
      "[DEBUG DFA.trim_unreachable] Removing unreachable state 6\n",
      "[DEBUG DFA.trim_unreachable] Removing unreachable state 7\n",
      "[DEBUG DFA.trim_unreachable] Removing unreachable state 9\n",
      "[DEBUG DFA.trim_unreachable] Removing unreachable state 10\n",
      "[DEBUG DFA.trim_unreachable] Removing unreachable state 11\n",
      "[DEBUG DFA.trim_unreachable] Removing unreachable state 12\n",
      "[DEBUG DFA.trim_unreachable] Removing unreachable state 14\n",
      "[DEBUG DFA.trim_unreachable] Removing unreachable state 15\n",
      "[DEBUG DFA.trim_unreachable] Final states: {2, 4, 8, 13}\n",
      "[DEBUG DFA.intersection] Final intersection DFA: states={2, 4, 8, 13}, transitions={2: {'a': 2, 'b': 2}, 4: {'a': 8, 'b': 13}, 8: {'a': 8, 'b': 13}, 13: {'a': 2, 'b': 2}}\n",
      "[DEBUG DFA.is_equivalent] Self ∩ ¬Other DFA: states={2, 4, 8, 13}, final={12, 14, 15}\n",
      "[DEBUG DFA.complement] Creating complement DFA\n",
      "[DEBUG DFA.complement] Complement final states: {0, 1, 2}\n",
      "[DEBUG DFA.intersection] Product states: [(0, 0), (0, 1), (0, 2), (0, 4), (1, 0), (1, 1), (1, 2), (1, 4), (2, 0), (2, 1), (2, 2), (2, 4), (3, 0), (3, 1), (3, 2), (3, 4)]\n",
      "[DEBUG DFA.intersection] Intersection start state: 4\n",
      "[DEBUG DFA.intersection] Intersection final states: {1, 5, 9}\n",
      "[DEBUG DFA.intersection] Transition 0 --a--> 0 (from 0,0)\n",
      "[DEBUG DFA.intersection] Transition 0 --b--> 1 (from 0,0)\n",
      "[DEBUG DFA.intersection] Transition 1 --a--> 2 (from 0,1)\n",
      "[DEBUG DFA.intersection] Transition 1 --b--> 2 (from 0,1)\n",
      "[DEBUG DFA.intersection] Transition 2 --a--> 2 (from 0,2)\n",
      "[DEBUG DFA.intersection] Transition 2 --b--> 2 (from 0,2)\n",
      "[DEBUG DFA.intersection] Transition 3 --a--> 3 (from 0,4)\n",
      "[DEBUG DFA.intersection] Transition 3 --b--> 3 (from 0,4)\n",
      "[DEBUG DFA.intersection] Transition 4 --a--> 8 (from 1,0)\n",
      "[DEBUG DFA.intersection] Transition 4 --b--> 13 (from 1,0)\n",
      "[DEBUG DFA.intersection] Transition 5 --a--> 10 (from 1,1)\n",
      "[DEBUG DFA.intersection] Transition 5 --b--> 14 (from 1,1)\n",
      "[DEBUG DFA.intersection] Transition 6 --a--> 10 (from 1,2)\n",
      "[DEBUG DFA.intersection] Transition 6 --b--> 14 (from 1,2)\n",
      "[DEBUG DFA.intersection] Transition 7 --a--> 11 (from 1,4)\n",
      "[DEBUG DFA.intersection] Transition 7 --b--> 15 (from 1,4)\n",
      "[DEBUG DFA.intersection] Transition 8 --a--> 8 (from 2,0)\n",
      "[DEBUG DFA.intersection] Transition 8 --b--> 13 (from 2,0)\n",
      "[DEBUG DFA.intersection] Transition 9 --a--> 10 (from 2,1)\n",
      "[DEBUG DFA.intersection] Transition 9 --b--> 14 (from 2,1)\n",
      "[DEBUG DFA.intersection] Transition 10 --a--> 10 (from 2,2)\n",
      "[DEBUG DFA.intersection] Transition 10 --b--> 14 (from 2,2)\n",
      "[DEBUG DFA.intersection] Transition 11 --a--> 11 (from 2,4)\n",
      "[DEBUG DFA.intersection] Transition 11 --b--> 15 (from 2,4)\n",
      "[DEBUG DFA.intersection] Transition 12 --a--> 0 (from 3,0)\n",
      "[DEBUG DFA.intersection] Transition 12 --b--> 1 (from 3,0)\n",
      "[DEBUG DFA.intersection] Transition 13 --a--> 2 (from 3,1)\n",
      "[DEBUG DFA.intersection] Transition 13 --b--> 2 (from 3,1)\n",
      "[DEBUG DFA.intersection] Transition 14 --a--> 2 (from 3,2)\n",
      "[DEBUG DFA.intersection] Transition 14 --b--> 2 (from 3,2)\n",
      "[DEBUG DFA.intersection] Transition 15 --a--> 3 (from 3,4)\n",
      "[DEBUG DFA.intersection] Transition 15 --b--> 3 (from 3,4)\n"
     ]
    },
    {
     "data": {
      "text/markdown": [
       "### Trimming Unreachable States from DFA"
      ],
      "text/plain": [
       "<IPython.core.display.Markdown object>"
      ]
     },
     "metadata": {},
     "output_type": "display_data"
    },
    {
     "name": "stdout",
     "output_type": "stream",
     "text": [
      "[DEBUG DFA.trim_unreachable] Starting BFS from state 4\n",
      "[DEBUG DFA.trim_unreachable] Visited state 4\n",
      "[DEBUG DFA.trim_unreachable] Queued state 8\n",
      "[DEBUG DFA.trim_unreachable] Queued state 13\n",
      "[DEBUG DFA.trim_unreachable] Visited state 8\n",
      "[DEBUG DFA.trim_unreachable] Queued state 13\n",
      "[DEBUG DFA.trim_unreachable] Visited state 13\n",
      "[DEBUG DFA.trim_unreachable] Queued state 2\n",
      "[DEBUG DFA.trim_unreachable] Queued state 2\n",
      "[DEBUG DFA.trim_unreachable] Visited state 2\n",
      "[DEBUG DFA.trim_unreachable] Removing unreachable state 0\n",
      "[DEBUG DFA.trim_unreachable] Removing unreachable state 1\n",
      "[DEBUG DFA.trim_unreachable] Removing unreachable state 3\n",
      "[DEBUG DFA.trim_unreachable] Removing unreachable state 5\n",
      "[DEBUG DFA.trim_unreachable] Removing unreachable state 6\n",
      "[DEBUG DFA.trim_unreachable] Removing unreachable state 7\n",
      "[DEBUG DFA.trim_unreachable] Removing unreachable state 9\n",
      "[DEBUG DFA.trim_unreachable] Removing unreachable state 10\n",
      "[DEBUG DFA.trim_unreachable] Removing unreachable state 11\n",
      "[DEBUG DFA.trim_unreachable] Removing unreachable state 12\n",
      "[DEBUG DFA.trim_unreachable] Removing unreachable state 14\n",
      "[DEBUG DFA.trim_unreachable] Removing unreachable state 15\n",
      "[DEBUG DFA.trim_unreachable] Final states: {2, 4, 8, 13}\n",
      "[DEBUG DFA.intersection] Final intersection DFA: states={2, 4, 8, 13}, transitions={2: {'a': 2, 'b': 2}, 4: {'a': 8, 'b': 13}, 8: {'a': 8, 'b': 13}, 13: {'a': 2, 'b': 2}}\n",
      "[DEBUG DFA.is_equivalent] ¬Self ∩ Other DFA: states={2, 4, 8, 13}, final={1, 5, 9}\n",
      "[DEBUG DFA.union] Product states: [(2, 2), (2, 4), (2, 8), (2, 13), (4, 2), (4, 4), (4, 8), (4, 13), (8, 2), (8, 4), (8, 8), (8, 13), (13, 2), (13, 4), (13, 8), (13, 13)]\n",
      "[DEBUG DFA.union] Union start state: 5\n",
      "[DEBUG DFA.union] Union final states: set()\n",
      "[DEBUG DFA.union] Transition 0 --a--> 0 (from 2,2)\n",
      "[DEBUG DFA.union] Transition 0 --b--> 0 (from 2,2)\n",
      "[DEBUG DFA.union] Transition 1 --a--> 2 (from 2,4)\n",
      "[DEBUG DFA.union] Transition 1 --b--> 3 (from 2,4)\n",
      "[DEBUG DFA.union] Transition 2 --a--> 2 (from 2,8)\n",
      "[DEBUG DFA.union] Transition 2 --b--> 3 (from 2,8)\n",
      "[DEBUG DFA.union] Transition 3 --a--> 0 (from 2,13)\n",
      "[DEBUG DFA.union] Transition 3 --b--> 0 (from 2,13)\n",
      "[DEBUG DFA.union] Transition 4 --a--> 8 (from 4,2)\n",
      "[DEBUG DFA.union] Transition 4 --b--> 12 (from 4,2)\n",
      "[DEBUG DFA.union] Transition 5 --a--> 10 (from 4,4)\n",
      "[DEBUG DFA.union] Transition 5 --b--> 15 (from 4,4)\n",
      "[DEBUG DFA.union] Transition 6 --a--> 10 (from 4,8)\n",
      "[DEBUG DFA.union] Transition 6 --b--> 15 (from 4,8)\n",
      "[DEBUG DFA.union] Transition 7 --a--> 8 (from 4,13)\n",
      "[DEBUG DFA.union] Transition 7 --b--> 12 (from 4,13)\n",
      "[DEBUG DFA.union] Transition 8 --a--> 8 (from 8,2)\n",
      "[DEBUG DFA.union] Transition 8 --b--> 12 (from 8,2)\n",
      "[DEBUG DFA.union] Transition 9 --a--> 10 (from 8,4)\n",
      "[DEBUG DFA.union] Transition 9 --b--> 15 (from 8,4)\n",
      "[DEBUG DFA.union] Transition 10 --a--> 10 (from 8,8)\n",
      "[DEBUG DFA.union] Transition 10 --b--> 15 (from 8,8)\n",
      "[DEBUG DFA.union] Transition 11 --a--> 8 (from 8,13)\n",
      "[DEBUG DFA.union] Transition 11 --b--> 12 (from 8,13)\n",
      "[DEBUG DFA.union] Transition 12 --a--> 0 (from 13,2)\n",
      "[DEBUG DFA.union] Transition 12 --b--> 0 (from 13,2)\n",
      "[DEBUG DFA.union] Transition 13 --a--> 2 (from 13,4)\n",
      "[DEBUG DFA.union] Transition 13 --b--> 3 (from 13,4)\n",
      "[DEBUG DFA.union] Transition 14 --a--> 2 (from 13,8)\n",
      "[DEBUG DFA.union] Transition 14 --b--> 3 (from 13,8)\n",
      "[DEBUG DFA.union] Transition 15 --a--> 0 (from 13,13)\n",
      "[DEBUG DFA.union] Transition 15 --b--> 0 (from 13,13)\n"
     ]
    },
    {
     "data": {
      "text/markdown": [
       "### Trimming Unreachable States from DFA"
      ],
      "text/plain": [
       "<IPython.core.display.Markdown object>"
      ]
     },
     "metadata": {},
     "output_type": "display_data"
    },
    {
     "name": "stdout",
     "output_type": "stream",
     "text": [
      "[DEBUG DFA.trim_unreachable] Starting BFS from state 5\n",
      "[DEBUG DFA.trim_unreachable] Visited state 5\n",
      "[DEBUG DFA.trim_unreachable] Queued state 10\n",
      "[DEBUG DFA.trim_unreachable] Queued state 15\n",
      "[DEBUG DFA.trim_unreachable] Visited state 10\n",
      "[DEBUG DFA.trim_unreachable] Queued state 15\n",
      "[DEBUG DFA.trim_unreachable] Visited state 15\n",
      "[DEBUG DFA.trim_unreachable] Queued state 0\n",
      "[DEBUG DFA.trim_unreachable] Queued state 0\n",
      "[DEBUG DFA.trim_unreachable] Visited state 0\n",
      "[DEBUG DFA.trim_unreachable] Removing unreachable state 1\n",
      "[DEBUG DFA.trim_unreachable] Removing unreachable state 2\n",
      "[DEBUG DFA.trim_unreachable] Removing unreachable state 3\n",
      "[DEBUG DFA.trim_unreachable] Removing unreachable state 4\n",
      "[DEBUG DFA.trim_unreachable] Removing unreachable state 6\n",
      "[DEBUG DFA.trim_unreachable] Removing unreachable state 7\n",
      "[DEBUG DFA.trim_unreachable] Removing unreachable state 8\n",
      "[DEBUG DFA.trim_unreachable] Removing unreachable state 9\n",
      "[DEBUG DFA.trim_unreachable] Removing unreachable state 11\n",
      "[DEBUG DFA.trim_unreachable] Removing unreachable state 12\n",
      "[DEBUG DFA.trim_unreachable] Removing unreachable state 13\n",
      "[DEBUG DFA.trim_unreachable] Removing unreachable state 14\n",
      "[DEBUG DFA.trim_unreachable] Final states: {0, 5, 10, 15}\n",
      "[DEBUG DFA.union] Final union DFA: states={0, 5, 10, 15}, transitions={0: {'a': 0, 'b': 0}, 5: {'a': 10, 'b': 15}, 10: {'a': 10, 'b': 15}, 15: {'a': 0, 'b': 0}}\n",
      "[DEBUG DFA.is_equivalent] Symmetric difference: states={0, 5, 10, 15}, final=set()\n"
     ]
    },
    {
     "data": {
      "text/markdown": [
       "### Trimming Unreachable States from DFA"
      ],
      "text/plain": [
       "<IPython.core.display.Markdown object>"
      ]
     },
     "metadata": {},
     "output_type": "display_data"
    },
    {
     "name": "stdout",
     "output_type": "stream",
     "text": [
      "[DEBUG DFA.trim_unreachable] Starting BFS from state 5\n",
      "[DEBUG DFA.trim_unreachable] Visited state 5\n",
      "[DEBUG DFA.trim_unreachable] Queued state 10\n",
      "[DEBUG DFA.trim_unreachable] Queued state 15\n",
      "[DEBUG DFA.trim_unreachable] Visited state 10\n",
      "[DEBUG DFA.trim_unreachable] Queued state 15\n",
      "[DEBUG DFA.trim_unreachable] Visited state 15\n",
      "[DEBUG DFA.trim_unreachable] Queued state 0\n",
      "[DEBUG DFA.trim_unreachable] Queued state 0\n",
      "[DEBUG DFA.trim_unreachable] Visited state 0\n",
      "[DEBUG DFA.trim_unreachable] Final states: {0, 5, 10, 15}\n",
      "[DEBUG DFA.is_equivalent] After trimming: states={0, 5, 10, 15}\n",
      "[DEBUG DFA.is_empty] Queuing transition 5 --a--> 10\n",
      "[DEBUG DFA.is_empty] Queuing transition 5 --b--> 15\n",
      "[DEBUG DFA.is_empty] Queuing transition 10 --a--> 10\n",
      "[DEBUG DFA.is_empty] Queuing transition 10 --b--> 15\n",
      "[DEBUG DFA.is_empty] Queuing transition 15 --a--> 0\n",
      "[DEBUG DFA.is_empty] Queuing transition 15 --b--> 0\n",
      "[DEBUG DFA.is_empty] Queuing transition 0 --a--> 0\n",
      "[DEBUG DFA.is_empty] Queuing transition 0 --b--> 0\n",
      "[DEBUG DFA.is_empty] No final states reached, DFA is empty\n"
     ]
    },
    {
     "data": {
      "text/markdown": [
       "Learning complete after 1 iterations."
      ],
      "text/plain": [
       "<IPython.core.display.Markdown object>"
      ]
     },
     "metadata": {},
     "output_type": "display_data"
    },
    {
     "data": {
      "text/markdown": [
       "### Learned Hypothesis"
      ],
      "text/plain": [
       "<IPython.core.display.Markdown object>"
      ]
     },
     "metadata": {},
     "output_type": "display_data"
    },
    {
     "name": "stdout",
     "output_type": "stream",
     "text": [
      "Initial state: q0\n",
      "Final states: { q1 }\n",
      "State: q0 (aseq = '')\n",
      "[DEBUG Transition.is_tree] Transition a is_tree: False\n",
      "[DEBUG Transition.target_state] Getting target state for aseq='a': q0\n",
      "\t->a-> q0\n",
      "[DEBUG Transition.is_tree] Transition b is_tree: True\n",
      "[DEBUG Transition.target_state] Getting target state for aseq='b': q1\n",
      "\t=>b=> q1\n",
      "State: q1 (aseq = 'b')\n",
      "[DEBUG Transition.is_tree] Transition ba is_tree: True\n",
      "[DEBUG Transition.target_state] Getting target state for aseq='ba': q2\n",
      "\t=>a=> q2\n",
      "[DEBUG Transition.is_tree] Transition bb is_tree: False\n",
      "[DEBUG Transition.target_state] Getting target state for aseq='bb': q2\n",
      "\t->b-> q2\n",
      "State: q2 (aseq = 'ba')\n",
      "[DEBUG Transition.is_tree] Transition baa is_tree: False\n",
      "[DEBUG Transition.target_state] Getting target state for aseq='baa': q2\n",
      "\t->a-> q2\n",
      "[DEBUG Transition.is_tree] Transition bab is_tree: False\n",
      "[DEBUG Transition.target_state] Getting target state for aseq='bab': q2\n",
      "\t->b-> q2\n"
     ]
    },
    {
     "data": {
      "text/markdown": [
       "### Final Discrimination Tree Visualization"
      ],
      "text/plain": [
       "<IPython.core.display.Markdown object>"
      ]
     },
     "metadata": {},
     "output_type": "display_data"
    },
    {
     "data": {
      "application/vnd.plotly.v1+json": {
       "config": {
        "plotlyServerURL": "https://plot.ly"
       },
       "data": [
        {
         "hoverinfo": "none",
         "line": {
          "color": "black",
          "width": 2
         },
         "mode": "lines",
         "type": "scatter",
         "x": [
          0,
          -0.5,
          null,
          -0.5,
          -0.75,
          null,
          -0.5,
          -0.25,
          null,
          0,
          0.5,
          null
         ],
         "y": [
          0,
          -1,
          null,
          -1,
          -2,
          null,
          -1,
          -2,
          null,
          0,
          -1,
          null
         ]
        },
        {
         "hoverinfo": "text",
         "marker": {
          "color": [
           "lightgreen",
           "lightgreen",
           "lightblue",
           "lightblue",
           "lightblue"
          ],
          "line": {
           "color": "black",
           "width": 2
          },
          "size": 50
         },
         "mode": "markers+text",
         "text": [
          "",
          "b",
          "q2",
          "q0",
          "q1"
         ],
         "textposition": "middle center",
         "type": "scatter",
         "x": [
          0,
          -0.5,
          -0.75,
          -0.25,
          0.5
         ],
         "y": [
          0,
          -1,
          -2,
          -2,
          -1
         ]
        }
       ],
       "layout": {
        "hovermode": "closest",
        "plot_bgcolor": "white",
        "showlegend": false,
        "template": {
         "data": {
          "bar": [
           {
            "error_x": {
             "color": "#2a3f5f"
            },
            "error_y": {
             "color": "#2a3f5f"
            },
            "marker": {
             "line": {
              "color": "#E5ECF6",
              "width": 0.5
             },
             "pattern": {
              "fillmode": "overlay",
              "size": 10,
              "solidity": 0.2
             }
            },
            "type": "bar"
           }
          ],
          "barpolar": [
           {
            "marker": {
             "line": {
              "color": "#E5ECF6",
              "width": 0.5
             },
             "pattern": {
              "fillmode": "overlay",
              "size": 10,
              "solidity": 0.2
             }
            },
            "type": "barpolar"
           }
          ],
          "carpet": [
           {
            "aaxis": {
             "endlinecolor": "#2a3f5f",
             "gridcolor": "white",
             "linecolor": "white",
             "minorgridcolor": "white",
             "startlinecolor": "#2a3f5f"
            },
            "baxis": {
             "endlinecolor": "#2a3f5f",
             "gridcolor": "white",
             "linecolor": "white",
             "minorgridcolor": "white",
             "startlinecolor": "#2a3f5f"
            },
            "type": "carpet"
           }
          ],
          "choropleth": [
           {
            "colorbar": {
             "outlinewidth": 0,
             "ticks": ""
            },
            "type": "choropleth"
           }
          ],
          "contour": [
           {
            "colorbar": {
             "outlinewidth": 0,
             "ticks": ""
            },
            "colorscale": [
             [
              0,
              "#0d0887"
             ],
             [
              0.1111111111111111,
              "#46039f"
             ],
             [
              0.2222222222222222,
              "#7201a8"
             ],
             [
              0.3333333333333333,
              "#9c179e"
             ],
             [
              0.4444444444444444,
              "#bd3786"
             ],
             [
              0.5555555555555556,
              "#d8576b"
             ],
             [
              0.6666666666666666,
              "#ed7953"
             ],
             [
              0.7777777777777778,
              "#fb9f3a"
             ],
             [
              0.8888888888888888,
              "#fdca26"
             ],
             [
              1,
              "#f0f921"
             ]
            ],
            "type": "contour"
           }
          ],
          "contourcarpet": [
           {
            "colorbar": {
             "outlinewidth": 0,
             "ticks": ""
            },
            "type": "contourcarpet"
           }
          ],
          "heatmap": [
           {
            "colorbar": {
             "outlinewidth": 0,
             "ticks": ""
            },
            "colorscale": [
             [
              0,
              "#0d0887"
             ],
             [
              0.1111111111111111,
              "#46039f"
             ],
             [
              0.2222222222222222,
              "#7201a8"
             ],
             [
              0.3333333333333333,
              "#9c179e"
             ],
             [
              0.4444444444444444,
              "#bd3786"
             ],
             [
              0.5555555555555556,
              "#d8576b"
             ],
             [
              0.6666666666666666,
              "#ed7953"
             ],
             [
              0.7777777777777778,
              "#fb9f3a"
             ],
             [
              0.8888888888888888,
              "#fdca26"
             ],
             [
              1,
              "#f0f921"
             ]
            ],
            "type": "heatmap"
           }
          ],
          "histogram": [
           {
            "marker": {
             "pattern": {
              "fillmode": "overlay",
              "size": 10,
              "solidity": 0.2
             }
            },
            "type": "histogram"
           }
          ],
          "histogram2d": [
           {
            "colorbar": {
             "outlinewidth": 0,
             "ticks": ""
            },
            "colorscale": [
             [
              0,
              "#0d0887"
             ],
             [
              0.1111111111111111,
              "#46039f"
             ],
             [
              0.2222222222222222,
              "#7201a8"
             ],
             [
              0.3333333333333333,
              "#9c179e"
             ],
             [
              0.4444444444444444,
              "#bd3786"
             ],
             [
              0.5555555555555556,
              "#d8576b"
             ],
             [
              0.6666666666666666,
              "#ed7953"
             ],
             [
              0.7777777777777778,
              "#fb9f3a"
             ],
             [
              0.8888888888888888,
              "#fdca26"
             ],
             [
              1,
              "#f0f921"
             ]
            ],
            "type": "histogram2d"
           }
          ],
          "histogram2dcontour": [
           {
            "colorbar": {
             "outlinewidth": 0,
             "ticks": ""
            },
            "colorscale": [
             [
              0,
              "#0d0887"
             ],
             [
              0.1111111111111111,
              "#46039f"
             ],
             [
              0.2222222222222222,
              "#7201a8"
             ],
             [
              0.3333333333333333,
              "#9c179e"
             ],
             [
              0.4444444444444444,
              "#bd3786"
             ],
             [
              0.5555555555555556,
              "#d8576b"
             ],
             [
              0.6666666666666666,
              "#ed7953"
             ],
             [
              0.7777777777777778,
              "#fb9f3a"
             ],
             [
              0.8888888888888888,
              "#fdca26"
             ],
             [
              1,
              "#f0f921"
             ]
            ],
            "type": "histogram2dcontour"
           }
          ],
          "mesh3d": [
           {
            "colorbar": {
             "outlinewidth": 0,
             "ticks": ""
            },
            "type": "mesh3d"
           }
          ],
          "parcoords": [
           {
            "line": {
             "colorbar": {
              "outlinewidth": 0,
              "ticks": ""
             }
            },
            "type": "parcoords"
           }
          ],
          "pie": [
           {
            "automargin": true,
            "type": "pie"
           }
          ],
          "scatter": [
           {
            "fillpattern": {
             "fillmode": "overlay",
             "size": 10,
             "solidity": 0.2
            },
            "type": "scatter"
           }
          ],
          "scatter3d": [
           {
            "line": {
             "colorbar": {
              "outlinewidth": 0,
              "ticks": ""
             }
            },
            "marker": {
             "colorbar": {
              "outlinewidth": 0,
              "ticks": ""
             }
            },
            "type": "scatter3d"
           }
          ],
          "scattercarpet": [
           {
            "marker": {
             "colorbar": {
              "outlinewidth": 0,
              "ticks": ""
             }
            },
            "type": "scattercarpet"
           }
          ],
          "scattergeo": [
           {
            "marker": {
             "colorbar": {
              "outlinewidth": 0,
              "ticks": ""
             }
            },
            "type": "scattergeo"
           }
          ],
          "scattergl": [
           {
            "marker": {
             "colorbar": {
              "outlinewidth": 0,
              "ticks": ""
             }
            },
            "type": "scattergl"
           }
          ],
          "scattermap": [
           {
            "marker": {
             "colorbar": {
              "outlinewidth": 0,
              "ticks": ""
             }
            },
            "type": "scattermap"
           }
          ],
          "scattermapbox": [
           {
            "marker": {
             "colorbar": {
              "outlinewidth": 0,
              "ticks": ""
             }
            },
            "type": "scattermapbox"
           }
          ],
          "scatterpolar": [
           {
            "marker": {
             "colorbar": {
              "outlinewidth": 0,
              "ticks": ""
             }
            },
            "type": "scatterpolar"
           }
          ],
          "scatterpolargl": [
           {
            "marker": {
             "colorbar": {
              "outlinewidth": 0,
              "ticks": ""
             }
            },
            "type": "scatterpolargl"
           }
          ],
          "scatterternary": [
           {
            "marker": {
             "colorbar": {
              "outlinewidth": 0,
              "ticks": ""
             }
            },
            "type": "scatterternary"
           }
          ],
          "surface": [
           {
            "colorbar": {
             "outlinewidth": 0,
             "ticks": ""
            },
            "colorscale": [
             [
              0,
              "#0d0887"
             ],
             [
              0.1111111111111111,
              "#46039f"
             ],
             [
              0.2222222222222222,
              "#7201a8"
             ],
             [
              0.3333333333333333,
              "#9c179e"
             ],
             [
              0.4444444444444444,
              "#bd3786"
             ],
             [
              0.5555555555555556,
              "#d8576b"
             ],
             [
              0.6666666666666666,
              "#ed7953"
             ],
             [
              0.7777777777777778,
              "#fb9f3a"
             ],
             [
              0.8888888888888888,
              "#fdca26"
             ],
             [
              1,
              "#f0f921"
             ]
            ],
            "type": "surface"
           }
          ],
          "table": [
           {
            "cells": {
             "fill": {
              "color": "#EBF0F8"
             },
             "line": {
              "color": "white"
             }
            },
            "header": {
             "fill": {
              "color": "#C8D4E3"
             },
             "line": {
              "color": "white"
             }
            },
            "type": "table"
           }
          ]
         },
         "layout": {
          "annotationdefaults": {
           "arrowcolor": "#2a3f5f",
           "arrowhead": 0,
           "arrowwidth": 1
          },
          "autotypenumbers": "strict",
          "coloraxis": {
           "colorbar": {
            "outlinewidth": 0,
            "ticks": ""
           }
          },
          "colorscale": {
           "diverging": [
            [
             0,
             "#8e0152"
            ],
            [
             0.1,
             "#c51b7d"
            ],
            [
             0.2,
             "#de77ae"
            ],
            [
             0.3,
             "#f1b6da"
            ],
            [
             0.4,
             "#fde0ef"
            ],
            [
             0.5,
             "#f7f7f7"
            ],
            [
             0.6,
             "#e6f5d0"
            ],
            [
             0.7,
             "#b8e186"
            ],
            [
             0.8,
             "#7fbc41"
            ],
            [
             0.9,
             "#4d9221"
            ],
            [
             1,
             "#276419"
            ]
           ],
           "sequential": [
            [
             0,
             "#0d0887"
            ],
            [
             0.1111111111111111,
             "#46039f"
            ],
            [
             0.2222222222222222,
             "#7201a8"
            ],
            [
             0.3333333333333333,
             "#9c179e"
            ],
            [
             0.4444444444444444,
             "#bd3786"
            ],
            [
             0.5555555555555556,
             "#d8576b"
            ],
            [
             0.6666666666666666,
             "#ed7953"
            ],
            [
             0.7777777777777778,
             "#fb9f3a"
            ],
            [
             0.8888888888888888,
             "#fdca26"
            ],
            [
             1,
             "#f0f921"
            ]
           ],
           "sequentialminus": [
            [
             0,
             "#0d0887"
            ],
            [
             0.1111111111111111,
             "#46039f"
            ],
            [
             0.2222222222222222,
             "#7201a8"
            ],
            [
             0.3333333333333333,
             "#9c179e"
            ],
            [
             0.4444444444444444,
             "#bd3786"
            ],
            [
             0.5555555555555556,
             "#d8576b"
            ],
            [
             0.6666666666666666,
             "#ed7953"
            ],
            [
             0.7777777777777778,
             "#fb9f3a"
            ],
            [
             0.8888888888888888,
             "#fdca26"
            ],
            [
             1,
             "#f0f921"
            ]
           ]
          },
          "colorway": [
           "#636efa",
           "#EF553B",
           "#00cc96",
           "#ab63fa",
           "#FFA15A",
           "#19d3f3",
           "#FF6692",
           "#B6E880",
           "#FF97FF",
           "#FECB52"
          ],
          "font": {
           "color": "#2a3f5f"
          },
          "geo": {
           "bgcolor": "white",
           "lakecolor": "white",
           "landcolor": "#E5ECF6",
           "showlakes": true,
           "showland": true,
           "subunitcolor": "white"
          },
          "hoverlabel": {
           "align": "left"
          },
          "hovermode": "closest",
          "mapbox": {
           "style": "light"
          },
          "paper_bgcolor": "white",
          "plot_bgcolor": "#E5ECF6",
          "polar": {
           "angularaxis": {
            "gridcolor": "white",
            "linecolor": "white",
            "ticks": ""
           },
           "bgcolor": "#E5ECF6",
           "radialaxis": {
            "gridcolor": "white",
            "linecolor": "white",
            "ticks": ""
           }
          },
          "scene": {
           "xaxis": {
            "backgroundcolor": "#E5ECF6",
            "gridcolor": "white",
            "gridwidth": 2,
            "linecolor": "white",
            "showbackground": true,
            "ticks": "",
            "zerolinecolor": "white"
           },
           "yaxis": {
            "backgroundcolor": "#E5ECF6",
            "gridcolor": "white",
            "gridwidth": 2,
            "linecolor": "white",
            "showbackground": true,
            "ticks": "",
            "zerolinecolor": "white"
           },
           "zaxis": {
            "backgroundcolor": "#E5ECF6",
            "gridcolor": "white",
            "gridwidth": 2,
            "linecolor": "white",
            "showbackground": true,
            "ticks": "",
            "zerolinecolor": "white"
           }
          },
          "shapedefaults": {
           "line": {
            "color": "#2a3f5f"
           }
          },
          "ternary": {
           "aaxis": {
            "gridcolor": "white",
            "linecolor": "white",
            "ticks": ""
           },
           "baxis": {
            "gridcolor": "white",
            "linecolor": "white",
            "ticks": ""
           },
           "bgcolor": "#E5ECF6",
           "caxis": {
            "gridcolor": "white",
            "linecolor": "white",
            "ticks": ""
           }
          },
          "title": {
           "x": 0.05
          },
          "xaxis": {
           "automargin": true,
           "gridcolor": "white",
           "linecolor": "white",
           "ticks": "",
           "title": {
            "standoff": 15
           },
           "zerolinecolor": "white",
           "zerolinewidth": 2
          },
          "yaxis": {
           "automargin": true,
           "gridcolor": "white",
           "linecolor": "white",
           "ticks": "",
           "title": {
            "standoff": 15
           },
           "zerolinecolor": "white",
           "zerolinewidth": 2
          }
         }
        },
        "title": {
         "text": "Discrimination Tree"
        },
        "xaxis": {
         "visible": false
        },
        "yaxis": {
         "visible": false
        }
       }
      }
     },
     "metadata": {},
     "output_type": "display_data"
    },
    {
     "name": "stdout",
     "output_type": "stream",
     "text": [
      "[DEBUG Transition.target_state] Getting target state for aseq='ba': q2\n",
      "[DEBUG Transition.target_state] Getting target state for aseq='bb': q2\n",
      "[DEBUG Transition.target_state] Getting target state for aseq='a': q0\n",
      "[DEBUG Transition.target_state] Getting target state for aseq='b': q1\n",
      "[DEBUG Transition.target_state] Getting target state for aseq='baa': q2\n",
      "[DEBUG Transition.target_state] Getting target state for aseq='bab': q2\n",
      "[DEBUG] DFA visualized and saved as 'learned_dfa.png'\n"
     ]
    },
    {
     "data": {
      "image/png": "[encoded data removed]",
      "text/plain": [
       "<IPython.core.display.Image object>"
      ]
     },
     "metadata": {},
     "output_type": "display_data"
    },
    {
     "name": "stdout",
     "output_type": "stream",
     "text": [
      "\n",
      "Learned DFA visualized as 'learned_dfa.png'\n",
      "[DEBUG And.__init__] Initializing And with r1=Star, r2=Char\n"
     ]
    },
    {
     "data": {
      "text/markdown": [
       "# Adding State\n",
       "## State: 1\n",
       "## Transitions: {}"
      ],
      "text/plain": [
       "<IPython.core.display.Markdown object>"
      ]
     },
     "metadata": {},
     "output_type": "display_data"
    },
    {
     "data": {
      "text/markdown": [
       "# Adding State\n",
       "## State: 1\n",
       "## Transitions: {}"
      ],
      "text/plain": [
       "<IPython.core.display.Markdown object>"
      ]
     },
     "metadata": {},
     "output_type": "display_data"
    },
    {
     "data": {
      "text/markdown": [
       "# Adding State\n",
       "## State: 1\n",
       "## Transitions: {}"
      ],
      "text/plain": [
       "<IPython.core.display.Markdown object>"
      ]
     },
     "metadata": {},
     "output_type": "display_data"
    },
    {
     "name": "stdout",
     "output_type": "stream",
     "text": [
      "[DEBUG Star.to_nfa] NFA created: states={0, 1, 2, 3, 4, 5}, final={0}, next_state=6\n"
     ]
    },
    {
     "data": {
      "text/markdown": [
       "# Adding State\n",
       "## State: 1\n",
       "## Transitions: {}"
      ],
      "text/plain": [
       "<IPython.core.display.Markdown object>"
      ]
     },
     "metadata": {},
     "output_type": "display_data"
    },
    {
     "name": "stdout",
     "output_type": "stream",
     "text": [
      "[DEBUG And.to_nfa] NFA created: states={0, 1, 2, 3, 4, 5, 6, 7}, final={7}, next_state=8\n"
     ]
    },
    {
     "data": {
      "text/markdown": [
       "### Removing Epsilon Transitions"
      ],
      "text/plain": [
       "<IPython.core.display.Markdown object>"
      ]
     },
     "metadata": {},
     "output_type": "display_data"
    },
    {
     "data": {
      "text/markdown": [
       "[DEBUG NFA.remove_epsilon] Initialized new NFA: states={0, 1, 2, 3, 4, 5, 6, 7}, final={7}"
      ],
      "text/plain": [
       "<IPython.core.display.Markdown object>"
      ]
     },
     "metadata": {},
     "output_type": "display_data"
    },
    {
     "name": "stdout",
     "output_type": "stream",
     "text": [
      "[DEBUG NFA.remove_epsilon] Visiting state 0, seen={0}\n",
      "[DEBUG NFA.remove_epsilon] Visiting state 2, seen={0, 2}\n",
      "[DEBUG NFA.remove_epsilon] Visiting state 6, seen={0, 2, 6}\n",
      "[DEBUG NFA.remove_epsilon] Visiting state 1, seen={1}\n",
      "[DEBUG NFA.remove_epsilon] Visiting state 2, seen={2}\n",
      "[DEBUG NFA.remove_epsilon] Visiting state 3, seen={3}\n",
      "[DEBUG NFA.remove_epsilon] Visiting state 0, seen={0, 3}\n",
      "[DEBUG NFA.remove_epsilon] Visiting state 2, seen={0, 2, 3}\n",
      "[DEBUG NFA.remove_epsilon] Visiting state 6, seen={0, 2, 3, 6}\n",
      "[DEBUG NFA.remove_epsilon] Visiting state 4, seen={4}\n",
      "[DEBUG NFA.remove_epsilon] Visiting state 5, seen={5}\n",
      "[DEBUG NFA.remove_epsilon] Visiting state 0, seen={0, 5}\n",
      "[DEBUG NFA.remove_epsilon] Visiting state 2, seen={0, 2, 5}\n",
      "[DEBUG NFA.remove_epsilon] Visiting state 6, seen={0, 2, 5, 6}\n",
      "[DEBUG NFA.remove_epsilon] Visiting state 6, seen={6}\n",
      "[DEBUG NFA.remove_epsilon] Visiting state 7, seen={7}\n",
      "[DEBUG NFA.remove_epsilon] Marking state 7 as final\n",
      "[DEBUG NFA.remove_epsilon] Before trimming: states={0, 1, 2, 3, 4, 5, 6, 7}, transitions={0: {'a': {3}, 'b': {7}}, 1: {}, 2: {'a': {3}}, 3: {'a': {3}, 'b': {7}}, 4: {'b': {5}}, 5: {'a': {3}, 'b': {7}}, 6: {'b': {7}}, 7: {}}\n",
      "[DEBUG NFA.trim_unreachable] Starting BFS from state 0\n",
      "[DEBUG NFA.trim_unreachable] Visited state 0\n",
      "[DEBUG NFA.trim_unreachable] Visited state 3\n",
      "[DEBUG NFA.trim_unreachable] Visited state 7\n",
      "[DEBUG NFA.trim_unreachable] Removing unreachable state 1\n",
      "[DEBUG NFA.trim_unreachable] Removing unreachable state 2\n",
      "[DEBUG NFA.trim_unreachable] Removing unreachable state 4\n",
      "[DEBUG NFA.trim_unreachable] Removing unreachable state 5\n",
      "[DEBUG NFA.trim_unreachable] Removing unreachable state 6\n",
      "[DEBUG NFA.remove_epsilon] After trimming: states={0, 3, 7}, transitions={0: {'a': {3}, 'b': {7}}, 3: {'a': {3}, 'b': {7}}, 7: {}}\n",
      "[DEBUG NFA.determinise] Epsilon-free NFA: states={0, 3, 7}, final={7}\n",
      "[DEBUG NFA.determinise] Subsets for DFA states: [(), (0,), (3,), (7,), (0, 3), (0, 7), (3, 7), (0, 3, 7)]\n",
      "[DEBUG NFA.determinise] DFA start state: 1\n"
     ]
    },
    {
     "data": {
      "text/markdown": [
       "[DEBUG NFA.determinise] DFA final states: {3, 5, 6, 7}"
      ],
      "text/plain": [
       "<IPython.core.display.Markdown object>"
      ]
     },
     "metadata": {},
     "output_type": "display_data"
    },
    {
     "data": {
      "text/markdown": [
       "### Trimming Unreachable States from DFA"
      ],
      "text/plain": [
       "<IPython.core.display.Markdown object>"
      ]
     },
     "metadata": {},
     "output_type": "display_data"
    },
    {
     "name": "stdout",
     "output_type": "stream",
     "text": [
      "[DEBUG DFA.trim_unreachable] Starting BFS from state 1\n",
      "[DEBUG DFA.trim_unreachable] Visited state 1\n",
      "[DEBUG DFA.trim_unreachable] Queued state 2\n",
      "[DEBUG DFA.trim_unreachable] Queued state 3\n",
      "[DEBUG DFA.trim_unreachable] Visited state 2\n",
      "[DEBUG DFA.trim_unreachable] Queued state 3\n",
      "[DEBUG DFA.trim_unreachable] Visited state 3\n",
      "[DEBUG DFA.trim_unreachable] Queued state 0\n",
      "[DEBUG DFA.trim_unreachable] Queued state 0\n",
      "[DEBUG DFA.trim_unreachable] Visited state 0\n",
      "[DEBUG DFA.trim_unreachable] Removing unreachable state 4\n",
      "[DEBUG DFA.trim_unreachable] Removing unreachable state 5\n",
      "[DEBUG DFA.trim_unreachable] Removing unreachable state 6\n",
      "[DEBUG DFA.trim_unreachable] Removing unreachable state 7\n",
      "[DEBUG DFA.trim_unreachable] Final states: {0, 1, 2, 3}\n",
      "[DEBUG NFA.determinise] Final DFA: states={0, 1, 2, 3}, transitions={0: {'a': 0, 'b': 0}, 1: {'a': 2, 'b': 3}, 2: {'a': 2, 'b': 3}, 3: {'a': 0, 'b': 0}}\n",
      "Target DFA visualized as 'target_dfa.png'\n"
     ]
    },
    {
     "data": {
      "text/markdown": [
       "Converting Hypothesis to DFA with alphabet: ab"
      ],
      "text/plain": [
       "<IPython.core.display.Markdown object>"
      ]
     },
     "metadata": {},
     "output_type": "display_data"
    },
    {
     "name": "stdout",
     "output_type": "stream",
     "text": [
      "[DEBUG Transition.target_state] Getting target state for aseq='ba': q2\n",
      "[DEBUG Transition.target_state] Getting target state for aseq='ba': q2\n",
      "[DEBUG Transition.target_state] Getting target state for aseq='ba': q2\n"
     ]
    },
    {
     "data": {
      "text/markdown": [
       "Transition: q1 --a--> q2"
      ],
      "text/plain": [
       "<IPython.core.display.Markdown object>"
      ]
     },
     "metadata": {},
     "output_type": "display_data"
    },
    {
     "name": "stdout",
     "output_type": "stream",
     "text": [
      "[DEBUG Transition.target_state] Getting target state for aseq='bb': q2\n",
      "[DEBUG Transition.target_state] Getting target state for aseq='bb': q2\n",
      "[DEBUG Transition.target_state] Getting target state for aseq='bb': q2\n"
     ]
    },
    {
     "data": {
      "text/markdown": [
       "Transition: q1 --b--> q2"
      ],
      "text/plain": [
       "<IPython.core.display.Markdown object>"
      ]
     },
     "metadata": {},
     "output_type": "display_data"
    },
    {
     "name": "stdout",
     "output_type": "stream",
     "text": [
      "[DEBUG Transition.target_state] Getting target state for aseq='a': q0\n",
      "[DEBUG Transition.target_state] Getting target state for aseq='a': q0\n",
      "[DEBUG Transition.target_state] Getting target state for aseq='a': q0\n"
     ]
    },
    {
     "data": {
      "text/markdown": [
       "Transition: q0 --a--> q0"
      ],
      "text/plain": [
       "<IPython.core.display.Markdown object>"
      ]
     },
     "metadata": {},
     "output_type": "display_data"
    },
    {
     "name": "stdout",
     "output_type": "stream",
     "text": [
      "[DEBUG Transition.target_state] Getting target state for aseq='b': q1\n",
      "[DEBUG Transition.target_state] Getting target state for aseq='b': q1\n",
      "[DEBUG Transition.target_state] Getting target state for aseq='b': q1\n"
     ]
    },
    {
     "data": {
      "text/markdown": [
       "Transition: q0 --b--> q1"
      ],
      "text/plain": [
       "<IPython.core.display.Markdown object>"
      ]
     },
     "metadata": {},
     "output_type": "display_data"
    },
    {
     "name": "stdout",
     "output_type": "stream",
     "text": [
      "[DEBUG Transition.target_state] Getting target state for aseq='baa': q2\n",
      "[DEBUG Transition.target_state] Getting target state for aseq='baa': q2\n",
      "[DEBUG Transition.target_state] Getting target state for aseq='baa': q2\n"
     ]
    },
    {
     "data": {
      "text/markdown": [
       "Transition: q2 --a--> q2"
      ],
      "text/plain": [
       "<IPython.core.display.Markdown object>"
      ]
     },
     "metadata": {},
     "output_type": "display_data"
    },
    {
     "name": "stdout",
     "output_type": "stream",
     "text": [
      "[DEBUG Transition.target_state] Getting target state for aseq='bab': q2\n",
      "[DEBUG Transition.target_state] Getting target state for aseq='bab': q2\n",
      "[DEBUG Transition.target_state] Getting target state for aseq='bab': q2\n"
     ]
    },
    {
     "data": {
      "text/markdown": [
       "Transition: q2 --b--> q2"
      ],
      "text/plain": [
       "<IPython.core.display.Markdown object>"
      ]
     },
     "metadata": {},
     "output_type": "display_data"
    },
    {
     "name": "stdout",
     "output_type": "stream",
     "text": [
      "[DEBUG DFA.close_with_sink] Adding sink state 4 for alphabet ['a', 'b']\n"
     ]
    },
    {
     "data": {
      "text/markdown": [
       "# Adding State\n",
       "## State: 4\n",
       "## Transitions: {'a': 4, 'b': 4}"
      ],
      "text/plain": [
       "<IPython.core.display.Markdown object>"
      ]
     },
     "metadata": {},
     "output_type": "display_data"
    },
    {
     "name": "stdout",
     "output_type": "stream",
     "text": [
      "[DEBUG DFA.close_with_sink] Transitions after adding sink: {1: {'a': 2, 'b': 2}, 0: {'a': 0, 'b': 1}, 2: {'a': 2, 'b': 2}, 4: {'a': 4, 'b': 4}}\n",
      "[DEBUG Hypothesis.to_dfa] DFA after sink: transitions={1: {'a': 2, 'b': 2}, 0: {'a': 0, 'b': 1}, 2: {'a': 2, 'b': 2}, 4: {'a': 4, 'b': 4}}\n",
      "[DEBUG DFA.is_equivalent] Checking equivalence with another DFA\n",
      "[DEBUG DFA.complement] Creating complement DFA\n",
      "[DEBUG DFA.complement] Complement final states: {0, 2, 4}\n",
      "[DEBUG DFA.intersection] Product states: [(0, 0), (0, 1), (0, 2), (0, 4), (1, 0), (1, 1), (1, 2), (1, 4), (2, 0), (2, 1), (2, 2), (2, 4), (3, 0), (3, 1), (3, 2), (3, 4)]\n",
      "[DEBUG DFA.intersection] Intersection start state: 4\n",
      "[DEBUG DFA.intersection] Intersection final states: {12, 14, 15}\n",
      "[DEBUG DFA.intersection] Transition 0 --a--> 0 (from 0,0)\n",
      "[DEBUG DFA.intersection] Transition 0 --b--> 1 (from 0,0)\n",
      "[DEBUG DFA.intersection] Transition 1 --a--> 2 (from 0,1)\n",
      "[DEBUG DFA.intersection] Transition 1 --b--> 2 (from 0,1)\n",
      "[DEBUG DFA.intersection] Transition 2 --a--> 2 (from 0,2)\n",
      "[DEBUG DFA.intersection] Transition 2 --b--> 2 (from 0,2)\n",
      "[DEBUG DFA.intersection] Transition 3 --a--> 3 (from 0,4)\n",
      "[DEBUG DFA.intersection] Transition 3 --b--> 3 (from 0,4)\n",
      "[DEBUG DFA.intersection] Transition 4 --a--> 8 (from 1,0)\n",
      "[DEBUG DFA.intersection] Transition 4 --b--> 13 (from 1,0)\n",
      "[DEBUG DFA.intersection] Transition 5 --a--> 10 (from 1,1)\n",
      "[DEBUG DFA.intersection] Transition 5 --b--> 14 (from 1,1)\n",
      "[DEBUG DFA.intersection] Transition 6 --a--> 10 (from 1,2)\n",
      "[DEBUG DFA.intersection] Transition 6 --b--> 14 (from 1,2)\n",
      "[DEBUG DFA.intersection] Transition 7 --a--> 11 (from 1,4)\n",
      "[DEBUG DFA.intersection] Transition 7 --b--> 15 (from 1,4)\n",
      "[DEBUG DFA.intersection] Transition 8 --a--> 8 (from 2,0)\n",
      "[DEBUG DFA.intersection] Transition 8 --b--> 13 (from 2,0)\n",
      "[DEBUG DFA.intersection] Transition 9 --a--> 10 (from 2,1)\n",
      "[DEBUG DFA.intersection] Transition 9 --b--> 14 (from 2,1)\n",
      "[DEBUG DFA.intersection] Transition 10 --a--> 10 (from 2,2)\n",
      "[DEBUG DFA.intersection] Transition 10 --b--> 14 (from 2,2)\n",
      "[DEBUG DFA.intersection] Transition 11 --a--> 11 (from 2,4)\n",
      "[DEBUG DFA.intersection] Transition 11 --b--> 15 (from 2,4)\n",
      "[DEBUG DFA.intersection] Transition 12 --a--> 0 (from 3,0)\n",
      "[DEBUG DFA.intersection] Transition 12 --b--> 1 (from 3,0)\n",
      "[DEBUG DFA.intersection] Transition 13 --a--> 2 (from 3,1)\n",
      "[DEBUG DFA.intersection] Transition 13 --b--> 2 (from 3,1)\n",
      "[DEBUG DFA.intersection] Transition 14 --a--> 2 (from 3,2)\n",
      "[DEBUG DFA.intersection] Transition 14 --b--> 2 (from 3,2)\n",
      "[DEBUG DFA.intersection] Transition 15 --a--> 3 (from 3,4)\n",
      "[DEBUG DFA.intersection] Transition 15 --b--> 3 (from 3,4)\n"
     ]
    },
    {
     "data": {
      "text/markdown": [
       "### Trimming Unreachable States from DFA"
      ],
      "text/plain": [
       "<IPython.core.display.Markdown object>"
      ]
     },
     "metadata": {},
     "output_type": "display_data"
    },
    {
     "name": "stdout",
     "output_type": "stream",
     "text": [
      "[DEBUG DFA.trim_unreachable] Starting BFS from state 4\n",
      "[DEBUG DFA.trim_unreachable] Visited state 4\n",
      "[DEBUG DFA.trim_unreachable] Queued state 8\n",
      "[DEBUG DFA.trim_unreachable] Queued state 13\n",
      "[DEBUG DFA.trim_unreachable] Visited state 8\n",
      "[DEBUG DFA.trim_unreachable] Queued state 13\n",
      "[DEBUG DFA.trim_unreachable] Visited state 13\n",
      "[DEBUG DFA.trim_unreachable] Queued state 2\n",
      "[DEBUG DFA.trim_unreachable] Queued state 2\n",
      "[DEBUG DFA.trim_unreachable] Visited state 2\n",
      "[DEBUG DFA.trim_unreachable] Removing unreachable state 0\n",
      "[DEBUG DFA.trim_unreachable] Removing unreachable state 1\n",
      "[DEBUG DFA.trim_unreachable] Removing unreachable state 3\n",
      "[DEBUG DFA.trim_unreachable] Removing unreachable state 5\n",
      "[DEBUG DFA.trim_unreachable] Removing unreachable state 6\n",
      "[DEBUG DFA.trim_unreachable] Removing unreachable state 7\n",
      "[DEBUG DFA.trim_unreachable] Removing unreachable state 9\n",
      "[DEBUG DFA.trim_unreachable] Removing unreachable state 10\n",
      "[DEBUG DFA.trim_unreachable] Removing unreachable state 11\n",
      "[DEBUG DFA.trim_unreachable] Removing unreachable state 12\n",
      "[DEBUG DFA.trim_unreachable] Removing unreachable state 14\n",
      "[DEBUG DFA.trim_unreachable] Removing unreachable state 15\n",
      "[DEBUG DFA.trim_unreachable] Final states: {2, 4, 8, 13}\n",
      "[DEBUG DFA.intersection] Final intersection DFA: states={2, 4, 8, 13}, transitions={2: {'a': 2, 'b': 2}, 4: {'a': 8, 'b': 13}, 8: {'a': 8, 'b': 13}, 13: {'a': 2, 'b': 2}}\n",
      "[DEBUG DFA.is_equivalent] Self ∩ ¬Other DFA: states={2, 4, 8, 13}, final={12, 14, 15}\n",
      "[DEBUG DFA.complement] Creating complement DFA\n",
      "[DEBUG DFA.complement] Complement final states: {0, 1, 2}\n",
      "[DEBUG DFA.intersection] Product states: [(0, 0), (0, 1), (0, 2), (0, 4), (1, 0), (1, 1), (1, 2), (1, 4), (2, 0), (2, 1), (2, 2), (2, 4), (3, 0), (3, 1), (3, 2), (3, 4)]\n",
      "[DEBUG DFA.intersection] Intersection start state: 4\n",
      "[DEBUG DFA.intersection] Intersection final states: {1, 5, 9}\n",
      "[DEBUG DFA.intersection] Transition 0 --a--> 0 (from 0,0)\n",
      "[DEBUG DFA.intersection] Transition 0 --b--> 1 (from 0,0)\n",
      "[DEBUG DFA.intersection] Transition 1 --a--> 2 (from 0,1)\n",
      "[DEBUG DFA.intersection] Transition 1 --b--> 2 (from 0,1)\n",
      "[DEBUG DFA.intersection] Transition 2 --a--> 2 (from 0,2)\n",
      "[DEBUG DFA.intersection] Transition 2 --b--> 2 (from 0,2)\n",
      "[DEBUG DFA.intersection] Transition 3 --a--> 3 (from 0,4)\n",
      "[DEBUG DFA.intersection] Transition 3 --b--> 3 (from 0,4)\n",
      "[DEBUG DFA.intersection] Transition 4 --a--> 8 (from 1,0)\n",
      "[DEBUG DFA.intersection] Transition 4 --b--> 13 (from 1,0)\n",
      "[DEBUG DFA.intersection] Transition 5 --a--> 10 (from 1,1)\n",
      "[DEBUG DFA.intersection] Transition 5 --b--> 14 (from 1,1)\n",
      "[DEBUG DFA.intersection] Transition 6 --a--> 10 (from 1,2)\n",
      "[DEBUG DFA.intersection] Transition 6 --b--> 14 (from 1,2)\n",
      "[DEBUG DFA.intersection] Transition 7 --a--> 11 (from 1,4)\n",
      "[DEBUG DFA.intersection] Transition 7 --b--> 15 (from 1,4)\n",
      "[DEBUG DFA.intersection] Transition 8 --a--> 8 (from 2,0)\n",
      "[DEBUG DFA.intersection] Transition 8 --b--> 13 (from 2,0)\n",
      "[DEBUG DFA.intersection] Transition 9 --a--> 10 (from 2,1)\n",
      "[DEBUG DFA.intersection] Transition 9 --b--> 14 (from 2,1)\n",
      "[DEBUG DFA.intersection] Transition 10 --a--> 10 (from 2,2)\n",
      "[DEBUG DFA.intersection] Transition 10 --b--> 14 (from 2,2)\n",
      "[DEBUG DFA.intersection] Transition 11 --a--> 11 (from 2,4)\n",
      "[DEBUG DFA.intersection] Transition 11 --b--> 15 (from 2,4)\n",
      "[DEBUG DFA.intersection] Transition 12 --a--> 0 (from 3,0)\n",
      "[DEBUG DFA.intersection] Transition 12 --b--> 1 (from 3,0)\n",
      "[DEBUG DFA.intersection] Transition 13 --a--> 2 (from 3,1)\n",
      "[DEBUG DFA.intersection] Transition 13 --b--> 2 (from 3,1)\n",
      "[DEBUG DFA.intersection] Transition 14 --a--> 2 (from 3,2)\n",
      "[DEBUG DFA.intersection] Transition 14 --b--> 2 (from 3,2)\n",
      "[DEBUG DFA.intersection] Transition 15 --a--> 3 (from 3,4)\n",
      "[DEBUG DFA.intersection] Transition 15 --b--> 3 (from 3,4)\n"
     ]
    },
    {
     "data": {
      "text/markdown": [
       "### Trimming Unreachable States from DFA"
      ],
      "text/plain": [
       "<IPython.core.display.Markdown object>"
      ]
     },
     "metadata": {},
     "output_type": "display_data"
    },
    {
     "name": "stdout",
     "output_type": "stream",
     "text": [
      "[DEBUG DFA.trim_unreachable] Starting BFS from state 4\n",
      "[DEBUG DFA.trim_unreachable] Visited state 4\n",
      "[DEBUG DFA.trim_unreachable] Queued state 8\n",
      "[DEBUG DFA.trim_unreachable] Queued state 13\n",
      "[DEBUG DFA.trim_unreachable] Visited state 8\n",
      "[DEBUG DFA.trim_unreachable] Queued state 13\n",
      "[DEBUG DFA.trim_unreachable] Visited state 13\n",
      "[DEBUG DFA.trim_unreachable] Queued state 2\n",
      "[DEBUG DFA.trim_unreachable] Queued state 2\n",
      "[DEBUG DFA.trim_unreachable] Visited state 2\n",
      "[DEBUG DFA.trim_unreachable] Removing unreachable state 0\n",
      "[DEBUG DFA.trim_unreachable] Removing unreachable state 1\n",
      "[DEBUG DFA.trim_unreachable] Removing unreachable state 3\n",
      "[DEBUG DFA.trim_unreachable] Removing unreachable state 5\n",
      "[DEBUG DFA.trim_unreachable] Removing unreachable state 6\n",
      "[DEBUG DFA.trim_unreachable] Removing unreachable state 7\n",
      "[DEBUG DFA.trim_unreachable] Removing unreachable state 9\n",
      "[DEBUG DFA.trim_unreachable] Removing unreachable state 10\n",
      "[DEBUG DFA.trim_unreachable] Removing unreachable state 11\n",
      "[DEBUG DFA.trim_unreachable] Removing unreachable state 12\n",
      "[DEBUG DFA.trim_unreachable] Removing unreachable state 14\n",
      "[DEBUG DFA.trim_unreachable] Removing unreachable state 15\n",
      "[DEBUG DFA.trim_unreachable] Final states: {2, 4, 8, 13}\n",
      "[DEBUG DFA.intersection] Final intersection DFA: states={2, 4, 8, 13}, transitions={2: {'a': 2, 'b': 2}, 4: {'a': 8, 'b': 13}, 8: {'a': 8, 'b': 13}, 13: {'a': 2, 'b': 2}}\n",
      "[DEBUG DFA.is_equivalent] ¬Self ∩ Other DFA: states={2, 4, 8, 13}, final={1, 5, 9}\n",
      "[DEBUG DFA.union] Product states: [(2, 2), (2, 4), (2, 8), (2, 13), (4, 2), (4, 4), (4, 8), (4, 13), (8, 2), (8, 4), (8, 8), (8, 13), (13, 2), (13, 4), (13, 8), (13, 13)]\n",
      "[DEBUG DFA.union] Union start state: 5\n",
      "[DEBUG DFA.union] Union final states: set()\n",
      "[DEBUG DFA.union] Transition 0 --a--> 0 (from 2,2)\n",
      "[DEBUG DFA.union] Transition 0 --b--> 0 (from 2,2)\n",
      "[DEBUG DFA.union] Transition 1 --a--> 2 (from 2,4)\n",
      "[DEBUG DFA.union] Transition 1 --b--> 3 (from 2,4)\n",
      "[DEBUG DFA.union] Transition 2 --a--> 2 (from 2,8)\n",
      "[DEBUG DFA.union] Transition 2 --b--> 3 (from 2,8)\n",
      "[DEBUG DFA.union] Transition 3 --a--> 0 (from 2,13)\n",
      "[DEBUG DFA.union] Transition 3 --b--> 0 (from 2,13)\n",
      "[DEBUG DFA.union] Transition 4 --a--> 8 (from 4,2)\n",
      "[DEBUG DFA.union] Transition 4 --b--> 12 (from 4,2)\n",
      "[DEBUG DFA.union] Transition 5 --a--> 10 (from 4,4)\n",
      "[DEBUG DFA.union] Transition 5 --b--> 15 (from 4,4)\n",
      "[DEBUG DFA.union] Transition 6 --a--> 10 (from 4,8)\n",
      "[DEBUG DFA.union] Transition 6 --b--> 15 (from 4,8)\n",
      "[DEBUG DFA.union] Transition 7 --a--> 8 (from 4,13)\n",
      "[DEBUG DFA.union] Transition 7 --b--> 12 (from 4,13)\n",
      "[DEBUG DFA.union] Transition 8 --a--> 8 (from 8,2)\n",
      "[DEBUG DFA.union] Transition 8 --b--> 12 (from 8,2)\n",
      "[DEBUG DFA.union] Transition 9 --a--> 10 (from 8,4)\n",
      "[DEBUG DFA.union] Transition 9 --b--> 15 (from 8,4)\n",
      "[DEBUG DFA.union] Transition 10 --a--> 10 (from 8,8)\n",
      "[DEBUG DFA.union] Transition 10 --b--> 15 (from 8,8)\n",
      "[DEBUG DFA.union] Transition 11 --a--> 8 (from 8,13)\n",
      "[DEBUG DFA.union] Transition 11 --b--> 12 (from 8,13)\n",
      "[DEBUG DFA.union] Transition 12 --a--> 0 (from 13,2)\n",
      "[DEBUG DFA.union] Transition 12 --b--> 0 (from 13,2)\n",
      "[DEBUG DFA.union] Transition 13 --a--> 2 (from 13,4)\n",
      "[DEBUG DFA.union] Transition 13 --b--> 3 (from 13,4)\n",
      "[DEBUG DFA.union] Transition 14 --a--> 2 (from 13,8)\n",
      "[DEBUG DFA.union] Transition 14 --b--> 3 (from 13,8)\n",
      "[DEBUG DFA.union] Transition 15 --a--> 0 (from 13,13)\n",
      "[DEBUG DFA.union] Transition 15 --b--> 0 (from 13,13)\n"
     ]
    },
    {
     "data": {
      "text/markdown": [
       "### Trimming Unreachable States from DFA"
      ],
      "text/plain": [
       "<IPython.core.display.Markdown object>"
      ]
     },
     "metadata": {},
     "output_type": "display_data"
    },
    {
     "name": "stdout",
     "output_type": "stream",
     "text": [
      "[DEBUG DFA.trim_unreachable] Starting BFS from state 5\n",
      "[DEBUG DFA.trim_unreachable] Visited state 5\n",
      "[DEBUG DFA.trim_unreachable] Queued state 10\n",
      "[DEBUG DFA.trim_unreachable] Queued state 15\n",
      "[DEBUG DFA.trim_unreachable] Visited state 10\n",
      "[DEBUG DFA.trim_unreachable] Queued state 15\n",
      "[DEBUG DFA.trim_unreachable] Visited state 15\n",
      "[DEBUG DFA.trim_unreachable] Queued state 0\n",
      "[DEBUG DFA.trim_unreachable] Queued state 0\n",
      "[DEBUG DFA.trim_unreachable] Visited state 0\n",
      "[DEBUG DFA.trim_unreachable] Removing unreachable state 1\n",
      "[DEBUG DFA.trim_unreachable] Removing unreachable state 2\n",
      "[DEBUG DFA.trim_unreachable] Removing unreachable state 3\n",
      "[DEBUG DFA.trim_unreachable] Removing unreachable state 4\n",
      "[DEBUG DFA.trim_unreachable] Removing unreachable state 6\n",
      "[DEBUG DFA.trim_unreachable] Removing unreachable state 7\n",
      "[DEBUG DFA.trim_unreachable] Removing unreachable state 8\n",
      "[DEBUG DFA.trim_unreachable] Removing unreachable state 9\n",
      "[DEBUG DFA.trim_unreachable] Removing unreachable state 11\n",
      "[DEBUG DFA.trim_unreachable] Removing unreachable state 12\n",
      "[DEBUG DFA.trim_unreachable] Removing unreachable state 13\n",
      "[DEBUG DFA.trim_unreachable] Removing unreachable state 14\n",
      "[DEBUG DFA.trim_unreachable] Final states: {0, 5, 10, 15}\n",
      "[DEBUG DFA.union] Final union DFA: states={0, 5, 10, 15}, transitions={0: {'a': 0, 'b': 0}, 5: {'a': 10, 'b': 15}, 10: {'a': 10, 'b': 15}, 15: {'a': 0, 'b': 0}}\n",
      "[DEBUG DFA.is_equivalent] Symmetric difference: states={0, 5, 10, 15}, final=set()\n"
     ]
    },
    {
     "data": {
      "text/markdown": [
       "### Trimming Unreachable States from DFA"
      ],
      "text/plain": [
       "<IPython.core.display.Markdown object>"
      ]
     },
     "metadata": {},
     "output_type": "display_data"
    },
    {
     "name": "stdout",
     "output_type": "stream",
     "text": [
      "[DEBUG DFA.trim_unreachable] Starting BFS from state 5\n",
      "[DEBUG DFA.trim_unreachable] Visited state 5\n",
      "[DEBUG DFA.trim_unreachable] Queued state 10\n",
      "[DEBUG DFA.trim_unreachable] Queued state 15\n",
      "[DEBUG DFA.trim_unreachable] Visited state 10\n",
      "[DEBUG DFA.trim_unreachable] Queued state 15\n",
      "[DEBUG DFA.trim_unreachable] Visited state 15\n",
      "[DEBUG DFA.trim_unreachable] Queued state 0\n",
      "[DEBUG DFA.trim_unreachable] Queued state 0\n",
      "[DEBUG DFA.trim_unreachable] Visited state 0\n",
      "[DEBUG DFA.trim_unreachable] Final states: {0, 5, 10, 15}\n",
      "[DEBUG DFA.is_equivalent] After trimming: states={0, 5, 10, 15}\n",
      "[DEBUG DFA.is_empty] Queuing transition 5 --a--> 10\n",
      "[DEBUG DFA.is_empty] Queuing transition 5 --b--> 15\n",
      "[DEBUG DFA.is_empty] Queuing transition 10 --a--> 10\n",
      "[DEBUG DFA.is_empty] Queuing transition 10 --b--> 15\n",
      "[DEBUG DFA.is_empty] Queuing transition 15 --a--> 0\n",
      "[DEBUG DFA.is_empty] Queuing transition 15 --b--> 0\n",
      "[DEBUG DFA.is_empty] Queuing transition 0 --a--> 0\n",
      "[DEBUG DFA.is_empty] Queuing transition 0 --b--> 0\n",
      "[DEBUG DFA.is_empty] No final states reached, DFA is empty\n"
     ]
    },
    {
     "data": {
      "text/markdown": [
       "### Equivalence Check: Equivalent"
      ],
      "text/plain": [
       "<IPython.core.display.Markdown object>"
      ]
     },
     "metadata": {},
     "output_type": "display_data"
    }
   ],
   "source": [
    "if __name__ == \"__main__\":\n",
    "    alphabet = \"ab\"\n",
    "    # A more complex pattern to induce more learning iterations.\n",
    "    # This language accepts strings that start with 'a' and end with 'b'.\n",
    "    pattern = r\"(a|b)*b\"\n",
    "\n",
    "    # Check for a command-line argument that is not a flag.\n",
    "    if len(sys.argv) > 1 and not sys.argv[1].startswith('-'):\n",
    "        pattern = sys.argv[1]\n",
    "\n",
    "    __builtins__.print(f\"Learning language for regex: '{pattern}' over alphabet '{alphabet}'\")\n",
    "\n",
    "    teacher = PerfectTeacher(alphabet, pattern)\n",
    "    ttt = TTTAlgorithm(teacher, alphabet)\n",
    "    hypothesis, dtree = ttt.learn()\n",
    "\n",
    "    display(Markdown(\"### Learned Hypothesis\"))\n",
    "    hypothesis.print_hypothesis()\n",
    "    display(Markdown(\"### Final Discrimination Tree Visualization\"))\n",
    "    visualize_dtree(dtree)\n",
    "\n",
    "    visualize_dfa(hypothesis, filename=\"learned_dfa\")\n",
    "    __builtins__.print(\"\\nLearned DFA visualized as 'learned_dfa.png'\")\n",
    "\n",
    "    target_dfa = Regex.parse(pattern).to_nfa().determinise()\n",
    "    target_dfa.visualize(\"target_dfa\")\n",
    "    __builtins__.print(\"Target DFA visualized as 'target_dfa.png'\")\n",
    "\n",
    "    is_equiv, _ = target_dfa.is_equivalent(hypothesis.to_dfa())\n",
    "    display(Markdown(f\"### Equivalence Check: {'Equivalent' if is_equiv else 'Not Equivalent'}\"))\n"
   ]
  },
  {
   "cell_type": "markdown",
   "id": "2e4e8561",
   "metadata": {},
   "source": [
    "### Conclusion\n",
    "The TTT algorithm represents a significant advancement in the field of active automata learning, offering a more space- and query-efficient alternative to traditional approaches like Angluin’s L* algorithm. By leveraging discrimination trees and refined counterexample analysis, TTT minimizes redundancy and accelerates the learning process, making it especially effective for inferring the input grammars of blackbox programs.\n",
    "\n",
    "Through this tutorial, we have explored the theoretical foundations of the TTT algorithm, its practical implementation in Python, and its application to real-world grammar inference tasks. The step-by-step walkthrough, combined with visualizations of the learned automata and discrimination trees, demonstrates how TTT can systematically construct a minimal DFA that accurately models the target language.\n",
    "\n",
    "As software systems grow in complexity and the need for automated analysis increases, algorithms like TTT will play a crucial role in reverse engineering, protocol inference, and automated testing. By understanding and applying these techniques, practitioners and researchers can gain deeper insights into unknown systems and develop more robust tools for software analysis."
   ]
  },
  {
   "cell_type": "markdown",
   "id": "949dfffe",
   "metadata": {},
   "source": [
    "### References\n",
    "\n",
    "- https://stackoverflow.com/questions/34012886/print-binary-tree-level-by-level-in-python\n",
    "- Isberner, M., Howar, F., & Steffen, B. (2014). The TTT Algorithm: A Redundancy-Free Approach to Active Automata Learning. Springer, Cham. https://doi.org/10.1007/978-3-319-11164-3_26\n",
    "- Angluin, D. (1987). Learning Regular Sets from Queries and Counterexamples. Information and Computation, 75(2), 87–106."
   ]
  }
 ],
 "metadata": {
  "kernelspec": {
   "display_name": "Python 3",
   "language": "python",
   "name": "python3"
  },
  "language_info": {
   "codemirror_mode": {
    "name": "ipython",
    "version": 3
   },
   "file_extension": ".py",
   "mimetype": "text/x-python",
   "name": "python",
   "nbconvert_exporter": "python",
   "pygments_lexer": "ipython3",
   "version": "3.13.5"
  }
 },
 "nbformat": 4,
 "nbformat_minor": 5
}
